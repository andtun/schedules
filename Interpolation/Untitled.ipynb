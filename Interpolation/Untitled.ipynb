{
 "cells": [
  {
   "cell_type": "markdown",
   "metadata": {},
   "source": [
    "# Важно: оценка в дереве теперь только по $\\nu$ !"
   ]
  },
  {
   "cell_type": "code",
   "execution_count": 1,
   "metadata": {},
   "outputs": [],
   "source": [
    "import json\n",
    "import time\n",
    "import glob\n",
    "import pickle\n",
    "import random\n",
    "import numpy as np\n",
    "import pandas as pd\n",
    "import matplotlib.pyplot as plt\n",
    "import numpy.polynomial.chebyshev as cheb\n",
    "from scipy.stats import moment\n",
    "from itertools import permutations\n",
    "from ipywidgets import IntProgress\n",
    "from IPython.display import display\n",
    "from IPython.display import clear_output\n",
    "from scipy.interpolate import lagrange\n",
    "%matplotlib inline\n",
    "import matplotlib.pyplot as plt\n",
    "from IPython.display import display\n",
    "import pandas as pd\n",
    "\n",
    "import shutil\n",
    "import sys\n",
    "import os.path\n",
    "\n",
    "from pyomo.environ import *\n",
    "from pyomo.gdp import *\n",
    "\n",
    "from pyomo.environ import *\n",
    "from pyomo.gdp import *"
   ]
  },
  {
   "cell_type": "code",
   "execution_count": 17,
   "metadata": {},
   "outputs": [],
   "source": [
    "timeout = 200\n",
    "LAMBDA = 0.01\n",
    "MU = 100\n",
    "SIGMA = 40\n",
    "VARK = 1\n",
    "\n",
    "def r(task):\n",
    "    ind = 0\n",
    "    if isinstance(task, TaskSet):\n",
    "        return task.array[ind]\n",
    "    return task[ind]\n",
    "\n",
    "def p(task):\n",
    "    ind = 1\n",
    "    if isinstance(task, TaskSet):\n",
    "        return task.array[ind]\n",
    "    return task[ind]\n",
    "\n",
    "def d(task):\n",
    "    ind = 2\n",
    "    if isinstance(task, TaskSet):\n",
    "        return task.array[ind]\n",
    "    return task[ind]\n",
    "\n",
    "def remove(arr, elem):\n",
    "    return np.delete(arr, np.where(np.in1d(arr, elem)))\n",
    "\n",
    "class TaskSet:\n",
    "    \n",
    "    def __init__(self, a):\n",
    "        if isinstance(a, int):\n",
    "            rs = np.random.uniform(0, 100, size=(a,))\n",
    "            ps = np.random.uniform(0, 100, size=(a,))\n",
    "            ds = np.random.uniform(0, 100, size=(a,))\n",
    "            self.array = np.array([rs, ps, ds]).T.astype(float)\n",
    "        else:\n",
    "            self.array = np.copy(a)\n",
    "            \n",
    "    def __repr__(self):\n",
    "        return \"  r  |  p  |  d  \\n\" + str(self.array)\n",
    "    \n",
    "    def copy(self):\n",
    "        return TaskSet(self.array)\n",
    "    \n",
    "    def __getitem__(self, key):\n",
    "        return TaskSet(self.array[key])\n",
    "    \n",
    "    def __iter__(self):\n",
    "        return iter(self.array)\n",
    "    \n",
    "    def C(self, i, tau=0):\n",
    "        t = tau\n",
    "        for task in self.array[:i+1]:\n",
    "            if t < r(task): t = r(task)\n",
    "            t += p(task)\n",
    "        return t\n",
    "    \n",
    "    def C_max(self, tau=0):\n",
    "        t = tau\n",
    "        for task in self.array:\n",
    "            if t < r(task): t = r(task)\n",
    "            t += p(task)\n",
    "        return t\n",
    "    \n",
    "    def L(self, i=None, tau=0):\n",
    "        if i is None:\n",
    "            return self.C_max(tau) - d(self[-1])\n",
    "        return self.C(i, tau) - d(self[i])\n",
    "    \n",
    "    def L_max(self, tau=0):\n",
    "        if len(self) == 0: return float('inf')\n",
    "        return max([self.L(i, tau) for i, _ in enumerate(self)])\n",
    "    \n",
    "    def T(self, i=None, tau=0):\n",
    "        return max(0, self.L(i, tau))\n",
    "    \n",
    "    def T_max(self, tau=0):\n",
    "        return max(0, self.L_max(tau))\n",
    "    \n",
    "    def __len__(self):\n",
    "        return len(self.array)\n",
    "    \n",
    "    def __eq__(self, other):\n",
    "        return self.array == other\n",
    "    \n",
    "    def without(self, indexes):\n",
    "        return TaskSet(np.delete(self.array, np.array(indexes).astype(float), axis=0))\n",
    "    \n",
    "    def find(self, item):\n",
    "        return np.where((self.array == item).all(axis=1))[0]\n",
    "    \n",
    "    def transpose(self):\n",
    "        return self.array.T\n",
    "    \n",
    "    def scale_r(self, alpha):\n",
    "        self.array[:,0] = self.array[:,0]*alpha\n",
    "        return self\n",
    "    \n",
    "    def scale(self, alpha, key='r'):\n",
    "        if key == 'r': ind = 0\n",
    "        elif key == 'p': ind = 1\n",
    "        else: ind = 2\n",
    "        self.array[:,ind] = self.array[:,ind]*alpha\n",
    "        return self\n",
    "    \n",
    "def dual(N, tau, B):\n",
    "    if len(N.without(B)) == 0: return float('inf')\n",
    "    pi_r = r(np.argsort(N, axis=0).transpose())\n",
    "    bestL = N[pi_r].L(tau=tau)\n",
    "    for i_k in pi_r:\n",
    "        toDrop = B.copy()\n",
    "        toDrop.append(i_k)\n",
    "        #print(toDrop)\n",
    "        s = N.without(toDrop)\n",
    "        #print(s)\n",
    "        if len(s) != 0:\n",
    "            task_l = min(s, key=r)\n",
    "            i_l = N.find(task_l)[0]\n",
    "            pi_k = remove(pi_r, [i_l, i_k])\n",
    "            pi_k = np.insert(pi_k, 0, i_l)\n",
    "            pi_k = np.append(pi_k, i_k)\n",
    "            L_k = N[pi_k].L(tau=tau)\n",
    "            if L_k < bestL:\n",
    "                bestL = L_k\n",
    "    additionalL = N[pi_r].L(i=0, tau=tau)\n",
    "    if additionalL > bestL:\n",
    "        bestL = additionalL\n",
    "    return bestL\n",
    "\n",
    "class Instance:\n",
    "    \n",
    "    def __init__(self, N, tau=0, pi=[], B=[]):\n",
    "        self.N = N.copy()\n",
    "        self.tau = tau\n",
    "        self.pi = pi.copy()\n",
    "        self.B = B.copy()\n",
    "        self.nu = dual(N, tau, B)\n",
    "        \n",
    "    def __getitem__(self, key):\n",
    "        return TaskSet(self.N.array[key])\n",
    "        \n",
    "    def best_job(self):\n",
    "        s = self.N.without(self.B)\n",
    "        sn = s[r(s.transpose()) <= self.tau]\n",
    "        if len(sn) == 0:\n",
    "            f = min(s, key=r)\n",
    "            #self.tau = r(f)\n",
    "            #self.nu = dual(self.N, self.tau, self.B)\n",
    "        else:\n",
    "            f = min(sn, key=d)\n",
    "        return self.N.find(f)[0]\n",
    "    \n",
    "    def L(self, i=None):\n",
    "        return self[self.pi].L(i, self.tau)\n",
    "    \n",
    "    def T(self, i=None):\n",
    "        return self[self.pi].T(i, self.tau)\n",
    "        \n",
    "    def L_max(self):\n",
    "        return self[self.pi].L_max(self.tau)\n",
    "    \n",
    "    def T_max(self):\n",
    "        return self[self.pi].T_max(self.tau)\n",
    "    \n",
    "    def __repr__(self):\n",
    "        return \"Instance:\\n\" + repr(self.N) + \"\\nnu  = \" + str(self.nu) + \"\\ntau = \" + str(self.tau) + \"\\npi  = \" + str(self.pi) + \"\\nB   = \" + str(self.B)\n",
    "    \n",
    "    \n",
    "def main(N, tau=0, verbose=False, modified=False):\n",
    "    tb = time.time()\n",
    "    b_counter = 0\n",
    "    #print(\"bi\")\n",
    "    instances = [Instance(N, tau)]\n",
    "    #print(\"ai\")\n",
    "    if modified: bestPi = list(range(len(N)))\n",
    "    else: bestPi = []\n",
    "    while len(instances) > 0:\n",
    "        ti = time.time()\n",
    "        if ti - tb > timeout:\n",
    "            return TaskSet([]), -1\n",
    "        bestInstanceIndex, bestInstance = min(enumerate(instances), key=lambda x: x[1].nu) # + N[x[1].pi].L_max(tau))\n",
    "        instances.pop(bestInstanceIndex)\n",
    "        f = bestInstance.best_job()\n",
    "        f_data = bestInstance[f]\n",
    "        N1 = bestInstance.N.without(f)\n",
    "        tau1 = max(r(f_data), bestInstance.tau) + p(f_data)\n",
    "        B1 = []\n",
    "        pi1 = bestInstance.pi.copy()\n",
    "        pi1.append(N.find(f_data)[0])\n",
    "        i1 = Instance(N1, tau1, pi1, B1)\n",
    "        N2 = bestInstance.N\n",
    "        tau2 = bestInstance.tau\n",
    "        B2 = bestInstance.B.copy()\n",
    "        B2.append(N2.find(f_data)[0]) #!\n",
    "        pi2 = bestInstance.pi\n",
    "        i2 = Instance(N2, tau2, pi2, B2)\n",
    "        instances += [i1, i2]\n",
    "        b_counter += 1\n",
    "        #print(i1)\n",
    "        if len(pi1) == len(N):\n",
    "            #print(N[bestPi].L_max(tau))\n",
    "            #print(pi1)\n",
    "            if N[pi1].L_max(tau) < N[bestPi].L_max(tau):\n",
    "                bestPi = pi1.copy()\n",
    "                if verbose: print(bestPi, '\\tLmax =', N[bestPi].L_max(tau))\n",
    "        #lb = len(instances)\n",
    "        instances = [i for i in instances if i.nu < N[bestPi].L_max(tau)]\n",
    "        #print(lb, len(instances))\n",
    "    return bestPi, b_counter\n",
    "        \n",
    "def bruteforce(N, tau=0):\n",
    "    best_L = N.L_max(tau)\n",
    "    best_N = N.copy()\n",
    "    for perm in permutations(N):\n",
    "        s = TaskSet(perm)\n",
    "        L = s.L_max(tau)\n",
    "        if L < best_L:\n",
    "            best_L = L\n",
    "            best_N = s.copy()\n",
    "    return best_L, best_N\n",
    "\n",
    "def generate_instances(N_TASKS, N_JOBS, fname='data.pickle'):\n",
    "    tasks = []\n",
    "    for i in range(N_TASKS):\n",
    "        s = TaskSet(N_JOBS)\n",
    "        tasks.append(s)\n",
    "\n",
    "    with open(fname, 'wb') as f:\n",
    "        pickle.dump(tasks, f)\n",
    "        \n",
    "def parse_instances(fname='data.pickle'):\n",
    "    with open('data.pickle', 'rb') as f:\n",
    "        tasks = pickle.load(f)\n",
    "    print(tasks[3])\n",
    "    return tasks"
   ]
  },
  {
   "cell_type": "code",
   "execution_count": 46,
   "metadata": {},
   "outputs": [],
   "source": [
    "generate_instances(20, N_JOBS=15, fname='bigdata.pickle')"
   ]
  },
  {
   "cell_type": "code",
   "execution_count": 47,
   "metadata": {},
   "outputs": [
    {
     "name": "stdout",
     "output_type": "stream",
     "text": [
      "  r  |  p  |  d  \n",
      "[[ 2.16556888 34.79128049 11.62923816]\n",
      " [77.22134821  2.7153985  50.63101523]\n",
      " [46.80189537  8.84013274 33.14905266]\n",
      " [92.26116721 30.9855351  27.68921598]\n",
      " [31.90384551 66.9763106   7.7273571 ]]\n"
     ]
    },
    {
     "data": {
      "text/plain": [
       "  r  |  p  |  d  \n",
       "[[94.05035052 14.22837734 14.7766311 ]\n",
       " [ 0.52865289 56.90895959  2.1185308 ]\n",
       " [69.02423907 29.94658433 53.29554081]\n",
       " [84.35517519 66.02809104 38.84450937]\n",
       " [22.30859442 40.82901066 68.15421712]]"
      ]
     },
     "execution_count": 47,
     "metadata": {},
     "output_type": "execute_result"
    }
   ],
   "source": [
    "tasks = parse_instances(fname='bigdata.pickle')\n",
    "tasks[26]"
   ]
  },
  {
   "cell_type": "code",
   "execution_count": 22,
   "metadata": {},
   "outputs": [
    {
     "data": {
      "application/vnd.jupyter.widget-view+json": {
       "model_id": "50e2248db7f74a4c981336445a742810",
       "version_major": 2,
       "version_minor": 0
      },
      "text/plain": [
       "IntProgress(value=0, max=250)"
      ]
     },
     "metadata": {},
     "output_type": "display_data"
    },
    {
     "name": "stderr",
     "output_type": "stream",
     "text": [
      "C:\\ProgramData\\Anaconda3\\lib\\site-packages\\ipykernel_launcher.py:87: DeprecationWarning: using a non-integer array as obj in delete will result in an error in the future\n"
     ]
    }
   ],
   "source": [
    "pBar = IntProgress(min=0, max=len(tasks))\n",
    "display(pBar)\n",
    "for s in tasks:\n",
    "    pBar.value += 1\n",
    "    pi, count = main(s)\n",
    "    mainL = s[pi].L_max()\n",
    "    bruteL, brutePi = bruteforce(s)\n",
    "    #print(mainL, bruteL)\n",
    "    if not np.isclose(mainL, bruteL):\n",
    "        print(mainL, bruteL)\n",
    "        raise RuntimeError()"
   ]
  },
  {
   "cell_type": "code",
   "execution_count": 48,
   "metadata": {},
   "outputs": [
    {
     "data": {
      "text/plain": [
       "  r  |  p  |  d  \n",
       "[[ 2.16556888 34.79128049 11.62923816]\n",
       " [77.22134821  2.7153985  50.63101523]\n",
       " [46.80189537  8.84013274 33.14905266]\n",
       " [92.26116721 30.9855351  27.68921598]\n",
       " [31.90384551 66.9763106   7.7273571 ]]"
      ]
     },
     "execution_count": 48,
     "metadata": {},
     "output_type": "execute_result"
    }
   ],
   "source": [
    "tasks[3]"
   ]
  },
  {
   "cell_type": "code",
   "execution_count": 86,
   "metadata": {},
   "outputs": [
    {
     "data": {
      "text/plain": [
       "  r  |  p  |  d  \n",
       "[[88.34521135 82.99101433 69.16930437]\n",
       " [89.5125829  37.72053585 24.76042189]\n",
       " [ 0.19709213 51.76358729 83.47228968]\n",
       " [19.93645728 24.73372123 56.32415702]\n",
       " [63.15473312 70.43462476 62.53642059]\n",
       " [62.94179913 75.77623568 56.26826725]\n",
       " [67.95460076 35.82862015 97.53057667]\n",
       " [ 0.5432533  91.71776866 75.7964788 ]\n",
       " [87.50903627 35.69339769  1.25546445]\n",
       " [32.48543244 23.82260724 82.41502621]\n",
       " [78.76933489 71.84935833  9.62871467]\n",
       " [50.69144122  2.01310641 41.27222649]]"
      ]
     },
     "execution_count": 86,
     "metadata": {},
     "output_type": "execute_result"
    }
   ],
   "source": [
    "s = TaskSet(12)\n",
    "s"
   ]
  },
  {
   "cell_type": "code",
   "execution_count": 87,
   "metadata": {},
   "outputs": [
    {
     "name": "stderr",
     "output_type": "stream",
     "text": [
      "C:\\ProgramData\\Anaconda3\\lib\\site-packages\\ipykernel_launcher.py:87: DeprecationWarning: using a non-integer array as obj in delete will result in an error in the future\n"
     ]
    },
    {
     "name": "stdout",
     "output_type": "stream",
     "text": [
      "[2, 11, 7, 8, 10, 1, 5, 3, 4, 0, 9, 6] \tLmax = 507.0110930840969\n"
     ]
    },
    {
     "data": {
      "text/plain": [
       "([2, 11, 7, 8, 10, 1, 5, 3, 4, 0, 9, 6], 778)"
      ]
     },
     "execution_count": 87,
     "metadata": {},
     "output_type": "execute_result"
    }
   ],
   "source": [
    "main(s, verbose=True, modified=False)"
   ]
  },
  {
   "cell_type": "code",
   "execution_count": 73,
   "metadata": {},
   "outputs": [
    {
     "data": {
      "text/plain": [
       "(352.93554609699225,   r  |  p  |  d  \n",
       " [[ 6.95744241 48.24805616 29.45265499]\n",
       "  [46.0901863  79.78277727 19.21769173]\n",
       "  [32.67133666 64.32868135 30.71920982]\n",
       "  [97.59420967 61.974498   69.74263379]\n",
       "  [97.88176115 41.07848094 27.52921444]\n",
       "  [80.06065527  1.86547983 21.94494228]\n",
       "  [89.15567567 87.40837201 51.02799648]\n",
       "  [32.19708775 50.83769263 89.5459345 ]])"
      ]
     },
     "execution_count": 73,
     "metadata": {},
     "output_type": "execute_result"
    }
   ],
   "source": [
    "bruteforce(s)"
   ]
  },
  {
   "cell_type": "code",
   "execution_count": 33,
   "metadata": {},
   "outputs": [],
   "source": [
    "generate_instances(250, 8, '8.pickle')\n",
    "tasks = parse_instances('8.pickle')"
   ]
  },
  {
   "cell_type": "code",
   "execution_count": 34,
   "metadata": {},
   "outputs": [],
   "source": [
    "def lagrange_interpolation(key, s):\n",
    "    orig_s = s.copy()\n",
    "    this_scheds = []\n",
    "    alphaRange = np.arange(0, 2.1, 0.2)\n",
    "    scaledSchedules = []\n",
    "    for alpha in alphaRange:\n",
    "        scaledSchedules.append(s.copy().scale(alpha, key=key))\n",
    "    flattenedScaledSchedules = list(map(lambda x: x.array.flatten(), scaledSchedules))\n",
    "\n",
    "    #print(\"\\rCurrently working with\", n)\n",
    "    approxResults = []\n",
    "    if len(alphaRange) != len(scaledSchedules): raise RuntimeError()\n",
    "    for i, a in enumerate(alphaRange):\n",
    "        if a != 1:\n",
    "            s = scaledSchedules[i]\n",
    "            sched, count = main(s, verbose=False)\n",
    "            if count == -1: continue\n",
    "            this_scheds.append(sched)\n",
    "            if sched != this_scheds[-1]:\n",
    "                if orig_s[sched].L_max() != orig_s[this_scheds[-1]].L_max():\n",
    "                    print(\"Schedules non-equivalent!\")\n",
    "                    raise Exception()\n",
    "            Lmax = s[sched].L_max()\n",
    "            approxResults.append((a, Lmax))\n",
    "    approxResults = np.array(approxResults)\n",
    "    x = approxResults[:,0]\n",
    "    y = approxResults[:,1]\n",
    "    #print(len(x))\n",
    "    #print(x, y)\n",
    "    poly = lagrange(x, y)\n",
    "    return poly(1.), this_scheds"
   ]
  },
  {
   "cell_type": "code",
   "execution_count": 43,
   "metadata": {},
   "outputs": [
    {
     "data": {
      "application/vnd.jupyter.widget-view+json": {
       "model_id": "188e1598c5594f26a67fd9a184e33e0b",
       "version_major": 2,
       "version_minor": 0
      },
      "text/plain": [
       "IntProgress(value=0, max=250)"
      ]
     },
     "metadata": {},
     "output_type": "display_data"
    },
    {
     "name": "stderr",
     "output_type": "stream",
     "text": [
      "C:\\ProgramData\\Anaconda3\\lib\\site-packages\\ipykernel_launcher.py:87: DeprecationWarning: using a non-integer array as obj in delete will result in an error in the future\n"
     ]
    }
   ],
   "source": [
    "pBar = IntProgress(min=0, max=len(tasks))\n",
    "display(pBar)\n",
    "for t in tasks:\n",
    "    lagrange_interpolation('r', t)\n",
    "    pBar.value += 1"
   ]
  },
  {
   "cell_type": "code",
   "execution_count": 44,
   "metadata": {},
   "outputs": [
    {
     "data": {
      "application/vnd.jupyter.widget-view+json": {
       "model_id": "1270b1e2a8f640298465176f01c47416",
       "version_major": 2,
       "version_minor": 0
      },
      "text/plain": [
       "IntProgress(value=0, max=250)"
      ]
     },
     "metadata": {},
     "output_type": "display_data"
    },
    {
     "name": "stderr",
     "output_type": "stream",
     "text": [
      "C:\\ProgramData\\Anaconda3\\lib\\site-packages\\ipykernel_launcher.py:87: DeprecationWarning: using a non-integer array as obj in delete will result in an error in the future\n"
     ]
    }
   ],
   "source": [
    "pBar = IntProgress(min=0, max=len(tasks))\n",
    "display(pBar)\n",
    "for t in tasks:\n",
    "    lagrange_interpolation('p', t)\n",
    "    pBar.value += 1"
   ]
  },
  {
   "cell_type": "code",
   "execution_count": 45,
   "metadata": {},
   "outputs": [
    {
     "data": {
      "application/vnd.jupyter.widget-view+json": {
       "model_id": "43b357500c634b69b1ab9a95d348c1da",
       "version_major": 2,
       "version_minor": 0
      },
      "text/plain": [
       "IntProgress(value=0, max=250)"
      ]
     },
     "metadata": {},
     "output_type": "display_data"
    },
    {
     "name": "stderr",
     "output_type": "stream",
     "text": [
      "C:\\ProgramData\\Anaconda3\\lib\\site-packages\\ipykernel_launcher.py:87: DeprecationWarning: using a non-integer array as obj in delete will result in an error in the future\n"
     ]
    }
   ],
   "source": [
    "pBar = IntProgress(min=0, max=len(tasks))\n",
    "display(pBar)\n",
    "for t in tasks:\n",
    "    lagrange_interpolation('d', t)\n",
    "    pBar.value += 1"
   ]
  },
  {
   "cell_type": "markdown",
   "metadata": {},
   "source": [
    "# Simplex"
   ]
  },
  {
   "cell_type": "code",
   "execution_count": 116,
   "metadata": {},
   "outputs": [
    {
     "name": "stdout",
     "output_type": "stream",
     "text": [
      "ERROR: Constructing component 'wlimit' from data=None failed: ValueError:\n",
      "    Constraint 'wlimit' does not have a proper value. Found 'True' Expecting a\n",
      "    tuple or equation. Examples:\n",
      "       sum(model.costs) == model.income (0, model.price[item], 50)\n"
     ]
    },
    {
     "ename": "ValueError",
     "evalue": "Constraint 'wlimit' does not have a proper value. Found 'True'\nExpecting a tuple or equation. Examples:\n   sum(model.costs) == model.income\n   (0, model.price[item], 50)",
     "output_type": "error",
     "traceback": [
      "\u001b[1;31m---------------------------------------------------------------------------\u001b[0m",
      "\u001b[1;31mAttributeError\u001b[0m                            Traceback (most recent call last)",
      "\u001b[1;32mC:\\ProgramData\\Anaconda3\\lib\\site-packages\\pyomo\\core\\base\\constraint.py\u001b[0m in \u001b[0;36mset_value\u001b[1;34m(self, expr)\u001b[0m\n\u001b[0;32m    462\u001b[0m             \u001b[1;32mtry\u001b[0m\u001b[1;33m:\u001b[0m\u001b[1;33m\u001b[0m\u001b[1;33m\u001b[0m\u001b[0m\n\u001b[1;32m--> 463\u001b[1;33m                 \u001b[0mrelational_expr\u001b[0m \u001b[1;33m=\u001b[0m \u001b[0mexpr\u001b[0m\u001b[1;33m.\u001b[0m\u001b[0mis_relational\u001b[0m\u001b[1;33m(\u001b[0m\u001b[1;33m)\u001b[0m\u001b[1;33m\u001b[0m\u001b[1;33m\u001b[0m\u001b[0m\n\u001b[0m\u001b[0;32m    464\u001b[0m                 \u001b[1;32mif\u001b[0m \u001b[1;32mnot\u001b[0m \u001b[0mrelational_expr\u001b[0m\u001b[1;33m:\u001b[0m\u001b[1;33m\u001b[0m\u001b[1;33m\u001b[0m\u001b[0m\n",
      "\u001b[1;31mAttributeError\u001b[0m: 'numpy.bool_' object has no attribute 'is_relational'",
      "\nDuring handling of the above exception, another exception occurred:\n",
      "\u001b[1;31mValueError\u001b[0m                                Traceback (most recent call last)",
      "\u001b[1;32m<ipython-input-116-e5a0243db3d1>\u001b[0m in \u001b[0;36m<module>\u001b[1;34m\u001b[0m\n\u001b[0;32m     27\u001b[0m \u001b[1;33m\u001b[0m\u001b[0m\n\u001b[0;32m     28\u001b[0m \u001b[0mmodel\u001b[0m\u001b[1;33m.\u001b[0m\u001b[0mtarget\u001b[0m \u001b[1;33m=\u001b[0m \u001b[0mObjective\u001b[0m\u001b[1;33m(\u001b[0m\u001b[0mrule\u001b[0m\u001b[1;33m=\u001b[0m\u001b[0mcalc_L_max\u001b[0m\u001b[1;33m,\u001b[0m \u001b[0msense\u001b[0m\u001b[1;33m=\u001b[0m\u001b[0mminimize\u001b[0m\u001b[1;33m)\u001b[0m\u001b[1;33m\u001b[0m\u001b[1;33m\u001b[0m\u001b[0m\n\u001b[1;32m---> 29\u001b[1;33m \u001b[0mmodel\u001b[0m\u001b[1;33m.\u001b[0m\u001b[0mwlimit\u001b[0m \u001b[1;33m=\u001b[0m \u001b[0mConstraint\u001b[0m\u001b[1;33m(\u001b[0m\u001b[0mrule\u001b[0m\u001b[1;33m=\u001b[0m\u001b[0mcheck_pi\u001b[0m\u001b[1;33m)\u001b[0m\u001b[1;33m\u001b[0m\u001b[1;33m\u001b[0m\u001b[0m\n\u001b[0m\u001b[0;32m     30\u001b[0m \u001b[0mopt\u001b[0m \u001b[1;33m=\u001b[0m \u001b[0mSolverFactory\u001b[0m\u001b[1;33m(\u001b[0m\u001b[0msolver_name\u001b[0m\u001b[1;33m)\u001b[0m\u001b[1;33m\u001b[0m\u001b[1;33m\u001b[0m\u001b[0m\n\u001b[0;32m     31\u001b[0m \u001b[0mresults\u001b[0m \u001b[1;33m=\u001b[0m \u001b[0mopt\u001b[0m\u001b[1;33m.\u001b[0m\u001b[0msolve\u001b[0m\u001b[1;33m(\u001b[0m\u001b[0mmodel\u001b[0m\u001b[1;33m,\u001b[0m \u001b[0mtee\u001b[0m\u001b[1;33m=\u001b[0m\u001b[1;32mTrue\u001b[0m\u001b[1;33m)\u001b[0m\u001b[1;33m\u001b[0m\u001b[1;33m\u001b[0m\u001b[0m\n",
      "\u001b[1;32mC:\\ProgramData\\Anaconda3\\lib\\site-packages\\pyomo\\core\\base\\block.py\u001b[0m in \u001b[0;36m__setattr__\u001b[1;34m(self, name, val)\u001b[0m\n\u001b[0;32m    541\u001b[0m                 \u001b[1;31m# Pyomo components are added with the add_component method.\u001b[0m\u001b[1;33m\u001b[0m\u001b[1;33m\u001b[0m\u001b[1;33m\u001b[0m\u001b[0m\n\u001b[0;32m    542\u001b[0m                 \u001b[1;31m#\u001b[0m\u001b[1;33m\u001b[0m\u001b[1;33m\u001b[0m\u001b[1;33m\u001b[0m\u001b[0m\n\u001b[1;32m--> 543\u001b[1;33m                 \u001b[0mself\u001b[0m\u001b[1;33m.\u001b[0m\u001b[0madd_component\u001b[0m\u001b[1;33m(\u001b[0m\u001b[0mname\u001b[0m\u001b[1;33m,\u001b[0m \u001b[0mval\u001b[0m\u001b[1;33m)\u001b[0m\u001b[1;33m\u001b[0m\u001b[1;33m\u001b[0m\u001b[0m\n\u001b[0m\u001b[0;32m    544\u001b[0m             \u001b[1;32melse\u001b[0m\u001b[1;33m:\u001b[0m\u001b[1;33m\u001b[0m\u001b[1;33m\u001b[0m\u001b[0m\n\u001b[0;32m    545\u001b[0m                 \u001b[1;31m#\u001b[0m\u001b[1;33m\u001b[0m\u001b[1;33m\u001b[0m\u001b[1;33m\u001b[0m\u001b[0m\n",
      "\u001b[1;32mC:\\ProgramData\\Anaconda3\\lib\\site-packages\\pyomo\\core\\base\\block.py\u001b[0m in \u001b[0;36madd_component\u001b[1;34m(self, name, val)\u001b[0m\n\u001b[0;32m   1079\u001b[0m                              _blockName, str(data))\n\u001b[0;32m   1080\u001b[0m             \u001b[1;32mtry\u001b[0m\u001b[1;33m:\u001b[0m\u001b[1;33m\u001b[0m\u001b[1;33m\u001b[0m\u001b[0m\n\u001b[1;32m-> 1081\u001b[1;33m                 \u001b[0mval\u001b[0m\u001b[1;33m.\u001b[0m\u001b[0mconstruct\u001b[0m\u001b[1;33m(\u001b[0m\u001b[0mdata\u001b[0m\u001b[1;33m)\u001b[0m\u001b[1;33m\u001b[0m\u001b[1;33m\u001b[0m\u001b[0m\n\u001b[0m\u001b[0;32m   1082\u001b[0m             \u001b[1;32mexcept\u001b[0m\u001b[1;33m:\u001b[0m\u001b[1;33m\u001b[0m\u001b[1;33m\u001b[0m\u001b[0m\n\u001b[0;32m   1083\u001b[0m                 \u001b[0merr\u001b[0m \u001b[1;33m=\u001b[0m \u001b[0msys\u001b[0m\u001b[1;33m.\u001b[0m\u001b[0mexc_info\u001b[0m\u001b[1;33m(\u001b[0m\u001b[1;33m)\u001b[0m\u001b[1;33m[\u001b[0m\u001b[1;36m1\u001b[0m\u001b[1;33m]\u001b[0m\u001b[1;33m\u001b[0m\u001b[1;33m\u001b[0m\u001b[0m\n",
      "\u001b[1;32mC:\\ProgramData\\Anaconda3\\lib\\site-packages\\pyomo\\core\\base\\constraint.py\u001b[0m in \u001b[0;36mconstruct\u001b[1;34m(self, data)\u001b[0m\n\u001b[0;32m    763\u001b[0m                            err))\n\u001b[0;32m    764\u001b[0m                     \u001b[1;32mraise\u001b[0m\u001b[1;33m\u001b[0m\u001b[1;33m\u001b[0m\u001b[0m\n\u001b[1;32m--> 765\u001b[1;33m             \u001b[0mself\u001b[0m\u001b[1;33m.\u001b[0m\u001b[0m_setitem_when_not_present\u001b[0m\u001b[1;33m(\u001b[0m\u001b[1;32mNone\u001b[0m\u001b[1;33m,\u001b[0m \u001b[0mtmp\u001b[0m\u001b[1;33m)\u001b[0m\u001b[1;33m\u001b[0m\u001b[1;33m\u001b[0m\u001b[0m\n\u001b[0m\u001b[0;32m    766\u001b[0m \u001b[1;33m\u001b[0m\u001b[0m\n\u001b[0;32m    767\u001b[0m         \u001b[1;32melse\u001b[0m\u001b[1;33m:\u001b[0m\u001b[1;33m\u001b[0m\u001b[1;33m\u001b[0m\u001b[0m\n",
      "\u001b[1;32mC:\\ProgramData\\Anaconda3\\lib\\site-packages\\pyomo\\core\\base\\constraint.py\u001b[0m in \u001b[0;36m_setitem_when_not_present\u001b[1;34m(self, index, value)\u001b[0m\n\u001b[0;32m    716\u001b[0m         \u001b[1;32melse\u001b[0m\u001b[1;33m:\u001b[0m\u001b[1;33m\u001b[0m\u001b[1;33m\u001b[0m\u001b[0m\n\u001b[0;32m    717\u001b[0m             return super(Constraint, self)._setitem_when_not_present(\n\u001b[1;32m--> 718\u001b[1;33m                 index=index, value=value)\n\u001b[0m\u001b[0;32m    719\u001b[0m \u001b[1;33m\u001b[0m\u001b[0m\n\u001b[0;32m    720\u001b[0m     \u001b[1;32mdef\u001b[0m \u001b[0mconstruct\u001b[0m\u001b[1;33m(\u001b[0m\u001b[0mself\u001b[0m\u001b[1;33m,\u001b[0m \u001b[0mdata\u001b[0m\u001b[1;33m=\u001b[0m\u001b[1;32mNone\u001b[0m\u001b[1;33m)\u001b[0m\u001b[1;33m:\u001b[0m\u001b[1;33m\u001b[0m\u001b[1;33m\u001b[0m\u001b[0m\n",
      "\u001b[1;32mC:\\ProgramData\\Anaconda3\\lib\\site-packages\\pyomo\\core\\base\\indexed_component.py\u001b[0m in \u001b[0;36m_setitem_when_not_present\u001b[1;34m(self, index, value)\u001b[0m\n\u001b[0;32m    756\u001b[0m         \u001b[1;32mtry\u001b[0m\u001b[1;33m:\u001b[0m\u001b[1;33m\u001b[0m\u001b[1;33m\u001b[0m\u001b[0m\n\u001b[0;32m    757\u001b[0m             \u001b[1;32mif\u001b[0m \u001b[0mvalue\u001b[0m \u001b[1;32mis\u001b[0m \u001b[1;32mnot\u001b[0m \u001b[0m_NotSpecified\u001b[0m\u001b[1;33m:\u001b[0m\u001b[1;33m\u001b[0m\u001b[1;33m\u001b[0m\u001b[0m\n\u001b[1;32m--> 758\u001b[1;33m                 \u001b[0mobj\u001b[0m\u001b[1;33m.\u001b[0m\u001b[0mset_value\u001b[0m\u001b[1;33m(\u001b[0m\u001b[0mvalue\u001b[0m\u001b[1;33m)\u001b[0m\u001b[1;33m\u001b[0m\u001b[1;33m\u001b[0m\u001b[0m\n\u001b[0m\u001b[0;32m    759\u001b[0m         \u001b[1;32mexcept\u001b[0m\u001b[1;33m:\u001b[0m\u001b[1;33m\u001b[0m\u001b[1;33m\u001b[0m\u001b[0m\n\u001b[0;32m    760\u001b[0m             \u001b[1;32mdel\u001b[0m \u001b[0mself\u001b[0m\u001b[1;33m.\u001b[0m\u001b[0m_data\u001b[0m\u001b[1;33m[\u001b[0m\u001b[0mindex\u001b[0m\u001b[1;33m]\u001b[0m\u001b[1;33m\u001b[0m\u001b[1;33m\u001b[0m\u001b[0m\n",
      "\u001b[1;32mC:\\ProgramData\\Anaconda3\\lib\\site-packages\\pyomo\\core\\base\\constraint.py\u001b[0m in \u001b[0;36mset_value\u001b[1;34m(self, expr)\u001b[0m\n\u001b[0;32m   1060\u001b[0m             \u001b[1;32mdel\u001b[0m \u001b[0mself\u001b[0m\u001b[1;33m[\u001b[0m\u001b[1;32mNone\u001b[0m\u001b[1;33m]\u001b[0m\u001b[1;33m\u001b[0m\u001b[1;33m\u001b[0m\u001b[0m\n\u001b[0;32m   1061\u001b[0m             \u001b[1;32mreturn\u001b[0m \u001b[1;32mNone\u001b[0m\u001b[1;33m\u001b[0m\u001b[1;33m\u001b[0m\u001b[0m\n\u001b[1;32m-> 1062\u001b[1;33m         \u001b[1;32mreturn\u001b[0m \u001b[0msuper\u001b[0m\u001b[1;33m(\u001b[0m\u001b[0mSimpleConstraint\u001b[0m\u001b[1;33m,\u001b[0m \u001b[0mself\u001b[0m\u001b[1;33m)\u001b[0m\u001b[1;33m.\u001b[0m\u001b[0mset_value\u001b[0m\u001b[1;33m(\u001b[0m\u001b[0mexpr\u001b[0m\u001b[1;33m)\u001b[0m\u001b[1;33m\u001b[0m\u001b[1;33m\u001b[0m\u001b[0m\n\u001b[0m\u001b[0;32m   1063\u001b[0m \u001b[1;33m\u001b[0m\u001b[0m\n\u001b[0;32m   1064\u001b[0m     \u001b[1;31m#\u001b[0m\u001b[1;33m\u001b[0m\u001b[1;33m\u001b[0m\u001b[1;33m\u001b[0m\u001b[0m\n",
      "\u001b[1;32mC:\\ProgramData\\Anaconda3\\lib\\site-packages\\pyomo\\core\\base\\constraint.py\u001b[0m in \u001b[0;36mset_value\u001b[1;34m(self, expr)\u001b[0m\n\u001b[0;32m    485\u001b[0m                             \u001b[1;34m\"form for compound inequalities is \"\u001b[0m\u001b[1;33m\u001b[0m\u001b[1;33m\u001b[0m\u001b[0m\n\u001b[0;32m    486\u001b[0m                             \"always 'lb <= expr <= ub'.\")\n\u001b[1;32m--> 487\u001b[1;33m                 \u001b[1;32mraise\u001b[0m \u001b[0mValueError\u001b[0m\u001b[1;33m(\u001b[0m\u001b[0mmsg\u001b[0m\u001b[1;33m)\u001b[0m\u001b[1;33m\u001b[0m\u001b[1;33m\u001b[0m\u001b[0m\n\u001b[0m\u001b[0;32m    488\u001b[0m         \u001b[1;31m#\u001b[0m\u001b[1;33m\u001b[0m\u001b[1;33m\u001b[0m\u001b[1;33m\u001b[0m\u001b[0m\n\u001b[0;32m    489\u001b[0m         \u001b[1;31m# Special check for chainedInequality errors like \"if var <\u001b[0m\u001b[1;33m\u001b[0m\u001b[1;33m\u001b[0m\u001b[1;33m\u001b[0m\u001b[0m\n",
      "\u001b[1;31mValueError\u001b[0m: Constraint 'wlimit' does not have a proper value. Found 'True'\nExpecting a tuple or equation. Examples:\n   sum(model.costs) == model.income\n   (0, model.price[item], 50)"
     ]
    }
   ],
   "source": [
    "import numpy as np\n",
    "from pyomo.environ import *\n",
    "\n",
    "# ----- PARAMS -----\n",
    "\n",
    "solver_name = 'glpk'\n",
    "\n",
    "display_solution = True\n",
    "\n",
    "# ======= BODY =======\n",
    "\n",
    "items = np.arange(len(s))\n",
    "model = ConcreteModel()\n",
    "model.a = s.array.copy()\n",
    "model.items = items\n",
    "model.pi = Var(items, within=PositiveIntegers, bounds=(0,len(s)))\n",
    "\n",
    "def calc_L_max(model):\n",
    "    pi = [i for i in model.pi]\n",
    "    s = TaskSet(model.a.copy())\n",
    "    return s[pi].L_max()\n",
    "\n",
    "def check_pi(model):\n",
    "    #pi = [i.value for i in model.pi.values()]\n",
    "    pi = [i for i in model.pi]\n",
    "    return (sorted(model.pi) == model.items).all()\n",
    "\n",
    "model.target = Objective(rule=calc_L_max, sense=minimize)\n",
    "model.wlimit = Constraint(rule=check_pi)\n",
    "opt = SolverFactory(solver_name)\n",
    "results = opt.solve(model, tee=True)\n",
    "#model.solutions.load_from(results)\n",
    "#print(model.solutions)\n",
    "#print(results)\n",
    "if display_solution: print(model.pi.pprint())"
   ]
  },
  {
   "cell_type": "code",
   "execution_count": 76,
   "metadata": {},
   "outputs": [],
   "source": [
    "s = TaskSet([[ 3.26662685, 44.34010155, 74.86081215],\n",
    "[12.98604037, 85.84312416, 34.45495599],\n",
    "[86.04393291, 79.32640935, 51.98882266],\n",
    "[76.54051027, 85.34456258, 98.5323506 ],\n",
    "[70.69848991, 38.64890024, 97.26964074],\n",
    "[25.29618194, 59.85831799, 31.6478982 ]])"
   ]
  },
  {
   "cell_type": "code",
   "execution_count": 77,
   "metadata": {},
   "outputs": [
    {
     "data": {
      "text/plain": [
       "(298.09569211999997,   r  |  p  |  d  \n",
       " [[ 3.26662685 44.34010155 74.86081215]\n",
       "  [12.98604037 85.84312416 34.45495599]\n",
       "  [86.04393291 79.32640935 51.98882266]\n",
       "  [70.69848991 38.64890024 97.26964074]\n",
       "  [25.29618194 59.85831799 31.6478982 ]\n",
       "  [76.54051027 85.34456258 98.5323506 ]])"
      ]
     },
     "execution_count": 77,
     "metadata": {},
     "output_type": "execute_result"
    }
   ],
   "source": [
    "bruteforce(s)"
   ]
  },
  {
   "cell_type": "code",
   "execution_count": null,
   "metadata": {},
   "outputs": [],
   "source": []
  },
  {
   "cell_type": "code",
   "execution_count": null,
   "metadata": {},
   "outputs": [],
   "source": []
  },
  {
   "cell_type": "code",
   "execution_count": 69,
   "metadata": {},
   "outputs": [],
   "source": [
    "s = TaskSet(10)"
   ]
  },
  {
   "cell_type": "code",
   "execution_count": 59,
   "metadata": {},
   "outputs": [],
   "source": [
    "s2 = TaskSet(s.array)"
   ]
  },
  {
   "cell_type": "code",
   "execution_count": 63,
   "metadata": {},
   "outputs": [
    {
     "data": {
      "text/plain": [
       "10"
      ]
     },
     "execution_count": 63,
     "metadata": {},
     "output_type": "execute_result"
    }
   ],
   "source": []
  },
  {
   "cell_type": "code",
   "execution_count": 105,
   "metadata": {},
   "outputs": [
    {
     "data": {
      "text/plain": [
       "True"
      ]
     },
     "execution_count": 105,
     "metadata": {},
     "output_type": "execute_result"
    }
   ],
   "source": [
    "np.array([i in [0,1,2,3,4,5,6,7,8,9] for i in range(10)]).all()"
   ]
  },
  {
   "cell_type": "code",
   "execution_count": 76,
   "metadata": {},
   "outputs": [
    {
     "data": {
      "text/plain": [
       "True"
      ]
     },
     "execution_count": 76,
     "metadata": {},
     "output_type": "execute_result"
    }
   ],
   "source": [
    "np.array([1,1,1,2,3,4,5,6,7,8]) in np.arange(10)"
   ]
  },
  {
   "cell_type": "code",
   "execution_count": 78,
   "metadata": {},
   "outputs": [
    {
     "data": {
      "text/plain": [
       "8"
      ]
     },
     "execution_count": 78,
     "metadata": {},
     "output_type": "execute_result"
    }
   ],
   "source": [
    "len(set(np.array([1,1,1,2,3,4,5,6,7,8])))"
   ]
  },
  {
   "cell_type": "code",
   "execution_count": 96,
   "metadata": {},
   "outputs": [],
   "source": [
    "def simplex(s, verbose=True):\n",
    "    JOBS = s.array.copy()\n",
    "\n",
    "    t = dict()\n",
    "    for i, j in enumerate(JOBS):\n",
    "        t[str(i)] = {'r': j[0], 'p': j[1], 'd': j[2]}\n",
    "\n",
    "    JOBS = t\n",
    "    if verbose: print(JOBS)\n",
    "\n",
    "\n",
    "    def opt_schedule(JOBS):\n",
    "\n",
    "        # create model\n",
    "        m = ConcreteModel()\n",
    "\n",
    "        # index set to simplify notation\n",
    "        m.J = Set(initialize=JOBS.keys())\n",
    "        m.PAIRS = Set(initialize = m.J * m.J, dimen=2, filter=lambda m, j, k : j < k)\n",
    "\n",
    "        # upper bounds on how long it would take to process all jobs\n",
    "        tmax = max([JOBS[j]['r'] for j in m.J]) + sum([JOBS[j]['p'] for j in m.J])\n",
    "\n",
    "        # decision variables\n",
    "        m.start      = Var(m.J, domain=NonNegativeReals, bounds=(0, tmax))\n",
    "        m.pastdue    = Var(m.J, domain=NonNegativeReals, bounds=(0, tmax))\n",
    "        m.early      = Var(m.J, domain=NonNegativeReals, bounds=(0, tmax))\n",
    "        #m.x = Var(domain=NonNegativeReals, bounds=(0, tmax))\n",
    "        # additional decision variables for use in the objecive\n",
    "        m.makespan   = Var(domain=NonNegativeReals, bounds=(0, tmax))\n",
    "        m.maxpastdue = Var(domain=NonNegativeReals, bounds=(0, tmax), initialize=tmax)\n",
    "        m.ispastdue  = Var(m.J, domain=Binary)\n",
    "\n",
    "        # objective function\n",
    "        #m.OBJ = Objective(expr = sum([m.pastdue[j] for j in m.J]), sense = minimize)\n",
    "        m.OBJ = Objective(rule= lambda md: md.maxpastdue, sense = minimize)\n",
    "\n",
    "        # constraints\n",
    "        #m.c0 = Constraint(m.x == m.maxpastdue)\n",
    "        m.c1 = Constraint(m.J, rule=lambda m, j: m.start[j] >= JOBS[j]['r'])\n",
    "        m.c2 = Constraint(m.J, rule=lambda m, j: \n",
    "                m.start[j] + JOBS[j]['p'] + m.early[j] == JOBS[j]['d'] + m.pastdue[j])\n",
    "        m.c3 = Disjunction(m.PAIRS, rule=lambda m, j, k:\n",
    "            [m.start[j] + JOBS[j]['p'] <= m.start[k], \n",
    "             m.start[k] + JOBS[k]['p'] <= m.start[j]])    \n",
    "\n",
    "        m.c4 = Constraint(m.J, rule=lambda m, j: m.pastdue[j] <= m.maxpastdue)\n",
    "        m.c5 = Constraint(m.J, rule=lambda m, j: m.start[j] + JOBS[j]['p'] <= m.makespan)\n",
    "        m.c6 = Constraint(m.J, rule=lambda m, j: m.pastdue[j] <= tmax*m.ispastdue[j])\n",
    "\n",
    "        TransformationFactory('gdp.hull').apply_to(m)\n",
    "        if verbose:\n",
    "            SolverFactory('glpk').solve(m).write()\n",
    "        else:\n",
    "            SolverFactory('glpk').solve(m)\n",
    "\n",
    "        SCHEDULE = {}\n",
    "        for j in m.J:\n",
    "            SCHEDULE[j] = {'machine': 1, 'start': m.start[j](), 'finish': m.start[j]() + JOBS[j]['p']}\n",
    "\n",
    "        if verbose: print(SCHEDULE)\n",
    "        return SCHEDULE\n",
    "\n",
    "    SCHEDULE = opt_schedule(JOBS)\n",
    "    pi = list(map(int, sorted(SCHEDULE, key=lambda x: SCHEDULE[x]['start'])))\n",
    "    return pi"
   ]
  },
  {
   "cell_type": "code",
   "execution_count": 97,
   "metadata": {},
   "outputs": [
    {
     "name": "stdout",
     "output_type": "stream",
     "text": [
      "{'0': {'r': 57.84052038967867, 'p': 48.62548109452911, 'd': 93.51630894561383}, '1': {'r': 58.02077240832539, 'p': 54.105147234783566, 'd': 27.99199940800714}, '2': {'r': 93.68350120521268, 'p': 72.85105518764205, 'd': 14.308960014291417}, '3': {'r': 5.354785398604756, 'p': 24.592898610393178, 'd': 23.829382173459702}, '4': {'r': 69.62455879642633, 'p': 25.18631657048963, 'd': 83.50919482815111}, '5': {'r': 60.25875522188513, 'p': 7.540055283040092, 'd': 79.30620181689049}, '6': {'r': 17.793690038456834, 'p': 66.30379358161986, 'd': 94.63355660939563}, '7': {'r': 75.22677628559701, 'p': 31.001474016758667, 'd': 1.0505351818713038}, '8': {'r': 73.55947561495465, 'p': 0.019463971088828913, 'd': 57.81566652654626}}\n",
      "# ==========================================================\n",
      "# = Solver Results                                         =\n",
      "# ==========================================================\n",
      "# ----------------------------------------------------------\n",
      "#   Problem Information\n",
      "# ----------------------------------------------------------\n",
      "Problem: \n",
      "- Name: unknown\n",
      "  Lower bound: 242.064162003336\n",
      "  Upper bound: 242.064162003336\n",
      "  Number of objectives: 1\n",
      "  Number of constraints: 370\n",
      "  Number of variables: 255\n",
      "  Number of nonzeros: 883\n",
      "  Sense: minimize\n",
      "# ----------------------------------------------------------\n",
      "#   Solver Information\n",
      "# ----------------------------------------------------------\n",
      "Solver: \n",
      "- Status: ok\n",
      "  Termination condition: optimal\n",
      "  Statistics: \n",
      "    Branch and bound: \n",
      "      Number of bounded subproblems: 6983\n",
      "      Number of created subproblems: 6983\n",
      "  Error rc: 0\n",
      "  Time: 5.624345541000366\n",
      "# ----------------------------------------------------------\n",
      "#   Solution Information\n",
      "# ----------------------------------------------------------\n",
      "Solution: \n",
      "- number of solutions: 0\n",
      "  number of solutions displayed: 0\n",
      "{'0': {'machine': 1, 'start': 286.954989854421, 'finish': 335.5804709489501}, '1': {'machine': 1, 'start': 127.272415578465, 'finish': 181.37756281324857}, '2': {'machine': 1, 'start': 181.377562813249, 'finish': 254.22861800089106}, '3': {'machine': 1, 'start': 5.35478539860475, 'finish': 29.94768400899793}, '4': {'machine': 1, 'start': 261.768673283931, 'finish': 286.9549898544206}, '5': {'machine': 1, 'start': 254.228618000891, 'finish': 261.7686732839311}, '6': {'machine': 1, 'start': 29.9476840089979, 'finish': 96.25147759061775}, '7': {'machine': 1, 'start': 96.2709415617066, 'finish': 127.27241557846527}, '8': {'machine': 1, 'start': 96.2514775906178, 'finish': 96.27094156170662}}\n"
     ]
    },
    {
     "data": {
      "text/plain": [
       "[3, 6, 8, 7, 1, 2, 5, 4, 0]"
      ]
     },
     "execution_count": 97,
     "metadata": {},
     "output_type": "execute_result"
    }
   ],
   "source": [
    "#s = TaskSet(9)\n",
    "simplex(s, verbose=True)"
   ]
  },
  {
   "cell_type": "code",
   "execution_count": 99,
   "metadata": {},
   "outputs": [
    {
     "data": {
      "text/plain": [
       "(242.06416200333587, 242.06416200333587)"
      ]
     },
     "execution_count": 99,
     "metadata": {},
     "output_type": "execute_result"
    }
   ],
   "source": [
    "s[[3, 6, 8, 7, 1, 2, 5, 4, 0]].L_max(), s[[3, 6, 7, 1, 2, 8, 5, 4, 0]].L_max()"
   ]
  },
  {
   "cell_type": "code",
   "execution_count": 95,
   "metadata": {},
   "outputs": [
    {
     "name": "stderr",
     "output_type": "stream",
     "text": [
      "C:\\ProgramData\\Anaconda3\\lib\\site-packages\\ipykernel_launcher.py:87: DeprecationWarning: using a non-integer array as obj in delete will result in an error in the future\n"
     ]
    },
    {
     "data": {
      "text/plain": [
       "([3, 6, 7, 1, 2, 8, 5, 4, 0], 66)"
      ]
     },
     "execution_count": 95,
     "metadata": {},
     "output_type": "execute_result"
    }
   ],
   "source": [
    "main(s)"
   ]
  }
 ],
 "metadata": {
  "kernelspec": {
   "display_name": "Python 3",
   "language": "python",
   "name": "python3"
  },
  "language_info": {
   "codemirror_mode": {
    "name": "ipython",
    "version": 3
   },
   "file_extension": ".py",
   "mimetype": "text/x-python",
   "name": "python",
   "nbconvert_exporter": "python",
   "pygments_lexer": "ipython3",
   "version": "3.7.1"
  }
 },
 "nbformat": 4,
 "nbformat_minor": 2
}
