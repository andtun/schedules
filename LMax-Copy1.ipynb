{
 "cells": [
  {
   "cell_type": "markdown",
   "metadata": {},
   "source": [
    "# Тестирование двойственного алгоритма решения задачи минимизации максимального запаздывания"
   ]
  },
  {
   "cell_type": "markdown",
   "metadata": {},
   "source": [
    "### Импорты"
   ]
  },
  {
   "cell_type": "code",
   "execution_count": 1,
   "metadata": {},
   "outputs": [],
   "source": [
    "import time\n",
    "import sys\n",
    "import json\n",
    "import random\n",
    "import numpy as np\n",
    "import matplotlib.pyplot as plt\n",
    "from itertools import permutations\n",
    "from scipy.optimize import curve_fit"
   ]
  },
  {
   "cell_type": "code",
   "execution_count": 34,
   "metadata": {},
   "outputs": [],
   "source": [
    "s = \"\"\"25,15, 1,59,23,31,24,43,57, 9,44,56,33,48,37,51,49,40,17,16\n",
    "34,19,45,18,52, 0,21,26, 3,30,35,38, 4,29, 7,53,47,39,27, 5\n",
    " 8,55,11,54,46,20,41,13,36,22,14,10, 2,28,42, 6,12,32,50,58\"\"\""
   ]
  },
  {
   "cell_type": "code",
   "execution_count": 9,
   "metadata": {},
   "outputs": [],
   "source": [
    "def parse_str(s):\n",
    "    s = s.replace(\",\", \" \")\n",
    "    s = np.array(s.split(), dtype=int)\n",
    "    s = s.reshape((len(s)//3, 3))\n",
    "    return s"
   ]
  },
  {
   "cell_type": "code",
   "execution_count": 35,
   "metadata": {},
   "outputs": [],
   "source": [
    "SPI = parse_str(s)"
   ]
  },
  {
   "cell_type": "code",
   "execution_count": 36,
   "metadata": {},
   "outputs": [
    {
     "data": {
      "text/plain": [
       "array([[25, 15,  1],\n",
       "       [59, 23, 31],\n",
       "       [24, 43, 57],\n",
       "       [ 9, 44, 56],\n",
       "       [33, 48, 37],\n",
       "       [51, 49, 40],\n",
       "       [17, 16, 34],\n",
       "       [19, 45, 18],\n",
       "       [52,  0, 21],\n",
       "       [26,  3, 30],\n",
       "       [35, 38,  4],\n",
       "       [29,  7, 53],\n",
       "       [47, 39, 27],\n",
       "       [ 5,  8, 55],\n",
       "       [11, 54, 46],\n",
       "       [20, 41, 13],\n",
       "       [36, 22, 14],\n",
       "       [10,  2, 28],\n",
       "       [42,  6, 12],\n",
       "       [32, 50, 58]])"
      ]
     },
     "execution_count": 36,
     "metadata": {},
     "output_type": "execute_result"
    }
   ],
   "source": [
    "SPI"
   ]
  },
  {
   "cell_type": "markdown",
   "metadata": {},
   "source": [
    "### Класс \"Расписание\""
   ]
  },
  {
   "cell_type": "code",
   "execution_count": 13,
   "metadata": {},
   "outputs": [],
   "source": [
    "class Schedule:\n",
    "    \"\"\"\n",
    "    A wrap around arrays of shape (n, 3), \n",
    "    where n is the number of jobs in the schedule\n",
    "    and each job parameters are ordered as follows:\n",
    "    r | p | d\n",
    "    \"\"\"\n",
    "    array = None\n",
    "    \n",
    "    def enum(self):\n",
    "        if len(self.array) > 0:\n",
    "            a = np.append(self.array, np.ones((len(self.array), 1)), axis=1)\n",
    "            for i, _ in enumerate(a):\n",
    "                a[i, 3] += i\n",
    "            self.array = a.astype(int)\n",
    "    \n",
    "    def __init__(self, array, Enumerate=False):\n",
    "        \"\"\"\n",
    "        Arguments:\n",
    "        - array: int or list/np.ndarray\n",
    "        if int, the schedule is generated randomly and contains n elements\n",
    "        if list/np.ndarray/etc., the array is directly transformed into schedule\n",
    "        \"\"\"\n",
    "        if isinstance(array, int):\n",
    "            self.array = np.random.randint(1, 1000, size=(array, 3))\n",
    "            self.array[:,2] = self.array[:,2] + self.array[:,1] + self.array[:,0] # for non-negative time slack\n",
    "        else: self.array = np.copy(array)\n",
    "        if Enumerate: self.enum()\n",
    "    \n",
    "    def show(self):\n",
    "        print(\" r  |  p  |  d  | num \")\n",
    "        print(self.array)\n",
    "        \n",
    "    def sort(self, item=0):\n",
    "        self.array = self.array[self.array[:,item].argsort()]\n",
    "        \n",
    "    def remove(self, B):\n",
    "        idx = []\n",
    "        for i, e in enumerate(np.isin(self.array, B)):\n",
    "            if e.all():\n",
    "                idx.append(i)\n",
    "        self.array = np.delete(self.array, idx, axis=0)\n",
    "    \n",
    "    def pop(self, index=-1):\n",
    "        e = self.array[index]\n",
    "        self.array = np.delete(self.array, index, axis=0)\n",
    "        return e\n",
    "    \n",
    "    def copy(self):\n",
    "        return Schedule(np.copy(self.array))\n",
    "    \n",
    "    def insert(self, index, elem):\n",
    "        self.array = np.insert(self.array, index, elem, axis=0)\n",
    "        \n",
    "    def length(self):\n",
    "        return self.array.shape[0]\n",
    "    \n",
    "    def C(self, j=None):\n",
    "        t = 0\n",
    "        for task in self.array[:j]:\n",
    "            if t < task[0]:\n",
    "                t = task[0]\n",
    "            t += task[1]\n",
    "        return t\n",
    "    \n",
    "    def timeshift(self, tau):\n",
    "        for i in range(self.length()):\n",
    "            self.array[i,0] -= tau\n",
    "            \n",
    "    def L_max(self, tau=0):\n",
    "        if len(self.array) == 0:\n",
    "            return float('inf')\n",
    "        a = self.copy()\n",
    "        a.timeshift(tau)\n",
    "        return max([self.C(j+1) - a.array[j,2] for j in range(len(a.array))]) + tau\n"
   ]
  },
  {
   "cell_type": "markdown",
   "metadata": {},
   "source": [
    "### Алгоритм решения двойственной задачи"
   ]
  },
  {
   "cell_type": "code",
   "execution_count": 15,
   "metadata": {},
   "outputs": [],
   "source": [
    "def dual(N, tau, B):\n",
    "    pi_r = N.copy()\n",
    "    pi_r.remove(B)\n",
    "    pi_r.timeshift(tau)\n",
    "    pi_r.sort()\n",
    "    bestC = pi_r.C()\n",
    "    bestI = 0\n",
    "    # todo: set the condition\n",
    "    if True:\n",
    "        for k, e in enumerate(pi_r.array):\n",
    "            pi_k = pi_r.copy()\n",
    "            i_k = pi_k.pop(k)\n",
    "            if pi_k.length() > 0:\n",
    "                i_l = pi_k.pop(np.argmin(pi_k.array, axis=0)[0])\n",
    "                pi_k.insert(pi_k.length(), i_k)\n",
    "                pi_k.insert(0, i_l)\n",
    "                C_k = pi_k.C()\n",
    "                if C_k < bestC:\n",
    "                    bestC = C_k\n",
    "                    bestI = k\n",
    "        return bestC + tau, bestI\n",
    "        "
   ]
  },
  {
   "cell_type": "markdown",
   "metadata": {},
   "source": [
    "### Класс \"пример\"\n",
    "Содержит все параметры примера, указанные в статье: $N,\\tau, \\nu, \\pi, B$, при чём $\\nu$ автоматически вычисляется применением двойственного алгоритма к $N$"
   ]
  },
  {
   "cell_type": "code",
   "execution_count": 16,
   "metadata": {},
   "outputs": [],
   "source": [
    "class Instance:\n",
    "    \n",
    "    def __init__(self, N, tau, pi=Schedule([]), B=[]):\n",
    "        \"\"\"\n",
    "        Arguments:\n",
    "        - N - Schedule object\n",
    "        - tau - int or (possibly) float\n",
    "        - pi - Schedule object\n",
    "        - B - list\n",
    "        \"\"\"\n",
    "        self.N = N.copy()\n",
    "        self.tau = tau\n",
    "        self.nu = dual(N, tau, B)[0]\n",
    "        self.pi = pi.copy()\n",
    "        self.B = B.copy()\n",
    "        \n",
    "    def best_job(self):\n",
    "        N1 = self.N.copy()\n",
    "        N1.remove(self.B)\n",
    "        if len(N1.array) == 0:\n",
    "            return\n",
    "        a = N1.array[N1.array[:,0] <= self.tau]\n",
    "        if len(a) == 0:\n",
    "            self.tau = np.min(N1.array[:,0], axis=0)\n",
    "            a = N1.array[N1.array[:,0] <= self.tau]\n",
    "        f = min(a, key=lambda x: x[2])\n",
    "        return f"
   ]
  },
  {
   "cell_type": "code",
   "execution_count": 17,
   "metadata": {},
   "outputs": [],
   "source": [
    "a = Schedule(10).array"
   ]
  },
  {
   "cell_type": "code",
   "execution_count": 108,
   "metadata": {},
   "outputs": [
    {
     "data": {
      "text/plain": [
       "array([[ 492,  899, 1944],\n",
       "       [ 924,  111, 1401],\n",
       "       [ 854,   41,  945],\n",
       "       [ 593,  386, 1276],\n",
       "       [ 885,  668, 2232],\n",
       "       [ 999,  385, 1814],\n",
       "       [ 546,   36,  833],\n",
       "       [ 426,  895, 1837],\n",
       "       [ 796,  713, 1888],\n",
       "       [ 894,  215, 1725]])"
      ]
     },
     "execution_count": 108,
     "metadata": {},
     "output_type": "execute_result"
    }
   ],
   "source": [
    "a"
   ]
  },
  {
   "cell_type": "markdown",
   "metadata": {},
   "source": [
    "### Алгоритм решения задачи $1|r_j|L_{max}$"
   ]
  },
  {
   "cell_type": "code",
   "execution_count": 18,
   "metadata": {},
   "outputs": [],
   "source": [
    "# timeout parameter sets maximum calculation time limit in seconds for one schedule\n",
    "timeout = 1200\n",
    "\n",
    "def main(N, tau=0):\n",
    "    tb = time.time()\n",
    "    c = 0\n",
    "    bestPi = Schedule([])    # в алгоритме сказано изначально задать pi* пустым множеством, но ведь тогда его Lateness будет нулём, и это pi* и будет всё время определяться в качетсве оптимального\n",
    "    instances = [Instance(N, tau)]\n",
    "    while len(instances) > 0:\n",
    "        ti = time.time()\n",
    "        if ti - tb > timeout:\n",
    "            return Schedule([]), -1\n",
    "        index, instance = min(enumerate(instances), key=lambda x: max(x[1].nu, x[1].pi.L_max()) - x[1].pi.length()/N.length()/10)\n",
    "        f = instance.best_job()\n",
    "        instances.pop(index)\n",
    "        if f is not None:\n",
    "\n",
    "            N1 = instance.N.copy()\n",
    "            N1.remove(f)\n",
    "            tau1 = max(f[0], instance.tau) + f[1]\n",
    "            B1 = []\n",
    "            a1 = np.copy(instance.pi.array)\n",
    "            if len(a1) == 0:\n",
    "                a1 = np.copy([f,])\n",
    "            else:\n",
    "                a1 = np.append(a1, [f,], axis=0)\n",
    "            pi1 = Schedule(a1)\n",
    "            i1 = Instance(N1, tau1, pi1, B1)\n",
    "\n",
    "            N2 = instance.N\n",
    "            tau2 = instance.tau\n",
    "            if len(instance.B) == 0:\n",
    "                B2 = np.copy([f,])\n",
    "            else:\n",
    "                B2 = np.append(instance.B, [f,], axis=0)\n",
    "            pi2 = instance.pi\n",
    "            i2 = Instance(N2, tau2, pi2, B2)\n",
    "\n",
    "            instances += [i1, i2]\n",
    "            c += 1\n",
    "            #pi1.show()\n",
    "            if pi1.length() == N.length():\n",
    "                if pi1.L_max(tau) < bestPi.L_max(tau):\n",
    "                    bestPi = pi1.copy()\n",
    "            #print(\"instance nu: %s\\ni1 nu: %s\\ni2 nu: %s\" % (instance.nu, i1.nu, i2.nu))\n",
    "            #print(\"Lmax:\", bestPi.L_max(tau))\n",
    "            instances = [i for i in instances if i.nu < bestPi.L_max(tau)]\n",
    "\n",
    "    return bestPi, c"
   ]
  },
  {
   "cell_type": "code",
   "execution_count": 109,
   "metadata": {},
   "outputs": [
    {
     "ename": "NameError",
     "evalue": "name 'instances' is not defined",
     "output_type": "error",
     "traceback": [
      "\u001b[1;31m---------------------------------------------------------------------------\u001b[0m",
      "\u001b[1;31mNameError\u001b[0m                                 Traceback (most recent call last)",
      "\u001b[1;32m<ipython-input-109-4a5346e2f7ff>\u001b[0m in \u001b[0;36m<module>\u001b[1;34m\u001b[0m\n\u001b[1;32m----> 1\u001b[1;33m \u001b[0minstances\u001b[0m\u001b[1;33m\u001b[0m\u001b[1;33m\u001b[0m\u001b[0m\n\u001b[0m",
      "\u001b[1;31mNameError\u001b[0m: name 'instances' is not defined"
     ]
    }
   ],
   "source": [
    "instances"
   ]
  },
  {
   "cell_type": "markdown",
   "metadata": {},
   "source": [
    "### Алгоритм перебора *всех* возможных вариантов"
   ]
  },
  {
   "cell_type": "code",
   "execution_count": 19,
   "metadata": {},
   "outputs": [],
   "source": [
    "def bruteforce(S, tau=0):\n",
    "    N = np.copy(S.array)\n",
    "    best_L = Schedule(N).L_max(tau)\n",
    "    best_S = N\n",
    "    for p in permutations(N):\n",
    "        L = Schedule(p).L_max(tau)\n",
    "        if L < best_L:\n",
    "            best_L = L\n",
    "            best_S = p\n",
    "    return Schedule(best_S)"
   ]
  },
  {
   "cell_type": "code",
   "execution_count": 37,
   "metadata": {},
   "outputs": [
    {
     "name": "stdout",
     "output_type": "stream",
     "text": [
      " r  |  p  |  d  | num \n",
      "[[25 15  1  1]\n",
      " [59 23 31  2]\n",
      " [24 43 57  3]\n",
      " [ 9 44 56  4]\n",
      " [33 48 37  5]\n",
      " [51 49 40  6]\n",
      " [17 16 34  7]\n",
      " [19 45 18  8]\n",
      " [52  0 21  9]\n",
      " [26  3 30 10]\n",
      " [35 38  4 11]\n",
      " [29  7 53 12]\n",
      " [47 39 27 13]\n",
      " [ 5  8 55 14]\n",
      " [11 54 46 15]\n",
      " [20 41 13 16]\n",
      " [36 22 14 17]\n",
      " [10  2 28 18]\n",
      " [42  6 12 19]\n",
      " [32 50 58 20]]\n"
     ]
    },
    {
     "data": {
      "text/plain": [
       "539"
      ]
     },
     "execution_count": 37,
     "metadata": {},
     "output_type": "execute_result"
    }
   ],
   "source": [
    "s = Schedule(SPI, Enumerate=True)\n",
    "s.show()\n",
    "s.L_max(0)"
   ]
  },
  {
   "cell_type": "code",
   "execution_count": 234,
   "metadata": {},
   "outputs": [
    {
     "name": "stdout",
     "output_type": "stream",
     "text": [
      "1815\n",
      "1815\n"
     ]
    }
   ],
   "source": [
    "print(bruteforce(s, 0).L_max(0))\n",
    "print(p.L_max(0))"
   ]
  },
  {
   "cell_type": "code",
   "execution_count": 23,
   "metadata": {},
   "outputs": [
    {
     "data": {
      "text/plain": [
       "191"
      ]
     },
     "execution_count": 23,
     "metadata": {},
     "output_type": "execute_result"
    }
   ],
   "source": [
    "n"
   ]
  },
  {
   "cell_type": "code",
   "execution_count": 40,
   "metadata": {},
   "outputs": [],
   "source": [
    "p, n = main(s, 0)"
   ]
  },
  {
   "cell_type": "code",
   "execution_count": 42,
   "metadata": {},
   "outputs": [
    {
     "data": {
      "text/plain": [
       "558"
      ]
     },
     "execution_count": 42,
     "metadata": {},
     "output_type": "execute_result"
    }
   ],
   "source": [
    "p.C()"
   ]
  },
  {
   "cell_type": "markdown",
   "metadata": {},
   "source": [
    "# Тестирование"
   ]
  },
  {
   "cell_type": "markdown",
   "metadata": {},
   "source": [
    "### Подсчёт корректности работы алгоритма на примерах малой размерности\n",
    "**Количество задач в примере:** от 2 до 5\n",
    "\n",
    "**Количество примеров каждой размерности:** 1000\n",
    "\n",
    "При этом решение, предложенное алгоритмом, сравнивается с решением, полученным методом перебора всех возможных вариантов без учёта запрета на прерывания - то есть перебором находится расписание с минимальным запаздыванием, пусть даже в этом расписании и встречаются прерывания"
   ]
  },
  {
   "cell_type": "code",
   "execution_count": null,
   "metadata": {},
   "outputs": [
    {
     "name": "stdout",
     "output_type": "stream",
     "text": [
      " 24 -- 2 tasks\n",
      "\n",
      " -------------------------------------------------- \n",
      " Correct: 76%\tIncorrect: 24%\n",
      " 24 -- 3 tasks\n",
      "\n",
      " -------------------------------------------------- \n",
      " Correct: 80%\tIncorrect: 20%\n",
      " 24 -- 4 tasks\n",
      "\n",
      " -------------------------------------------------- \n",
      " Correct: 80%\tIncorrect: 20%\n",
      " 24 -- 5 tasks\n",
      "\n",
      " -------------------------------------------------- \n",
      " Correct: 80%\tIncorrect: 20%\n",
      " 24 -- 6 tasks\n",
      "\n",
      " -------------------------------------------------- \n",
      " Correct: 88%\tIncorrect: 12%\n",
      " 24 -- 7 tasks\n",
      "\n",
      " -------------------------------------------------- \n",
      " Correct: 92%\tIncorrect: 8%\n",
      " 24 -- 8 tasks\n",
      "\n",
      " -------------------------------------------------- \n",
      " Correct: 92%\tIncorrect: 8%\n",
      " 24 -- 9 tasks\n",
      "\n",
      " -------------------------------------------------- \n",
      " Correct: 100%\tIncorrect: 0%\n",
      " 8"
     ]
    }
   ],
   "source": [
    "tc = 0 # true counter - when the result is correct\n",
    "fc = 0 # false counter - when the result is incorrect\n",
    "xc = []\n",
    "yc = []\n",
    "for n in range(2, 11):\n",
    "    for i in range(25):\n",
    "        print('\\r', i, end='')\n",
    "        t = 0\n",
    "        s = Schedule(n)\n",
    "        result, count = main(s, t)\n",
    "        result = result.L_max(t)\n",
    "        realResult = bruteforce(s, t).L_max(t)\n",
    "        if result == realResult:\n",
    "            tc += 1\n",
    "        else:\n",
    "            fc += 1\n",
    "    xc.append(n)\n",
    "    yc.append(tc/(tc + fc)*100)\n",
    "    print(\" --\", n, \"tasks\")\n",
    "    print(\"\\n\", \"-\"*50, \"\\n Correct: %d%%\\tIncorrect: %d%%\" % (tc/(tc + fc)*100, fc/(tc + fc)*100))\n",
    "    tc = 0\n",
    "    fc = 0\n",
    "rresults = [xc, yc]\n",
    "json.dump(rresults, open('rresults11.json', 'w'))"
   ]
  },
  {
   "cell_type": "markdown",
   "metadata": {},
   "source": [
    "### Оценка сложности алгоритма\n",
    "Метрика - количество узлов ветвления\n",
    "\n",
    "**Размерность примеров:** от 2 до 11\n",
    "\n",
    "**Количество примеров каждой размерности:** 3, при этом учитываются только примеры, удовлетворяющие критериям:\n",
    "1. Решение должно быть найдено за время не более 1200 секунд\n",
    "2. Решение должно быть корректным: отбрасываются те 39% вариантов, решение которых находится за n ветвлений, где n -- размерность примера. Как показало изучение работы алгоритма, именно эти варианты решаются им некорректно из-за того, что $L_{max}$ случайно упорядоченного набора заданий оказывается меньше любого $\\nu'$"
   ]
  },
  {
   "cell_type": "code",
   "execution_count": 246,
   "metadata": {},
   "outputs": [
    {
     "name": "stdout",
     "output_type": "stream",
     "text": [
      " 19 -- 3 tasks\n",
      " 19 -- 4 tasks\n",
      " 19 -- 5 tasks\n",
      " 19 -- 6 tasks\n",
      " 19 -- 7 tasks\n",
      " 19 -- 8 tasks\n",
      " 19 -- 9 tasks\n",
      " 19 -- 10 tasks\n",
      " 19 -- 11 tasks\n",
      " 19 -- 12 tasks\n",
      " 19 -- 13 tasks\n",
      " 19 -- 14 tasks\n",
      " 19 -- 15 tasks\n",
      " 19 -- 16 tasks\n",
      " 19 -- 17 tasks\n",
      " 19 -- 18 tasks\n",
      " 4"
     ]
    },
    {
     "ename": "KeyboardInterrupt",
     "evalue": "",
     "output_type": "error",
     "traceback": [
      "\u001b[1;31m---------------------------------------------------------------------------\u001b[0m",
      "\u001b[1;31mKeyboardInterrupt\u001b[0m                         Traceback (most recent call last)",
      "\u001b[1;32m<ipython-input-246-9391c6aaeba5>\u001b[0m in \u001b[0;36m<module>\u001b[1;34m\u001b[0m\n\u001b[0;32m      6\u001b[0m         \u001b[0mt\u001b[0m \u001b[1;33m=\u001b[0m \u001b[1;36m0\u001b[0m\u001b[1;33m\u001b[0m\u001b[1;33m\u001b[0m\u001b[0m\n\u001b[0;32m      7\u001b[0m         \u001b[0ms\u001b[0m \u001b[1;33m=\u001b[0m \u001b[0mSchedule\u001b[0m\u001b[1;33m(\u001b[0m\u001b[0mn\u001b[0m\u001b[1;33m)\u001b[0m\u001b[1;33m\u001b[0m\u001b[1;33m\u001b[0m\u001b[0m\n\u001b[1;32m----> 8\u001b[1;33m         \u001b[0mresult\u001b[0m\u001b[1;33m,\u001b[0m \u001b[0mcount\u001b[0m \u001b[1;33m=\u001b[0m \u001b[0mmain\u001b[0m\u001b[1;33m(\u001b[0m\u001b[0ms\u001b[0m\u001b[1;33m,\u001b[0m \u001b[0mt\u001b[0m\u001b[1;33m)\u001b[0m\u001b[1;33m\u001b[0m\u001b[1;33m\u001b[0m\u001b[0m\n\u001b[0m\u001b[0;32m      9\u001b[0m         \u001b[0mresults\u001b[0m\u001b[1;33m[\u001b[0m\u001b[0mn\u001b[0m\u001b[1;33m]\u001b[0m\u001b[1;33m.\u001b[0m\u001b[0mappend\u001b[0m\u001b[1;33m(\u001b[0m\u001b[0mcount\u001b[0m\u001b[1;33m)\u001b[0m\u001b[1;33m\u001b[0m\u001b[1;33m\u001b[0m\u001b[0m\n\u001b[0;32m     10\u001b[0m     \u001b[0mprint\u001b[0m\u001b[1;33m(\u001b[0m\u001b[1;34m\" --\"\u001b[0m\u001b[1;33m,\u001b[0m \u001b[0mn\u001b[0m\u001b[1;33m,\u001b[0m \u001b[1;34m\"tasks\"\u001b[0m\u001b[1;33m)\u001b[0m\u001b[1;33m\u001b[0m\u001b[1;33m\u001b[0m\u001b[0m\n",
      "\u001b[1;32m<ipython-input-244-6aabae7bcfe5>\u001b[0m in \u001b[0;36mmain\u001b[1;34m(N, tau)\u001b[0m\n\u001b[0;32m     35\u001b[0m                 \u001b[0mB2\u001b[0m \u001b[1;33m=\u001b[0m \u001b[0mnp\u001b[0m\u001b[1;33m.\u001b[0m\u001b[0mappend\u001b[0m\u001b[1;33m(\u001b[0m\u001b[0minstance\u001b[0m\u001b[1;33m.\u001b[0m\u001b[0mB\u001b[0m\u001b[1;33m,\u001b[0m \u001b[1;33m[\u001b[0m\u001b[0mf\u001b[0m\u001b[1;33m,\u001b[0m\u001b[1;33m]\u001b[0m\u001b[1;33m,\u001b[0m \u001b[0maxis\u001b[0m\u001b[1;33m=\u001b[0m\u001b[1;36m0\u001b[0m\u001b[1;33m)\u001b[0m\u001b[1;33m\u001b[0m\u001b[1;33m\u001b[0m\u001b[0m\n\u001b[0;32m     36\u001b[0m             \u001b[0mpi2\u001b[0m \u001b[1;33m=\u001b[0m \u001b[0minstance\u001b[0m\u001b[1;33m.\u001b[0m\u001b[0mpi\u001b[0m\u001b[1;33m\u001b[0m\u001b[1;33m\u001b[0m\u001b[0m\n\u001b[1;32m---> 37\u001b[1;33m             \u001b[0mi2\u001b[0m \u001b[1;33m=\u001b[0m \u001b[0mInstance\u001b[0m\u001b[1;33m(\u001b[0m\u001b[0mN2\u001b[0m\u001b[1;33m,\u001b[0m \u001b[0mtau2\u001b[0m\u001b[1;33m,\u001b[0m \u001b[0mpi2\u001b[0m\u001b[1;33m,\u001b[0m \u001b[0mB2\u001b[0m\u001b[1;33m)\u001b[0m\u001b[1;33m\u001b[0m\u001b[1;33m\u001b[0m\u001b[0m\n\u001b[0m\u001b[0;32m     38\u001b[0m \u001b[1;33m\u001b[0m\u001b[0m\n\u001b[0;32m     39\u001b[0m             \u001b[0minstances\u001b[0m \u001b[1;33m+=\u001b[0m \u001b[1;33m[\u001b[0m\u001b[0mi1\u001b[0m\u001b[1;33m,\u001b[0m \u001b[0mi2\u001b[0m\u001b[1;33m]\u001b[0m\u001b[1;33m\u001b[0m\u001b[1;33m\u001b[0m\u001b[0m\n",
      "\u001b[1;32m<ipython-input-89-3180e8f3772f>\u001b[0m in \u001b[0;36m__init__\u001b[1;34m(self, N, tau, pi, B)\u001b[0m\n\u001b[0;32m     11\u001b[0m         \u001b[0mself\u001b[0m\u001b[1;33m.\u001b[0m\u001b[0mN\u001b[0m \u001b[1;33m=\u001b[0m \u001b[0mN\u001b[0m\u001b[1;33m.\u001b[0m\u001b[0mcopy\u001b[0m\u001b[1;33m(\u001b[0m\u001b[1;33m)\u001b[0m\u001b[1;33m\u001b[0m\u001b[1;33m\u001b[0m\u001b[0m\n\u001b[0;32m     12\u001b[0m         \u001b[0mself\u001b[0m\u001b[1;33m.\u001b[0m\u001b[0mtau\u001b[0m \u001b[1;33m=\u001b[0m \u001b[0mtau\u001b[0m\u001b[1;33m\u001b[0m\u001b[1;33m\u001b[0m\u001b[0m\n\u001b[1;32m---> 13\u001b[1;33m         \u001b[0mself\u001b[0m\u001b[1;33m.\u001b[0m\u001b[0mnu\u001b[0m \u001b[1;33m=\u001b[0m \u001b[0mdual\u001b[0m\u001b[1;33m(\u001b[0m\u001b[0mN\u001b[0m\u001b[1;33m,\u001b[0m \u001b[0mtau\u001b[0m\u001b[1;33m,\u001b[0m \u001b[0mB\u001b[0m\u001b[1;33m)\u001b[0m\u001b[1;33m[\u001b[0m\u001b[1;36m0\u001b[0m\u001b[1;33m]\u001b[0m\u001b[1;33m\u001b[0m\u001b[1;33m\u001b[0m\u001b[0m\n\u001b[0m\u001b[0;32m     14\u001b[0m         \u001b[0mself\u001b[0m\u001b[1;33m.\u001b[0m\u001b[0mpi\u001b[0m \u001b[1;33m=\u001b[0m \u001b[0mpi\u001b[0m\u001b[1;33m.\u001b[0m\u001b[0mcopy\u001b[0m\u001b[1;33m(\u001b[0m\u001b[1;33m)\u001b[0m\u001b[1;33m\u001b[0m\u001b[1;33m\u001b[0m\u001b[0m\n\u001b[0;32m     15\u001b[0m         \u001b[0mself\u001b[0m\u001b[1;33m.\u001b[0m\u001b[0mB\u001b[0m \u001b[1;33m=\u001b[0m \u001b[0mB\u001b[0m\u001b[1;33m.\u001b[0m\u001b[0mcopy\u001b[0m\u001b[1;33m(\u001b[0m\u001b[1;33m)\u001b[0m\u001b[1;33m\u001b[0m\u001b[1;33m\u001b[0m\u001b[0m\n",
      "\u001b[1;32m<ipython-input-88-08e33410450b>\u001b[0m in \u001b[0;36mdual\u001b[1;34m(N, tau, B)\u001b[0m\n\u001b[0;32m      1\u001b[0m \u001b[1;32mdef\u001b[0m \u001b[0mdual\u001b[0m\u001b[1;33m(\u001b[0m\u001b[0mN\u001b[0m\u001b[1;33m,\u001b[0m \u001b[0mtau\u001b[0m\u001b[1;33m,\u001b[0m \u001b[0mB\u001b[0m\u001b[1;33m)\u001b[0m\u001b[1;33m:\u001b[0m\u001b[1;33m\u001b[0m\u001b[1;33m\u001b[0m\u001b[0m\n\u001b[0;32m      2\u001b[0m     \u001b[0mpi_r\u001b[0m \u001b[1;33m=\u001b[0m \u001b[0mN\u001b[0m\u001b[1;33m.\u001b[0m\u001b[0mcopy\u001b[0m\u001b[1;33m(\u001b[0m\u001b[1;33m)\u001b[0m\u001b[1;33m\u001b[0m\u001b[1;33m\u001b[0m\u001b[0m\n\u001b[1;32m----> 3\u001b[1;33m     \u001b[0mpi_r\u001b[0m\u001b[1;33m.\u001b[0m\u001b[0mremove\u001b[0m\u001b[1;33m(\u001b[0m\u001b[0mB\u001b[0m\u001b[1;33m)\u001b[0m\u001b[1;33m\u001b[0m\u001b[1;33m\u001b[0m\u001b[0m\n\u001b[0m\u001b[0;32m      4\u001b[0m     \u001b[0mpi_r\u001b[0m\u001b[1;33m.\u001b[0m\u001b[0mtimeshift\u001b[0m\u001b[1;33m(\u001b[0m\u001b[0mtau\u001b[0m\u001b[1;33m)\u001b[0m\u001b[1;33m\u001b[0m\u001b[1;33m\u001b[0m\u001b[0m\n\u001b[0;32m      5\u001b[0m     \u001b[0mpi_r\u001b[0m\u001b[1;33m.\u001b[0m\u001b[0msort\u001b[0m\u001b[1;33m(\u001b[0m\u001b[1;33m)\u001b[0m\u001b[1;33m\u001b[0m\u001b[1;33m\u001b[0m\u001b[0m\n",
      "\u001b[1;32m<ipython-input-226-1d2df5a7e0cf>\u001b[0m in \u001b[0;36mremove\u001b[1;34m(self, B)\u001b[0m\n\u001b[0;32m     37\u001b[0m     \u001b[1;32mdef\u001b[0m \u001b[0mremove\u001b[0m\u001b[1;33m(\u001b[0m\u001b[0mself\u001b[0m\u001b[1;33m,\u001b[0m \u001b[0mB\u001b[0m\u001b[1;33m)\u001b[0m\u001b[1;33m:\u001b[0m\u001b[1;33m\u001b[0m\u001b[1;33m\u001b[0m\u001b[0m\n\u001b[0;32m     38\u001b[0m         \u001b[0midx\u001b[0m \u001b[1;33m=\u001b[0m \u001b[1;33m[\u001b[0m\u001b[1;33m]\u001b[0m\u001b[1;33m\u001b[0m\u001b[1;33m\u001b[0m\u001b[0m\n\u001b[1;32m---> 39\u001b[1;33m         \u001b[1;32mfor\u001b[0m \u001b[0mi\u001b[0m\u001b[1;33m,\u001b[0m \u001b[0me\u001b[0m \u001b[1;32min\u001b[0m \u001b[0menumerate\u001b[0m\u001b[1;33m(\u001b[0m\u001b[0mnp\u001b[0m\u001b[1;33m.\u001b[0m\u001b[0misin\u001b[0m\u001b[1;33m(\u001b[0m\u001b[0mself\u001b[0m\u001b[1;33m.\u001b[0m\u001b[0marray\u001b[0m\u001b[1;33m,\u001b[0m \u001b[0mB\u001b[0m\u001b[1;33m)\u001b[0m\u001b[1;33m)\u001b[0m\u001b[1;33m:\u001b[0m\u001b[1;33m\u001b[0m\u001b[1;33m\u001b[0m\u001b[0m\n\u001b[0m\u001b[0;32m     40\u001b[0m             \u001b[1;32mif\u001b[0m \u001b[0me\u001b[0m\u001b[1;33m.\u001b[0m\u001b[0mall\u001b[0m\u001b[1;33m(\u001b[0m\u001b[1;33m)\u001b[0m\u001b[1;33m:\u001b[0m\u001b[1;33m\u001b[0m\u001b[1;33m\u001b[0m\u001b[0m\n\u001b[0;32m     41\u001b[0m                 \u001b[0midx\u001b[0m\u001b[1;33m.\u001b[0m\u001b[0mappend\u001b[0m\u001b[1;33m(\u001b[0m\u001b[0mi\u001b[0m\u001b[1;33m)\u001b[0m\u001b[1;33m\u001b[0m\u001b[1;33m\u001b[0m\u001b[0m\n",
      "\u001b[1;32mC:\\ProgramData\\Anaconda3\\lib\\site-packages\\numpy\\lib\\arraysetops.py\u001b[0m in \u001b[0;36misin\u001b[1;34m(element, test_elements, assume_unique, invert)\u001b[0m\n\u001b[0;32m    635\u001b[0m     \u001b[0melement\u001b[0m \u001b[1;33m=\u001b[0m \u001b[0mnp\u001b[0m\u001b[1;33m.\u001b[0m\u001b[0masarray\u001b[0m\u001b[1;33m(\u001b[0m\u001b[0melement\u001b[0m\u001b[1;33m)\u001b[0m\u001b[1;33m\u001b[0m\u001b[1;33m\u001b[0m\u001b[0m\n\u001b[0;32m    636\u001b[0m     return in1d(element, test_elements, assume_unique=assume_unique,\n\u001b[1;32m--> 637\u001b[1;33m                 invert=invert).reshape(element.shape)\n\u001b[0m\u001b[0;32m    638\u001b[0m \u001b[1;33m\u001b[0m\u001b[0m\n\u001b[0;32m    639\u001b[0m \u001b[1;33m\u001b[0m\u001b[0m\n",
      "\u001b[1;32mC:\\ProgramData\\Anaconda3\\lib\\site-packages\\numpy\\lib\\arraysetops.py\u001b[0m in \u001b[0;36min1d\u001b[1;34m(ar1, ar2, assume_unique, invert)\u001b[0m\n\u001b[0;32m    525\u001b[0m     \u001b[1;31m# Otherwise use sorting\u001b[0m\u001b[1;33m\u001b[0m\u001b[1;33m\u001b[0m\u001b[1;33m\u001b[0m\u001b[0m\n\u001b[0;32m    526\u001b[0m     \u001b[1;32mif\u001b[0m \u001b[1;32mnot\u001b[0m \u001b[0massume_unique\u001b[0m\u001b[1;33m:\u001b[0m\u001b[1;33m\u001b[0m\u001b[1;33m\u001b[0m\u001b[0m\n\u001b[1;32m--> 527\u001b[1;33m         \u001b[0mar1\u001b[0m\u001b[1;33m,\u001b[0m \u001b[0mrev_idx\u001b[0m \u001b[1;33m=\u001b[0m \u001b[0mnp\u001b[0m\u001b[1;33m.\u001b[0m\u001b[0munique\u001b[0m\u001b[1;33m(\u001b[0m\u001b[0mar1\u001b[0m\u001b[1;33m,\u001b[0m \u001b[0mreturn_inverse\u001b[0m\u001b[1;33m=\u001b[0m\u001b[1;32mTrue\u001b[0m\u001b[1;33m)\u001b[0m\u001b[1;33m\u001b[0m\u001b[1;33m\u001b[0m\u001b[0m\n\u001b[0m\u001b[0;32m    528\u001b[0m         \u001b[0mar2\u001b[0m \u001b[1;33m=\u001b[0m \u001b[0mnp\u001b[0m\u001b[1;33m.\u001b[0m\u001b[0munique\u001b[0m\u001b[1;33m(\u001b[0m\u001b[0mar2\u001b[0m\u001b[1;33m)\u001b[0m\u001b[1;33m\u001b[0m\u001b[1;33m\u001b[0m\u001b[0m\n\u001b[0;32m    529\u001b[0m \u001b[1;33m\u001b[0m\u001b[0m\n",
      "\u001b[1;32mC:\\ProgramData\\Anaconda3\\lib\\site-packages\\numpy\\lib\\arraysetops.py\u001b[0m in \u001b[0;36munique\u001b[1;34m(ar, return_index, return_inverse, return_counts, axis)\u001b[0m\n\u001b[0;32m    231\u001b[0m     \u001b[0mar\u001b[0m \u001b[1;33m=\u001b[0m \u001b[0mnp\u001b[0m\u001b[1;33m.\u001b[0m\u001b[0masanyarray\u001b[0m\u001b[1;33m(\u001b[0m\u001b[0mar\u001b[0m\u001b[1;33m)\u001b[0m\u001b[1;33m\u001b[0m\u001b[1;33m\u001b[0m\u001b[0m\n\u001b[0;32m    232\u001b[0m     \u001b[1;32mif\u001b[0m \u001b[0maxis\u001b[0m \u001b[1;32mis\u001b[0m \u001b[1;32mNone\u001b[0m\u001b[1;33m:\u001b[0m\u001b[1;33m\u001b[0m\u001b[1;33m\u001b[0m\u001b[0m\n\u001b[1;32m--> 233\u001b[1;33m         \u001b[0mret\u001b[0m \u001b[1;33m=\u001b[0m \u001b[0m_unique1d\u001b[0m\u001b[1;33m(\u001b[0m\u001b[0mar\u001b[0m\u001b[1;33m,\u001b[0m \u001b[0mreturn_index\u001b[0m\u001b[1;33m,\u001b[0m \u001b[0mreturn_inverse\u001b[0m\u001b[1;33m,\u001b[0m \u001b[0mreturn_counts\u001b[0m\u001b[1;33m)\u001b[0m\u001b[1;33m\u001b[0m\u001b[1;33m\u001b[0m\u001b[0m\n\u001b[0m\u001b[0;32m    234\u001b[0m         \u001b[1;32mreturn\u001b[0m \u001b[0m_unpack_tuple\u001b[0m\u001b[1;33m(\u001b[0m\u001b[0mret\u001b[0m\u001b[1;33m)\u001b[0m\u001b[1;33m\u001b[0m\u001b[1;33m\u001b[0m\u001b[0m\n\u001b[0;32m    235\u001b[0m \u001b[1;33m\u001b[0m\u001b[0m\n",
      "\u001b[1;32mC:\\ProgramData\\Anaconda3\\lib\\site-packages\\numpy\\lib\\arraysetops.py\u001b[0m in \u001b[0;36m_unique1d\u001b[1;34m(ar, return_index, return_inverse, return_counts)\u001b[0m\n\u001b[0;32m    276\u001b[0m \u001b[1;33m\u001b[0m\u001b[0m\n\u001b[0;32m    277\u001b[0m     \u001b[1;32mif\u001b[0m \u001b[0moptional_indices\u001b[0m\u001b[1;33m:\u001b[0m\u001b[1;33m\u001b[0m\u001b[1;33m\u001b[0m\u001b[0m\n\u001b[1;32m--> 278\u001b[1;33m         \u001b[0mperm\u001b[0m \u001b[1;33m=\u001b[0m \u001b[0mar\u001b[0m\u001b[1;33m.\u001b[0m\u001b[0margsort\u001b[0m\u001b[1;33m(\u001b[0m\u001b[0mkind\u001b[0m\u001b[1;33m=\u001b[0m\u001b[1;34m'mergesort'\u001b[0m \u001b[1;32mif\u001b[0m \u001b[0mreturn_index\u001b[0m \u001b[1;32melse\u001b[0m \u001b[1;34m'quicksort'\u001b[0m\u001b[1;33m)\u001b[0m\u001b[1;33m\u001b[0m\u001b[1;33m\u001b[0m\u001b[0m\n\u001b[0m\u001b[0;32m    279\u001b[0m         \u001b[0maux\u001b[0m \u001b[1;33m=\u001b[0m \u001b[0mar\u001b[0m\u001b[1;33m[\u001b[0m\u001b[0mperm\u001b[0m\u001b[1;33m]\u001b[0m\u001b[1;33m\u001b[0m\u001b[1;33m\u001b[0m\u001b[0m\n\u001b[0;32m    280\u001b[0m     \u001b[1;32melse\u001b[0m\u001b[1;33m:\u001b[0m\u001b[1;33m\u001b[0m\u001b[1;33m\u001b[0m\u001b[0m\n",
      "\u001b[1;31mKeyboardInterrupt\u001b[0m: "
     ]
    }
   ],
   "source": [
    "results = dict()\n",
    "for n in range(3, 21):\n",
    "    results[n] = []\n",
    "    for i in range(20):\n",
    "        print('\\r', len(results[n]), end='')\n",
    "        t = 0\n",
    "        s = Schedule(n)\n",
    "        result, count = main(s, t)\n",
    "        results[n].append(count)\n",
    "    print(\" --\", n, \"tasks\")\n",
    "    \n",
    "    json.dump(results, open('results5new.json', 'w'))"
   ]
  },
  {
   "cell_type": "code",
   "execution_count": 250,
   "metadata": {},
   "outputs": [
    {
     "data": {
      "text/plain": [
       "{3: [4, 4, 4, 4, 3, 4, 4, 4, 4, 4, 3, 4, 4, 4, 3, 4, 4, 3, 4, 3],\n",
       " 4: [7, 7, 7, 7, 7, 7, 7, 7, 7, 7, 7, 7, 7, 7, 7, 4, 7, 7, 7, 7],\n",
       " 5: [11,\n",
       "  11,\n",
       "  11,\n",
       "  11,\n",
       "  11,\n",
       "  11,\n",
       "  11,\n",
       "  11,\n",
       "  11,\n",
       "  11,\n",
       "  11,\n",
       "  11,\n",
       "  11,\n",
       "  11,\n",
       "  11,\n",
       "  11,\n",
       "  11,\n",
       "  11,\n",
       "  11,\n",
       "  11],\n",
       " 6: [16,\n",
       "  16,\n",
       "  16,\n",
       "  16,\n",
       "  16,\n",
       "  16,\n",
       "  12,\n",
       "  16,\n",
       "  16,\n",
       "  16,\n",
       "  16,\n",
       "  16,\n",
       "  16,\n",
       "  16,\n",
       "  16,\n",
       "  16,\n",
       "  16,\n",
       "  16,\n",
       "  16,\n",
       "  16],\n",
       " 7: [22,\n",
       "  22,\n",
       "  22,\n",
       "  22,\n",
       "  22,\n",
       "  22,\n",
       "  22,\n",
       "  22,\n",
       "  22,\n",
       "  22,\n",
       "  22,\n",
       "  22,\n",
       "  22,\n",
       "  22,\n",
       "  22,\n",
       "  22,\n",
       "  22,\n",
       "  22,\n",
       "  22,\n",
       "  22],\n",
       " 8: [29,\n",
       "  29,\n",
       "  29,\n",
       "  29,\n",
       "  29,\n",
       "  29,\n",
       "  29,\n",
       "  29,\n",
       "  29,\n",
       "  29,\n",
       "  29,\n",
       "  29,\n",
       "  29,\n",
       "  29,\n",
       "  29,\n",
       "  29,\n",
       "  29,\n",
       "  29,\n",
       "  23,\n",
       "  29],\n",
       " 9: [37,\n",
       "  37,\n",
       "  37,\n",
       "  37,\n",
       "  37,\n",
       "  37,\n",
       "  37,\n",
       "  37,\n",
       "  37,\n",
       "  37,\n",
       "  37,\n",
       "  37,\n",
       "  37,\n",
       "  37,\n",
       "  37,\n",
       "  37,\n",
       "  37,\n",
       "  37,\n",
       "  37,\n",
       "  37],\n",
       " 10: [46,\n",
       "  46,\n",
       "  46,\n",
       "  46,\n",
       "  46,\n",
       "  46,\n",
       "  46,\n",
       "  46,\n",
       "  46,\n",
       "  46,\n",
       "  46,\n",
       "  46,\n",
       "  46,\n",
       "  46,\n",
       "  46,\n",
       "  46,\n",
       "  46,\n",
       "  46,\n",
       "  46,\n",
       "  46],\n",
       " 11: [56,\n",
       "  47,\n",
       "  56,\n",
       "  56,\n",
       "  56,\n",
       "  56,\n",
       "  56,\n",
       "  56,\n",
       "  56,\n",
       "  56,\n",
       "  56,\n",
       "  56,\n",
       "  56,\n",
       "  56,\n",
       "  56,\n",
       "  56,\n",
       "  56,\n",
       "  56,\n",
       "  56,\n",
       "  56],\n",
       " 12: [67,\n",
       "  67,\n",
       "  67,\n",
       "  67,\n",
       "  67,\n",
       "  67,\n",
       "  67,\n",
       "  67,\n",
       "  67,\n",
       "  67,\n",
       "  67,\n",
       "  67,\n",
       "  67,\n",
       "  67,\n",
       "  67,\n",
       "  67,\n",
       "  67,\n",
       "  67,\n",
       "  67,\n",
       "  67],\n",
       " 13: [79,\n",
       "  79,\n",
       "  79,\n",
       "  79,\n",
       "  79,\n",
       "  79,\n",
       "  68,\n",
       "  79,\n",
       "  79,\n",
       "  79,\n",
       "  79,\n",
       "  79,\n",
       "  79,\n",
       "  79,\n",
       "  79,\n",
       "  79,\n",
       "  79,\n",
       "  79,\n",
       "  79,\n",
       "  79],\n",
       " 14: [92,\n",
       "  92,\n",
       "  92,\n",
       "  92,\n",
       "  92,\n",
       "  92,\n",
       "  92,\n",
       "  92,\n",
       "  92,\n",
       "  92,\n",
       "  92,\n",
       "  92,\n",
       "  92,\n",
       "  92,\n",
       "  92,\n",
       "  92,\n",
       "  92,\n",
       "  92,\n",
       "  92,\n",
       "  92],\n",
       " 15: [106,\n",
       "  106,\n",
       "  106,\n",
       "  106,\n",
       "  106,\n",
       "  106,\n",
       "  106,\n",
       "  106,\n",
       "  106,\n",
       "  106,\n",
       "  106,\n",
       "  106,\n",
       "  106,\n",
       "  106,\n",
       "  106,\n",
       "  106,\n",
       "  106,\n",
       "  106,\n",
       "  106,\n",
       "  106],\n",
       " 16: [121,\n",
       "  121,\n",
       "  121,\n",
       "  121,\n",
       "  121,\n",
       "  121,\n",
       "  121,\n",
       "  121,\n",
       "  121,\n",
       "  121,\n",
       "  121,\n",
       "  121,\n",
       "  121,\n",
       "  121,\n",
       "  121,\n",
       "  121,\n",
       "  121,\n",
       "  121,\n",
       "  121,\n",
       "  121],\n",
       " 17: [137,\n",
       "  137,\n",
       "  137,\n",
       "  137,\n",
       "  137,\n",
       "  137,\n",
       "  137,\n",
       "  137,\n",
       "  137,\n",
       "  137,\n",
       "  137,\n",
       "  137,\n",
       "  137,\n",
       "  137,\n",
       "  137,\n",
       "  137,\n",
       "  137,\n",
       "  137,\n",
       "  137,\n",
       "  137],\n",
       " 18: [154,\n",
       "  154,\n",
       "  154,\n",
       "  154,\n",
       "  154,\n",
       "  154,\n",
       "  154,\n",
       "  154,\n",
       "  154,\n",
       "  154,\n",
       "  154,\n",
       "  154,\n",
       "  154,\n",
       "  154,\n",
       "  154,\n",
       "  154,\n",
       "  154,\n",
       "  154,\n",
       "  154,\n",
       "  154],\n",
       " 19: [172, 172, 172, 172]}"
      ]
     },
     "execution_count": 250,
     "metadata": {},
     "output_type": "execute_result"
    }
   ],
   "source": [
    "results"
   ]
  },
  {
   "cell_type": "markdown",
   "metadata": {},
   "source": [
    "### Экспериментальная оценка производительности"
   ]
  },
  {
   "cell_type": "code",
   "execution_count": 253,
   "metadata": {},
   "outputs": [
    {
     "data": {
      "text/plain": [
       "<matplotlib.legend.Legend at 0x256fab4df28>"
      ]
     },
     "execution_count": 253,
     "metadata": {},
     "output_type": "execute_result"
    },
    {
     "data": {
      "image/png": "[encoded data removed]",
      "text/plain": [
       "<Figure size 720x432 with 1 Axes>"
      ]
     },
     "metadata": {
      "needs_background": "light"
     },
     "output_type": "display_data"
    }
   ],
   "source": [
    "x = []\n",
    "y = []\n",
    "yf = []\n",
    "for k in results.keys():\n",
    "    y.append(np.median(results[k]))\n",
    "    x.append(k)\n",
    "    yf.append(np.math.factorial(k))\n",
    "\n",
    "fig = plt.figure(figsize=(10, 6))\n",
    "ax = fig.add_subplot(111, title='Производительность \"двойственного\" алгоритма')\n",
    "ax.grid()\n",
    "ax.scatter(x, y, linewidth=4, label=\"Данные эксперимента\")\n",
    "ax.set_xlabel(\"Количество заданий в примере\")\n",
    "ax.set_ylabel(\"Количество точек ветвления (ср. знач.)\")\n",
    "for i in range(5):\n",
    "    ax.plot(x, z[i](x), label='Аппроксимация полиномом %s степени' % (i+1), linewidth=7, alpha=0.3)\n",
    "ax.legend()"
   ]
  },
  {
   "cell_type": "code",
   "execution_count": 251,
   "metadata": {},
   "outputs": [],
   "source": [
    "z = []\n",
    "for i in range(1, 6):\n",
    "    z.append(np.poly1d(np.polyfit(x, y, i)))"
   ]
  },
  {
   "cell_type": "code",
   "execution_count": 258,
   "metadata": {},
   "outputs": [
    {
     "data": {
      "text/plain": [
       "poly1d([ 7.93726243e-19, -5.36494964e-17,  1.33986667e-15,  5.00000000e-01,\n",
       "       -5.00000000e-01,  1.00000000e+00])"
      ]
     },
     "execution_count": 258,
     "metadata": {},
     "output_type": "execute_result"
    }
   ],
   "source": [
    "z[4]"
   ]
  },
  {
   "cell_type": "code",
   "execution_count": 46,
   "metadata": {},
   "outputs": [
    {
     "data": {
      "text/plain": [
       "<matplotlib.legend.Legend at 0x1673f6ec940>"
      ]
     },
     "execution_count": 46,
     "metadata": {},
     "output_type": "execute_result"
    },
    {
     "data": {
      "image/png": "[encoded data removed]",
      "text/plain": [
       "<Figure size 720x432 with 1 Axes>"
      ]
     },
     "metadata": {
      "needs_background": "light"
     },
     "output_type": "display_data"
    }
   ],
   "source": [
    "x = []\n",
    "y = []\n",
    "yf = []\n",
    "for k in results.keys():\n",
    "    if True:\n",
    "        y.append(np.mean(results[k]))\n",
    "        x.append(k)\n",
    "        yf.append(np.math.factorial(k))\n",
    "\n",
    "fig = plt.figure(figsize=(10, 6))\n",
    "ax = fig.add_subplot(111, title='Производительность \"двойственного\" алгоритма')\n",
    "ax.grid()\n",
    "ax.scatter(x, y, linewidth=4, alpha=0.7, label=\"Данные эксперимента\")\n",
    "ax.set_xlabel(\"Количество заданий в примере\")\n",
    "ax.set_ylabel(\"Количество точек ветвления (ср. знач.)\")\n",
    "i = 1\n",
    "ax.plot(x, z[i](x), label='Аппроксимация полиномом %s степени' % (i+1), linewidth=5, alpha=0.5)\n",
    "ax.legend()"
   ]
  },
  {
   "cell_type": "code",
   "execution_count": 1571,
   "metadata": {},
   "outputs": [
    {
     "data": {
      "text/plain": [
       "[<matplotlib.lines.Line2D at 0x1c37304f6a0>]"
      ]
     },
     "execution_count": 1571,
     "metadata": {},
     "output_type": "execute_result"
    },
    {
     "data": {
      "image/png": "[encoded data removed]",
      "text/plain": [
       "<Figure size 720x432 with 1 Axes>"
      ]
     },
     "metadata": {
      "needs_background": "light"
     },
     "output_type": "display_data"
    }
   ],
   "source": [
    "x = []\n",
    "y = []\n",
    "for k in results:\n",
    "    x.append(k)\n",
    "    y.append(len(results[k])*2)\n",
    "fig = plt.figure(figsize=(10, 6))\n",
    "ax = fig.add_subplot(111, title='Зависимость процента решённых за 200 секунд примеров от размерности примеров')\n",
    "ax.grid()\n",
    "ax.plot(x, y, alpha=0.5)\n",
    "ax.set_xlabel(\"Количество заданий в примере\")\n",
    "ax.set_ylabel(\"Процент примеров, решённых за 200 секунд\")\n",
    "ax.plot(x, y, alpha=0.5)"
   ]
  },
  {
   "cell_type": "markdown",
   "metadata": {},
   "source": [
    "# Итоги и выводы\n",
    "1. На примерах малой размерности была протестирована корректность работы алгоритма. 61% примеров решаются им правильно.\n",
    "2. Было оценено быстродействие алгоритма с лимитом времени в 200 секунд. График зависимости процента решённых за 200 секунд примеров от их размерности представлен выше. Всего исследовалось по 50 примеров каждой размерности.\n",
    "3. Была оценена производительность алгоритма. В качестве метрики использовалось число точек ветвления. Оценивались лишь примеры, решённые за время не более 1200 секунд, и решённые при этом корректно.\n",
    "4. Все неправильно решённые примеры провоцировали одну и ту же ошибку - по какой-то причине  $L_{max}$ случайно упорядоченного набора заданий оказывался меньше любого $\\nu'$, и после подстановки на первое место в $\\pi'$ каждого из заданий набора, алгоритм выдавал изначальный вариант расстановки заданий в качестве оптимального расписания.\n",
    "5. В алгоритме в качестве изначального значения $\\pi*$ задавалась случайная последовательность задач, так как если задать $\\pi^*=\\emptyset$, то это $\\pi^*$ и будет оставаться оптимальным из-за того, что его значение $L_{max}=0$"
   ]
  }
 ],
 "metadata": {
  "kernelspec": {
   "display_name": "Python 3",
   "language": "python",
   "name": "python3"
  },
  "language_info": {
   "codemirror_mode": {
    "name": "ipython",
    "version": 3
   },
   "file_extension": ".py",
   "mimetype": "text/x-python",
   "name": "python",
   "nbconvert_exporter": "python",
   "pygments_lexer": "ipython3",
   "version": "3.7.1"
  }
 },
 "nbformat": 4,
 "nbformat_minor": 2
}
