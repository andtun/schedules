{
 "cells": [
  {
   "cell_type": "code",
   "execution_count": 1,
   "metadata": {},
   "outputs": [],
   "source": [
    "import numpy as np\n",
    "from scipy.stats import moment\n",
    "from itertools import permutations"
   ]
  },
  {
   "cell_type": "code",
   "execution_count": 6,
   "metadata": {},
   "outputs": [],
   "source": [
    "LAMBDA = 0.01\n",
    "MU = 100\n",
    "SIGMA = 40\n",
    "VARK = 1\n",
    "\n",
    "def r(task):\n",
    "    ind = 0\n",
    "    if isinstance(task, TaskSet):\n",
    "        return task.array[ind]\n",
    "    return task[ind]\n",
    "\n",
    "def p(task):\n",
    "    ind = 1\n",
    "    if isinstance(task, TaskSet):\n",
    "        return task.array[ind]\n",
    "    return task[ind]\n",
    "\n",
    "def d(task):\n",
    "    ind = 2\n",
    "    if isinstance(task, TaskSet):\n",
    "        return task.array[ind]\n",
    "    return task[ind]\n",
    "\n",
    "def remove(arr, elem):\n",
    "    return np.delete(arr, np.where(np.in1d(arr, elem)))\n",
    "\n",
    "class TaskSet:\n",
    "    \n",
    "    def __init__(self, a):\n",
    "        if isinstance(a, int):\n",
    "            rs = np.cumsum(np.random.exponential(scale=1/LAMBDA, size=(a,)))\n",
    "            ps = np.clip(np.random.normal(MU, SIGMA, size=(a,)), a_min=0, a_max=None)\n",
    "            ds = [r + VARK*moment(ps, moment=2) for r in rs]\n",
    "            self.array = np.array([rs, ps, ds]).T.astype(int)\n",
    "        else:\n",
    "            self.array = np.copy(a)\n",
    "            \n",
    "    def __repr__(self):\n",
    "        return \"  r  |  p  |  d  \\n\" + str(self.array)\n",
    "    \n",
    "    def copy(self):\n",
    "        return TaskSet(self.array)\n",
    "    \n",
    "    def __getitem__(self, key):\n",
    "        return TaskSet(self.array[key])\n",
    "    \n",
    "    def __iter__(self):\n",
    "        return iter(self.array)\n",
    "    \n",
    "    def C(self, i, tau=0):\n",
    "        t = tau\n",
    "        for task in self.array[:i+1]:\n",
    "            if t < r(task): t = r(task)\n",
    "            t += p(task)\n",
    "        return t\n",
    "    \n",
    "    def C_max(self, tau=0):\n",
    "        t = tau\n",
    "        for task in self.array:\n",
    "            if t < r(task): t = r(task)\n",
    "            t += p(task)\n",
    "        return t\n",
    "    \n",
    "    def L(self, i=None, tau=0):\n",
    "        if i is None:\n",
    "            return self.C_max(tau) - d(self[-1])\n",
    "        return self.C(i, tau) - d(self[i])\n",
    "    \n",
    "    def L_max(self, tau=0):\n",
    "        if len(self) == 0: return float('inf')\n",
    "        return max([self.L(i, tau) for i, _ in enumerate(self)])\n",
    "    \n",
    "    def __len__(self):\n",
    "        return len(self.array)\n",
    "    \n",
    "    def __eq__(self, other):\n",
    "        return self.array == other\n",
    "    \n",
    "    def without(self, indexes):\n",
    "        return TaskSet(np.delete(self.array, np.array(indexes).astype(int), axis=0))\n",
    "    \n",
    "    def find(self, item):\n",
    "        return np.where((self.array == item).all(axis=1))[0]\n",
    "    \n",
    "    def transpose(self):\n",
    "        return self.array.T"
   ]
  },
  {
   "cell_type": "code",
   "execution_count": 7,
   "metadata": {},
   "outputs": [],
   "source": [
    "def dual(N, tau, B):\n",
    "    if len(N.without(B)) == 0: return float('inf')\n",
    "    pi_r = r(np.argsort(N, axis=0).transpose())\n",
    "    bestL = N[pi_r].L(tau=tau)\n",
    "    for i_k, task in enumerate(N):\n",
    "        toDrop = np.append(B, i_k)\n",
    "        #print(toDrop)\n",
    "        s = N.without(toDrop)\n",
    "        if len(s) != 0:\n",
    "            task_l = min(s, key=r)\n",
    "            i_l = N.find(task_l)[0]\n",
    "            pi_k = remove(pi_r, [i_l, i_k])\n",
    "            pi_k = np.insert(pi_k, 0, i_l)\n",
    "            pi_k = np.append(pi_k, i_k)\n",
    "            L_k = N[pi_k].L(tau=tau)\n",
    "            if L_k < bestL:\n",
    "                bestL = L_k\n",
    "    return bestL"
   ]
  },
  {
   "cell_type": "code",
   "execution_count": 8,
   "metadata": {},
   "outputs": [],
   "source": [
    "def dual_brute(N, tau, B):\n",
    "    return max([min([p.L(i_k, tau) for p in map(TaskSet, permutations(N))]) for i_k, task in enumerate(N)])"
   ]
  },
  {
   "cell_type": "code",
   "execution_count": 9,
   "metadata": {},
   "outputs": [],
   "source": [
    "class Instance:\n",
    "    \n",
    "    def __init__(self, N, tau=0, pi=[], B=[]):\n",
    "        self.N = N.copy()\n",
    "        self.tau = tau\n",
    "        self.pi = pi.copy()\n",
    "        self.B = B.copy()\n",
    "        self.nu = dual(N, tau, B)\n",
    "        \n",
    "    def __getitem__(self, key):\n",
    "        return TaskSet(self.N.array[key])\n",
    "        \n",
    "    def best_job(self):\n",
    "        s = self.N.without(self.B)\n",
    "        sn = s[r(s.transpose()) <= self.tau]\n",
    "        if len(sn) == 0:\n",
    "            f = min(s, key=r)\n",
    "            #self.tau = r(f)\n",
    "            #self.nu = dual(self.N, self.tau, self.B)\n",
    "        else:\n",
    "            f = min(sn, key=d)\n",
    "        return self.N.find(f)[0]\n",
    "    \n",
    "    def L(self, i=None):\n",
    "        return self[self.pi].L(i, self.tau)\n",
    "        \n",
    "    def L_max(self):\n",
    "        return self[self.pi].L_max(self.tau)\n",
    "    \n",
    "    def __repr__(self):\n",
    "        return \"Instance:\\n\" + repr(self.N) + \"\\nnu  = \" + str(self.nu) + \"\\ntau = \" + str(self.tau) + \"\\npi  = \" + str(self.pi) + \"\\nB   = \" + str(self.B)"
   ]
  },
  {
   "cell_type": "code",
   "execution_count": 23,
   "metadata": {},
   "outputs": [],
   "source": [
    "def main(N, tau=0):\n",
    "    b_counter = 0\n",
    "    instances = [Instance(N, tau)]\n",
    "    bestPi = []\n",
    "    while len(instances) > 0:\n",
    "        #print(len(instances))\n",
    "        bestInstanceIndex, bestInstance = min(enumerate(instances), key=lambda x: x[1].nu) # + N[x[1].pi].L_max(tau))\n",
    "        instances.pop(bestInstanceIndex)\n",
    "        f = bestInstance.best_job()\n",
    "        f_data = bestInstance[f]\n",
    "        N1 = bestInstance.N.without(f)\n",
    "        tau1 = max(r(f_data), bestInstance.tau) + p(f_data)\n",
    "        B1 = []\n",
    "        pi1 = bestInstance.pi.copy()\n",
    "        pi1.append(N.find(f_data)[0])\n",
    "        i1 = Instance(N1, tau1, pi1, B1)\n",
    "        N2 = bestInstance.N\n",
    "        tau2 = bestInstance.tau\n",
    "        B2 = bestInstance.B.copy()\n",
    "        B2.append(N2.find(f_data)[0]) #!\n",
    "        pi2 = bestInstance.pi\n",
    "        i2 = Instance(N2, tau2, pi2, B2)\n",
    "        instances += [i1, i2]\n",
    "        b_counter += 1\n",
    "        #print(pi1)\n",
    "        if len(pi1) == len(N):\n",
    "            #print(N[bestPi].L_max(tau))\n",
    "            #print(pi1)\n",
    "            if N[pi1].L_max(tau) < N[bestPi].L_max(tau):\n",
    "                bestPi = pi1.copy()\n",
    "                #print([tpmp+1 for tpmp in bestPi], '\\tLmax =', N[bestPi].L_max(tau))\n",
    "        #lb = len(instances)\n",
    "        instances = [i for i in instances if max(i.nu, N[i.pi].L_max(tau)) < N[bestPi].L_max(tau)]\n",
    "        #print(lb, len(instances))\n",
    "    return bestPi, b_counter\n",
    "        "
   ]
  },
  {
   "cell_type": "code",
   "execution_count": 24,
   "metadata": {},
   "outputs": [],
   "source": [
    "def bruteforce(N, tau=0):\n",
    "    best_L = N.L_max(tau)\n",
    "    best_N = N.copy()\n",
    "    for perm in permutations(N):\n",
    "        s = TaskSet(perm)\n",
    "        L = s.L_max(tau)\n",
    "        if L < best_L:\n",
    "            best_L = L\n",
    "            best_N = s.copy()\n",
    "    return best_L"
   ]
  },
  {
   "cell_type": "code",
   "execution_count": null,
   "metadata": {},
   "outputs": [],
   "source": []
  },
  {
   "cell_type": "code",
   "execution_count": 25,
   "metadata": {},
   "outputs": [],
   "source": [
    "def parse_str(s):\n",
    "    s = np.array(s.replace(',', ' ').split(), dtype=int)\n",
    "    s = s.reshape((len(s)//3, 3))\n",
    "    return s\n",
    "\n",
    "import glob\n",
    "schedules = []\n",
    "for fname in glob.glob(\"./tasks/*.txt\"):\n",
    "    file = open(fname, 'r')\n",
    "    a = np.array(list(f.split() for f in file.readlines()[:-2])).astype(int)\n",
    "    schedules.append(TaskSet(a))"
   ]
  },
  {
   "cell_type": "code",
   "execution_count": null,
   "metadata": {},
   "outputs": [],
   "source": [
    "inds=2\n",
    "res, c = main(schedules[inds])\n",
    "schedules[inds][res].L_max(0)"
   ]
  },
  {
   "cell_type": "code",
   "execution_count": 30,
   "metadata": {},
   "outputs": [
    {
     "data": {
      "text/plain": [
       "-4"
      ]
     },
     "execution_count": 30,
     "metadata": {},
     "output_type": "execute_result"
    }
   ],
   "source": []
  },
  {
   "cell_type": "code",
   "execution_count": 31,
   "metadata": {},
   "outputs": [
    {
     "data": {
      "text/plain": [
       "-1"
      ]
     },
     "execution_count": 31,
     "metadata": {},
     "output_type": "execute_result"
    }
   ],
   "source": [
    "schedules[inds][[0, 1, 2, 3, 5, 9, 7, 6, 4, 8]].L_max(0)"
   ]
  },
  {
   "cell_type": "code",
   "execution_count": null,
   "metadata": {},
   "outputs": [],
   "source": []
  }
 ],
 "metadata": {
  "kernelspec": {
   "display_name": "Python 3",
   "language": "python",
   "name": "python3"
  },
  "language_info": {
   "codemirror_mode": {
    "name": "ipython",
    "version": 3
   },
   "file_extension": ".py",
   "mimetype": "text/x-python",
   "name": "python",
   "nbconvert_exporter": "python",
   "pygments_lexer": "ipython3",
   "version": "3.7.1"
  }
 },
 "nbformat": 4,
 "nbformat_minor": 2
}
