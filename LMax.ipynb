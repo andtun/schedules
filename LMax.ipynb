{
 "cells": [
  {
   "cell_type": "markdown",
   "metadata": {
    "colab_type": "text",
    "id": "RQykT03DGcZr"
   },
   "source": [
    "# Тестирование двойственного алгоритма решения задачи минимизации максимального запаздывания"
   ]
  },
  {
   "cell_type": "markdown",
   "metadata": {
    "colab_type": "text",
    "id": "qGDHQcu0GcZ1"
   },
   "source": [
    "### Импорты"
   ]
  },
  {
   "cell_type": "code",
   "execution_count": 1,
   "metadata": {
    "colab": {},
    "colab_type": "code",
    "id": "79pY0qOLGcZ3"
   },
   "outputs": [],
   "source": [
    "import time\n",
    "import sys\n",
    "import json\n",
    "import random\n",
    "import numpy as np\n",
    "import matplotlib.pyplot as plt\n",
    "from itertools import permutations\n",
    "from scipy.optimize import curve_fit"
   ]
  },
  {
   "cell_type": "markdown",
   "metadata": {
    "colab_type": "text",
    "id": "t4N8MF1bGcZ9"
   },
   "source": [
    "### Парсинг примеров"
   ]
  },
  {
   "cell_type": "code",
   "execution_count": 2,
   "metadata": {
    "colab": {},
    "colab_type": "code",
    "id": "xy_YdwSJGcZ_"
   },
   "outputs": [],
   "source": [
    "def parse_str(s):\n",
    "    s = np.array(s.replace(',', ' ').split(), dtype=int)\n",
    "    s = s.reshape((len(s)//3, 3))\n",
    "    return s"
   ]
  },
  {
   "cell_type": "markdown",
   "metadata": {
    "colab_type": "text",
    "id": "FG1bolZiGcaD"
   },
   "source": [
    "### Класс \"Расписание\""
   ]
  },
  {
   "cell_type": "code",
   "execution_count": 3,
   "metadata": {
    "colab": {},
    "colab_type": "code",
    "id": "sIYs3f1mGcaF"
   },
   "outputs": [],
   "source": [
    "class Schedule:\n",
    "    \"\"\"\n",
    "    A wrap around arrays of shape (n, 3), \n",
    "    where n is the number of jobs in the schedule\n",
    "    and each job parameters are ordered as follows:\n",
    "    r | p | d\n",
    "    \"\"\"\n",
    "    array = None\n",
    "    \n",
    "    def enum(self):\n",
    "        if len(self.array) > 0:\n",
    "            a = np.append(self.array, np.ones((len(self.array), 1)), axis=1)\n",
    "            for i, _ in enumerate(a):\n",
    "                a[i, 3] += i\n",
    "            self.array = a.astype(int)\n",
    "    \n",
    "    def __init__(self, array, Enumerate=False):\n",
    "        \"\"\"\n",
    "        Arguments:\n",
    "        - array: int or list/np.ndarray\n",
    "        if int, the schedule is generated randomly and contains n elements\n",
    "        if list/np.ndarray/etc., the array is directly transformed into schedule\n",
    "        \"\"\"\n",
    "        if isinstance(array, int):\n",
    "            self.array = np.random.randint(1, 1000, size=(array, 3))\n",
    "            # for non-negative time slack\n",
    "            self.array[:,2] = self.array[:,2] + self.array[:,1] + self.array[:,0]\n",
    "        else: self.array = np.copy(array)\n",
    "        if Enumerate: self.enum()\n",
    "    \n",
    "    def show(self):\n",
    "        print(\" r  |  p  |  d  | num \")\n",
    "        print(self.array)\n",
    "        \n",
    "    def sort(self, item=0):\n",
    "        self.array = self.array[self.array[:,item].argsort()]\n",
    "        \n",
    "    def remove(self, B):\n",
    "        idx = []\n",
    "        for i, e in enumerate(np.isin(self.array, B)):\n",
    "            if e.all():\n",
    "                idx.append(i)\n",
    "        self.array = np.delete(self.array, idx, axis=0)\n",
    "    \n",
    "    def pop(self, index=-1):\n",
    "        e = self.array[index]\n",
    "        self.array = np.delete(self.array, index, axis=0)\n",
    "        return e\n",
    "    \n",
    "    def copy(self):\n",
    "        return Schedule(np.copy(self.array))\n",
    "    \n",
    "    def insert(self, index, elem):\n",
    "        self.array = np.insert(self.array, index, elem, axis=0)\n",
    "        \n",
    "    def length(self):\n",
    "        return self.array.shape[0]\n",
    "    \n",
    "    def C(self, j=None):\n",
    "        t = 0\n",
    "        for task in self.array[:j]:\n",
    "            if t < task[0]:\n",
    "                t = task[0]\n",
    "            t += task[1]\n",
    "        return t\n",
    "    \n",
    "    def timeshift(self, tau):\n",
    "        for i in range(self.length()):\n",
    "            self.array[i,0] -= tau\n",
    "            \n",
    "    def L_max(self, tau=0):\n",
    "        if len(self.array) == 0:\n",
    "            return float('inf')\n",
    "        a = self.copy()\n",
    "        a.timeshift(tau)\n",
    "        return max([self.C(j+1) - a.array[j,2] for j in range(len(a.array))]) + tau\n"
   ]
  },
  {
   "cell_type": "markdown",
   "metadata": {
    "colab_type": "text",
    "id": "4hRCMiItGcaM"
   },
   "source": [
    "### Алгоритм решения двойственной задачи"
   ]
  },
  {
   "cell_type": "code",
   "execution_count": 43,
   "metadata": {
    "colab": {},
    "colab_type": "code",
    "id": "jFUzVWcvGcaP"
   },
   "outputs": [],
   "source": [
    "def dual(N, tau, B):\n",
    "    pi_r = N.copy()\n",
    "    pi_r.remove(B)\n",
    "    pi_r.timeshift(tau)\n",
    "    if pi_r.length() > 0:\n",
    "        pi_r.sort()\n",
    "    else: return 0, 0\n",
    "    bestC = pi_r.C()\n",
    "    bestI = 0\n",
    "    # todo: set the condition\n",
    "    if True:\n",
    "        for k, e in enumerate(pi_r.array):\n",
    "            pi_k = pi_r.copy()\n",
    "            i_k = pi_k.pop(k)\n",
    "            if pi_k.length() > 0:\n",
    "                i_l = pi_k.pop(np.argmin(pi_k.array, axis=0)[0])\n",
    "                pi_k.insert(pi_k.length(), i_k)\n",
    "                pi_k.insert(0, i_l)\n",
    "                C_k = pi_k.C()\n",
    "                if C_k < bestC:\n",
    "                    print(\"CH!\")\n",
    "                    bestC = C_k\n",
    "                    bestI = k\n",
    "        return bestC + tau, bestI\n",
    "        "
   ]
  },
  {
   "cell_type": "markdown",
   "metadata": {
    "colab_type": "text",
    "id": "ePq6GkRpGcaZ"
   },
   "source": [
    "### Класс \"пример\"\n",
    "Содержит все параметры примера, указанные в статье: $N,\\tau, \\nu, \\pi, B$, при чём $\\nu$ автоматически вычисляется применением двойственного алгоритма к $N$"
   ]
  },
  {
   "cell_type": "code",
   "execution_count": 5,
   "metadata": {
    "colab": {},
    "colab_type": "code",
    "id": "uVWl0O-wGcac"
   },
   "outputs": [],
   "source": [
    "class Instance:\n",
    "    \n",
    "    def __init__(self, N, tau, pi=Schedule([]), B=[]):\n",
    "        \"\"\"\n",
    "        Arguments:\n",
    "        - N - Schedule object\n",
    "        - tau - int or (possibly) float\n",
    "        - pi - Schedule object\n",
    "        - B - list\n",
    "        \"\"\"\n",
    "        self.N = N.copy()\n",
    "        self.tau = tau\n",
    "        self.nu = dual(N, tau, B)[0]\n",
    "        self.pi = pi.copy()\n",
    "        self.B = B.copy()\n",
    "        \n",
    "    def best_job(self):\n",
    "        N1 = self.N.copy()\n",
    "        N1.remove(self.B)\n",
    "        if len(N1.array) == 0:\n",
    "            return\n",
    "        a = N1.array[N1.array[:,0] <= self.tau]\n",
    "        if len(a) == 0:\n",
    "            self.tau = np.min(N1.array[:,0], axis=0)\n",
    "            a = N1.array[N1.array[:,0] <= self.tau]\n",
    "        f = min(a, key=lambda x: x[2])\n",
    "        return f"
   ]
  },
  {
   "cell_type": "markdown",
   "metadata": {
    "colab_type": "text",
    "id": "wW50rySyGcam"
   },
   "source": [
    "### Алгоритм решения задачи $1|r_j|L_{max}$"
   ]
  },
  {
   "cell_type": "code",
   "execution_count": 49,
   "metadata": {
    "colab": {},
    "colab_type": "code",
    "id": "_6mCSOi3Gcap"
   },
   "outputs": [],
   "source": [
    "# timeout parameter sets maximum calculation time limit in seconds for one schedule\n",
    "timeout = 1200\n",
    "\n",
    "def main(N, tau=0):\n",
    "    #tb = time.time() - !таймаут отключен!\n",
    "    c = 0\n",
    "    bestPi = Schedule([])    \n",
    "    instances = [Instance(N, tau)]\n",
    "    while len(instances) > 0:\n",
    "        #ti = time.time()\n",
    "        #if ti - tb > timeout:\n",
    "        #    return Schedule([]), -1\n",
    "        index, instance = min(\n",
    "            enumerate(instances),\n",
    "            key=lambda x: max(x[1].nu, x[1].pi.L_max()) - x[1].pi.length()/N.length()/10\n",
    "        )\n",
    "        f = instance.best_job()\n",
    "        instances.pop(index)\n",
    "        if f is not None:\n",
    "            \n",
    "            N1 = instance.N.copy()\n",
    "            N1.remove(f)\n",
    "            tau1 = max(f[0], instance.tau) + f[1]\n",
    "            B1 = []\n",
    "            a1 = np.copy(instance.pi.array)\n",
    "            if len(a1) == 0:\n",
    "                a1 = np.copy([f,])\n",
    "            else:\n",
    "                a1 = np.append(a1, [f,], axis=0)\n",
    "            pi1 = Schedule(a1)\n",
    "            i1 = Instance(N1, tau1, pi1, B1)\n",
    "            \n",
    "            N2 = instance.N\n",
    "            tau2 = instance.tau\n",
    "            if len(instance.B) == 0:\n",
    "                B2 = np.copy([f,])\n",
    "            else:\n",
    "                B2 = np.append(instance.B, [f,], axis=0)\n",
    "            pi2 = instance.pi\n",
    "            i2 = Instance(N2, tau2, pi2, B2)\n",
    "\n",
    "            instances += [i1, i2]\n",
    "            c += 1\n",
    "            #pi1.show()\n",
    "            if pi1.length() == N.length():\n",
    "                if max(pi1.L_max(tau), dual(pi1, tau, [])[0]) < max(bestPi.L_max(tau), dual(bestPi, tau, [])[0]):\n",
    "                    bestPi = pi1.copy()\n",
    "            instances = [i for i in instances\n",
    "                         if max(dual(i.pi, tau, [])[0], i.pi.L_max(tau)) < max(bestPi.L_max(tau), dual(bestPi, tau, [])[0])]\n",
    "\n",
    "    return bestPi, c"
   ]
  },
  {
   "cell_type": "markdown",
   "metadata": {
    "colab_type": "text",
    "id": "IPvB-KfUGca0"
   },
   "source": [
    "### Алгоритм перебора *всех* возможных вариантов"
   ]
  },
  {
   "cell_type": "code",
   "execution_count": 7,
   "metadata": {
    "colab": {},
    "colab_type": "code",
    "id": "hwbmtGxeGca1"
   },
   "outputs": [],
   "source": [
    "def bruteforce(S, tau=0):\n",
    "    N = np.copy(S.array)\n",
    "    best_L = Schedule(N).L_max(tau)\n",
    "    best_S = N\n",
    "    for p in permutations(N):\n",
    "        L = Schedule(p).L_max(tau)\n",
    "        if L < best_L:\n",
    "            best_L = L\n",
    "            best_S = p\n",
    "    return Schedule(best_S)"
   ]
  },
  {
   "cell_type": "markdown",
   "metadata": {
    "colab_type": "text",
    "id": "u-YS6umeGca7"
   },
   "source": [
    "# Тестирование"
   ]
  },
  {
   "cell_type": "code",
   "execution_count": 78,
   "metadata": {},
   "outputs": [
    {
     "name": "stdout",
     "output_type": "stream",
     "text": [
      " r  |  p  |  d  | num \n",
      "[[ 124  233  857]\n",
      " [ 376  249  991]\n",
      " [ 509  102  752]\n",
      " [ 268  490  849]\n",
      " [ 851  567 2339]]\n",
      " r  |  p  |  d  | num \n",
      "[[ 124  233  857]\n",
      " [ 268  490  849]\n",
      " [ 509  102  752]\n",
      " [ 376  249  991]\n",
      " [ 851  567 2339]]\n"
     ]
    }
   ],
   "source": [
    "s = Schedule(5)\n",
    "s.show()\n",
    "r = main(s)\n",
    "r[0].show()"
   ]
  },
  {
   "cell_type": "code",
   "execution_count": 11,
   "metadata": {},
   "outputs": [],
   "source": [
    "b = bruteforce(s)"
   ]
  },
  {
   "cell_type": "code",
   "execution_count": 13,
   "metadata": {},
   "outputs": [
    {
     "name": "stdout",
     "output_type": "stream",
     "text": [
      " r  |  p  |  d  | num \n",
      "[[  82  687  892]\n",
      " [ 344  100 1191]\n",
      " [ 511  656 1656]\n",
      " [ 102  802 1706]\n",
      " [ 878  593 1749]]\n"
     ]
    }
   ],
   "source": [
    "b.show()"
   ]
  },
  {
   "cell_type": "code",
   "execution_count": 15,
   "metadata": {},
   "outputs": [
    {
     "data": {
      "text/plain": [
       "1171"
      ]
     },
     "execution_count": 15,
     "metadata": {},
     "output_type": "execute_result"
    }
   ],
   "source": [
    "b.L_max()"
   ]
  },
  {
   "cell_type": "code",
   "execution_count": 70,
   "metadata": {},
   "outputs": [],
   "source": [
    "r = main(s)"
   ]
  },
  {
   "cell_type": "code",
   "execution_count": 20,
   "metadata": {},
   "outputs": [
    {
     "data": {
      "text/plain": [
       "1171"
      ]
     },
     "execution_count": 20,
     "metadata": {},
     "output_type": "execute_result"
    }
   ],
   "source": [
    "r[0].L_max()"
   ]
  },
  {
   "cell_type": "code",
   "execution_count": 71,
   "metadata": {},
   "outputs": [
    {
     "name": "stdout",
     "output_type": "stream",
     "text": [
      " r  |  p  |  d  | num \n",
      "[[ 274  651 1565]\n",
      " [ 371  514  979]\n",
      " [ 865  240 1371]\n",
      " [ 626  156 1619]\n",
      " [ 574  836 1987]]\n"
     ]
    }
   ],
   "source": [
    "r[0].show()"
   ]
  },
  {
   "cell_type": "code",
   "execution_count": 79,
   "metadata": {},
   "outputs": [
    {
     "name": "stdout",
     "output_type": "stream",
     "text": [
      " 4454"
     ]
    }
   ],
   "source": [
    "rL, bL = 0, 0\n",
    "while rL == bL:\n",
    "    s = Schedule(5)\n",
    "    b = bruteforce(s)\n",
    "    r = main(s)\n",
    "    bL = b.L_max()\n",
    "    rL = r[0].L_max()\n",
    "    print(\"\\r\", bL, end='')"
   ]
  },
  {
   "cell_type": "code",
   "execution_count": 58,
   "metadata": {},
   "outputs": [
    {
     "data": {
      "text/plain": [
       "373"
      ]
     },
     "execution_count": 58,
     "metadata": {},
     "output_type": "execute_result"
    }
   ],
   "source": [
    "rL"
   ]
  },
  {
   "cell_type": "code",
   "execution_count": 62,
   "metadata": {},
   "outputs": [
    {
     "name": "stdout",
     "output_type": "stream",
     "text": [
      " r  |  p  |  d  | num \n",
      "[[  33  870  937]\n",
      " [  37  597 1058]\n",
      " [ 417   39 1155]\n",
      " [ 508  284 1464]\n",
      " [  24  613 1508]]\n"
     ]
    }
   ],
   "source": [
    "b.show()"
   ]
  },
  {
   "cell_type": "code",
   "execution_count": 65,
   "metadata": {},
   "outputs": [
    {
     "name": "stdout",
     "output_type": "stream",
     "text": [
      " r  |  p  |  d  | num \n",
      "[[  24  613 1508]\n",
      " [  33  870  937]\n",
      " [  37  597 1058]\n",
      " [ 417   39 1155]\n",
      " [ 508  284 1464]]\n"
     ]
    }
   ],
   "source": [
    "r[0].show()"
   ]
  },
  {
   "cell_type": "code",
   "execution_count": null,
   "metadata": {},
   "outputs": [],
   "source": []
  },
  {
   "cell_type": "code",
   "execution_count": null,
   "metadata": {},
   "outputs": [],
   "source": []
  },
  {
   "cell_type": "code",
   "execution_count": null,
   "metadata": {},
   "outputs": [],
   "source": []
  },
  {
   "cell_type": "code",
   "execution_count": null,
   "metadata": {},
   "outputs": [],
   "source": []
  },
  {
   "cell_type": "markdown",
   "metadata": {
    "colab_type": "text",
    "id": "l5hgoBXLGcbS"
   },
   "source": [
    "### Оценка сложности алгоритма\n",
    "Метрика - количество узлов ветвления"
   ]
  },
  {
   "cell_type": "code",
   "execution_count": null,
   "metadata": {
    "colab": {},
    "colab_type": "code",
    "id": "ZNpxlUIVGcbU",
    "outputId": "f7b2b017-fd69-407a-837b-00c9f733ec05"
   },
   "outputs": [],
   "source": [
    "results = dict()\n",
    "for n in range(10, 101, 5):\n",
    "    results[n] = []\n",
    "    for i in range(1):\n",
    "        print('\\r', len(results[n]), end='')\n",
    "        t = 0\n",
    "        s = Schedule(n)\n",
    "        timing = %timeit -q -o -r 5 main(s, t)\n",
    "        results[n].append(np.mean(timing.timings))\n",
    "    print(\" --\", n, \"tasks\")\n",
    "    \n",
    "    json.dump(results, open('results_timings.json', 'w'))"
   ]
  },
  {
   "cell_type": "markdown",
   "metadata": {
    "colab_type": "text",
    "id": "33-GuWCbGcbe"
   },
   "source": [
    "### Примеры малой размерности"
   ]
  },
  {
   "cell_type": "code",
   "execution_count": 0,
   "metadata": {
    "colab": {},
    "colab_type": "code",
    "id": "Y3k2_TEaGcbg",
    "outputId": "c08fb9d4-6145-497c-8131-ee06b1c89f08"
   },
   "outputs": [
    {
     "data": {
      "text/plain": [
       "<matplotlib.legend.Legend at 0x256fae3bdd8>"
      ]
     },
     "execution_count": 328,
     "metadata": {
      "tags": []
     },
     "output_type": "execute_result"
    },
    {
     "data": {
      "image/png": "[encoded data removed]",
      "text/plain": [
       "<Figure size 720x432 with 1 Axes>"
      ]
     },
     "metadata": {
      "needs_background": "light",
      "tags": []
     },
     "output_type": "display_data"
    }
   ],
   "source": [
    "x = []\n",
    "y = []\n",
    "#yf = []\n",
    "for k in results2.keys():\n",
    "    y.append(np.median(results2[k]))\n",
    "    x.append(k)\n",
    "    #yf.append(np.math.factorial(k))\n",
    "\n",
    "fig = plt.figure(figsize=(10, 6))\n",
    "ax = fig.add_subplot(111, title='Производительность \"двойственного\" алгоритма')\n",
    "ax.grid()\n",
    "ax.scatter(x, y, linewidth=4, label=\"Данные эксперимента\")\n",
    "ax.set_xlabel(\"Количество заданий в примере\")\n",
    "ax.set_ylabel(\"Количество точек ветвления (ср. знач.)\")\n",
    "i = 1\n",
    "ax.plot(x, z[i](list(map(int, x))),\n",
    "        label='Аппроксимация полиномом %s степени' % (i+1),\n",
    "        linewidth=7,\n",
    "        alpha=0.3)\n",
    "ax.legend()"
   ]
  },
  {
   "cell_type": "markdown",
   "metadata": {
    "colab_type": "text",
    "id": "Yim8WoRfGcbp"
   },
   "source": [
    "### Примеры большой размерности"
   ]
  },
  {
   "cell_type": "code",
   "execution_count": 0,
   "metadata": {
    "colab": {},
    "colab_type": "code",
    "id": "4Inl2hTNGcbr",
    "outputId": "810c4436-9d24-4c13-e037-f5b26cf148d8"
   },
   "outputs": [
    {
     "data": {
      "text/plain": [
       "<matplotlib.legend.Legend at 0x256fd50d550>"
      ]
     },
     "execution_count": 311,
     "metadata": {
      "tags": []
     },
     "output_type": "execute_result"
    },
    {
     "data": {
      "image/png": "[encoded data removed]",
      "text/plain": [
       "<Figure size 720x432 with 1 Axes>"
      ]
     },
     "metadata": {
      "needs_background": "light",
      "tags": []
     },
     "output_type": "display_data"
    }
   ],
   "source": [
    "x = []\n",
    "y = []\n",
    "for k in results.keys():\n",
    "    y.append(np.median(results[k]))\n",
    "    x.append(k)\n",
    "\n",
    "fig = plt.figure(figsize=(10, 6))\n",
    "ax = fig.add_subplot(111)\n",
    "ax.grid()\n",
    "ax.scatter(x, y, linewidth=4, label=\"Данные эксперимента\")\n",
    "ax.set_xlabel(\"Количество заданий в примере\")\n",
    "ax.set_ylabel(\"Время выполнения (ср. знач.), с\")\n",
    "i = 1\n",
    "ax.plot(x, z[1](x), label='Аппроксимация полиномом %s степени' % (i+1),\n",
    "        linewidth=7,\n",
    "        alpha=0.3)\n",
    "ax.legend()"
   ]
  },
  {
   "cell_type": "markdown",
   "metadata": {},
   "source": [
    "## Проверка быстродействия\n",
    "Метрика - время выполнения алгоритма"
   ]
  },
  {
   "cell_type": "code",
   "execution_count": 50,
   "metadata": {},
   "outputs": [
    {
     "data": {
      "text/plain": [
       "<matplotlib.legend.Legend at 0x1cf31b1d358>"
      ]
     },
     "execution_count": 50,
     "metadata": {},
     "output_type": "execute_result"
    },
    {
     "data": {
      "image/png": "[encoded data removed]",
      "text/plain": [
       "<Figure size 720x432 with 1 Axes>"
      ]
     },
     "metadata": {
      "needs_background": "light"
     },
     "output_type": "display_data"
    }
   ],
   "source": [
    "x = list(results.keys())[:-1]\n",
    "y = list(map(lambda x: x[0], list(results.values())[:-1]))\n",
    "z = [approx(x, y, i) for i in range(1, 6)]\n",
    "\n",
    "fig = plt.figure(figsize=(10, 6))\n",
    "ax = fig.add_subplot(111)\n",
    "ax.grid()\n",
    "ax.scatter(x, y, linewidth=4, label=\"Данные эксперимента\")\n",
    "ax.set_xlabel(\"Количество заданий в примере\")\n",
    "ax.set_ylabel(\"Время выполнения (ср. знач.), с\")\n",
    "for i in range(5):\n",
    "    ax.plot(x, z[i](x), label='Аппроксимация полиномом %s степени' % (i+1),\n",
    "        linewidth=7,\n",
    "        alpha=0.3)\n",
    "ax.legend()"
   ]
  },
  {
   "cell_type": "code",
   "execution_count": 11,
   "metadata": {},
   "outputs": [
    {
     "data": {
      "text/plain": [
       "<matplotlib.legend.Legend at 0x1af9b4526d8>"
      ]
     },
     "execution_count": 11,
     "metadata": {},
     "output_type": "execute_result"
    },
    {
     "data": {
      "image/png": "[encoded data removed]",
      "text/plain": [
       "<Figure size 720x432 with 1 Axes>"
      ]
     },
     "metadata": {
      "needs_background": "light"
     },
     "output_type": "display_data"
    }
   ],
   "source": [
    "i = 4\n",
    "x = list(map(int, list(results.keys())[:-1]))\n",
    "y = list(map(lambda x: x[0], list(results.values())[:-1]))\n",
    "z = approx(x, y, i)\n",
    "\n",
    "fig = plt.figure(figsize=(10, 6))\n",
    "ax = fig.add_subplot(111)\n",
    "ax.grid()\n",
    "ax.scatter(x, y, linewidth=4, label=\"Данные эксперимента\")\n",
    "ax.set_xlabel(\"Количество заданий в примере\")\n",
    "ax.set_ylabel(\"Время выполнения (ср. знач.), с\")\n",
    "ax.plot(x, z(x), label='Аппроксимация полиномом %s степени' % (i),\n",
    "        linewidth=7,\n",
    "        alpha=0.3)\n",
    "ax.legend()"
   ]
  },
  {
   "cell_type": "markdown",
   "metadata": {},
   "source": [
    "## Функция аппроксимации"
   ]
  },
  {
   "cell_type": "code",
   "execution_count": 6,
   "metadata": {
    "colab": {},
    "colab_type": "code",
    "id": "IlvAq2HuGcbx"
   },
   "outputs": [],
   "source": [
    "def approx(x, y, i):\n",
    "    \"\"\"\n",
    "    Parameters:\n",
    "     - x - x values list\n",
    "     - y - y values list\n",
    "     - i - polynome power\n",
    "    Returns:\n",
    "     numpy poly1d function\n",
    "    \"\"\"\n",
    "    return np.poly1d(np.polyfit(list(map(float, x)),\n",
    "                                list(map(float, y)),\n",
    "                                i))"
   ]
  },
  {
   "cell_type": "code",
   "execution_count": null,
   "metadata": {},
   "outputs": [],
   "source": []
  },
  {
   "cell_type": "code",
   "execution_count": null,
   "metadata": {},
   "outputs": [],
   "source": []
  },
  {
   "cell_type": "code",
   "execution_count": 80,
   "metadata": {},
   "outputs": [
    {
     "name": "stdout",
     "output_type": "stream",
     "text": [
      " 700"
     ]
    },
    {
     "ename": "KeyboardInterrupt",
     "evalue": "",
     "output_type": "error",
     "traceback": [
      "\u001b[1;31m---------------------------------------------------------------------------\u001b[0m",
      "\u001b[1;31mKeyboardInterrupt\u001b[0m                         Traceback (most recent call last)",
      "\u001b[1;32m<ipython-input-80-ff3986e5f423>\u001b[0m in \u001b[0;36m<module>\u001b[1;34m\u001b[0m\n\u001b[0;32m      2\u001b[0m \u001b[1;32mfor\u001b[0m \u001b[0mi\u001b[0m \u001b[1;32min\u001b[0m \u001b[0mrange\u001b[0m\u001b[1;33m(\u001b[0m\u001b[1;36m300000\u001b[0m\u001b[1;33m)\u001b[0m\u001b[1;33m:\u001b[0m\u001b[1;33m\u001b[0m\u001b[1;33m\u001b[0m\u001b[0m\n\u001b[0;32m      3\u001b[0m     \u001b[0ms\u001b[0m \u001b[1;33m=\u001b[0m \u001b[0mSchedule\u001b[0m\u001b[1;33m(\u001b[0m\u001b[1;36m4\u001b[0m\u001b[1;33m)\u001b[0m\u001b[1;33m\u001b[0m\u001b[1;33m\u001b[0m\u001b[0m\n\u001b[1;32m----> 4\u001b[1;33m     \u001b[0mbp\u001b[0m\u001b[1;33m,\u001b[0m \u001b[0mcounter\u001b[0m \u001b[1;33m=\u001b[0m \u001b[0mmain\u001b[0m\u001b[1;33m(\u001b[0m\u001b[0ms\u001b[0m\u001b[1;33m)\u001b[0m\u001b[1;33m\u001b[0m\u001b[1;33m\u001b[0m\u001b[0m\n\u001b[0m\u001b[0;32m      5\u001b[0m     \u001b[1;32mif\u001b[0m \u001b[0mcounter\u001b[0m \u001b[1;32mnot\u001b[0m \u001b[1;32min\u001b[0m \u001b[0mresults\u001b[0m\u001b[1;33m.\u001b[0m\u001b[0mkeys\u001b[0m\u001b[1;33m(\u001b[0m\u001b[1;33m)\u001b[0m\u001b[1;33m:\u001b[0m\u001b[1;33m\u001b[0m\u001b[1;33m\u001b[0m\u001b[0m\n\u001b[0;32m      6\u001b[0m         \u001b[0mresults\u001b[0m\u001b[1;33m[\u001b[0m\u001b[0mcounter\u001b[0m\u001b[1;33m]\u001b[0m \u001b[1;33m=\u001b[0m \u001b[1;36m1\u001b[0m\u001b[1;33m\u001b[0m\u001b[1;33m\u001b[0m\u001b[0m\n",
      "\u001b[1;32m<ipython-input-49-2cba331b74c4>\u001b[0m in \u001b[0;36mmain\u001b[1;34m(N, tau)\u001b[0m\n\u001b[0;32m     44\u001b[0m             \u001b[1;31m#pi1.show()\u001b[0m\u001b[1;33m\u001b[0m\u001b[1;33m\u001b[0m\u001b[1;33m\u001b[0m\u001b[0m\n\u001b[0;32m     45\u001b[0m             \u001b[1;32mif\u001b[0m \u001b[0mpi1\u001b[0m\u001b[1;33m.\u001b[0m\u001b[0mlength\u001b[0m\u001b[1;33m(\u001b[0m\u001b[1;33m)\u001b[0m \u001b[1;33m==\u001b[0m \u001b[0mN\u001b[0m\u001b[1;33m.\u001b[0m\u001b[0mlength\u001b[0m\u001b[1;33m(\u001b[0m\u001b[1;33m)\u001b[0m\u001b[1;33m:\u001b[0m\u001b[1;33m\u001b[0m\u001b[1;33m\u001b[0m\u001b[0m\n\u001b[1;32m---> 46\u001b[1;33m                 \u001b[1;32mif\u001b[0m \u001b[0mmax\u001b[0m\u001b[1;33m(\u001b[0m\u001b[0mpi1\u001b[0m\u001b[1;33m.\u001b[0m\u001b[0mL_max\u001b[0m\u001b[1;33m(\u001b[0m\u001b[0mtau\u001b[0m\u001b[1;33m)\u001b[0m\u001b[1;33m,\u001b[0m \u001b[0mdual\u001b[0m\u001b[1;33m(\u001b[0m\u001b[0mpi1\u001b[0m\u001b[1;33m,\u001b[0m \u001b[0mtau\u001b[0m\u001b[1;33m,\u001b[0m \u001b[1;33m[\u001b[0m\u001b[1;33m]\u001b[0m\u001b[1;33m)\u001b[0m\u001b[1;33m[\u001b[0m\u001b[1;36m0\u001b[0m\u001b[1;33m]\u001b[0m\u001b[1;33m)\u001b[0m \u001b[1;33m<\u001b[0m \u001b[0mmax\u001b[0m\u001b[1;33m(\u001b[0m\u001b[0mbestPi\u001b[0m\u001b[1;33m.\u001b[0m\u001b[0mL_max\u001b[0m\u001b[1;33m(\u001b[0m\u001b[0mtau\u001b[0m\u001b[1;33m)\u001b[0m\u001b[1;33m,\u001b[0m \u001b[0mdual\u001b[0m\u001b[1;33m(\u001b[0m\u001b[0mbestPi\u001b[0m\u001b[1;33m,\u001b[0m \u001b[0mtau\u001b[0m\u001b[1;33m,\u001b[0m \u001b[1;33m[\u001b[0m\u001b[1;33m]\u001b[0m\u001b[1;33m)\u001b[0m\u001b[1;33m[\u001b[0m\u001b[1;36m0\u001b[0m\u001b[1;33m]\u001b[0m\u001b[1;33m)\u001b[0m\u001b[1;33m:\u001b[0m\u001b[1;33m\u001b[0m\u001b[1;33m\u001b[0m\u001b[0m\n\u001b[0m\u001b[0;32m     47\u001b[0m                     \u001b[0mbestPi\u001b[0m \u001b[1;33m=\u001b[0m \u001b[0mpi1\u001b[0m\u001b[1;33m.\u001b[0m\u001b[0mcopy\u001b[0m\u001b[1;33m(\u001b[0m\u001b[1;33m)\u001b[0m\u001b[1;33m\u001b[0m\u001b[1;33m\u001b[0m\u001b[0m\n\u001b[0;32m     48\u001b[0m             instances = [i for i in instances\n",
      "\u001b[1;32m<ipython-input-43-0309d170f394>\u001b[0m in \u001b[0;36mdual\u001b[1;34m(N, tau, B)\u001b[0m\n\u001b[0;32m     14\u001b[0m             \u001b[0mi_k\u001b[0m \u001b[1;33m=\u001b[0m \u001b[0mpi_k\u001b[0m\u001b[1;33m.\u001b[0m\u001b[0mpop\u001b[0m\u001b[1;33m(\u001b[0m\u001b[0mk\u001b[0m\u001b[1;33m)\u001b[0m\u001b[1;33m\u001b[0m\u001b[1;33m\u001b[0m\u001b[0m\n\u001b[0;32m     15\u001b[0m             \u001b[1;32mif\u001b[0m \u001b[0mpi_k\u001b[0m\u001b[1;33m.\u001b[0m\u001b[0mlength\u001b[0m\u001b[1;33m(\u001b[0m\u001b[1;33m)\u001b[0m \u001b[1;33m>\u001b[0m \u001b[1;36m0\u001b[0m\u001b[1;33m:\u001b[0m\u001b[1;33m\u001b[0m\u001b[1;33m\u001b[0m\u001b[0m\n\u001b[1;32m---> 16\u001b[1;33m                 \u001b[0mi_l\u001b[0m \u001b[1;33m=\u001b[0m \u001b[0mpi_k\u001b[0m\u001b[1;33m.\u001b[0m\u001b[0mpop\u001b[0m\u001b[1;33m(\u001b[0m\u001b[0mnp\u001b[0m\u001b[1;33m.\u001b[0m\u001b[0margmin\u001b[0m\u001b[1;33m(\u001b[0m\u001b[0mpi_k\u001b[0m\u001b[1;33m.\u001b[0m\u001b[0marray\u001b[0m\u001b[1;33m,\u001b[0m \u001b[0maxis\u001b[0m\u001b[1;33m=\u001b[0m\u001b[1;36m0\u001b[0m\u001b[1;33m)\u001b[0m\u001b[1;33m[\u001b[0m\u001b[1;36m0\u001b[0m\u001b[1;33m]\u001b[0m\u001b[1;33m)\u001b[0m\u001b[1;33m\u001b[0m\u001b[1;33m\u001b[0m\u001b[0m\n\u001b[0m\u001b[0;32m     17\u001b[0m                 \u001b[0mpi_k\u001b[0m\u001b[1;33m.\u001b[0m\u001b[0minsert\u001b[0m\u001b[1;33m(\u001b[0m\u001b[0mpi_k\u001b[0m\u001b[1;33m.\u001b[0m\u001b[0mlength\u001b[0m\u001b[1;33m(\u001b[0m\u001b[1;33m)\u001b[0m\u001b[1;33m,\u001b[0m \u001b[0mi_k\u001b[0m\u001b[1;33m)\u001b[0m\u001b[1;33m\u001b[0m\u001b[1;33m\u001b[0m\u001b[0m\n\u001b[0;32m     18\u001b[0m                 \u001b[0mpi_k\u001b[0m\u001b[1;33m.\u001b[0m\u001b[0minsert\u001b[0m\u001b[1;33m(\u001b[0m\u001b[1;36m0\u001b[0m\u001b[1;33m,\u001b[0m \u001b[0mi_l\u001b[0m\u001b[1;33m)\u001b[0m\u001b[1;33m\u001b[0m\u001b[1;33m\u001b[0m\u001b[0m\n",
      "\u001b[1;32mC:\\ProgramData\\Anaconda3\\lib\\site-packages\\numpy\\core\\fromnumeric.py\u001b[0m in \u001b[0;36margmin\u001b[1;34m(a, axis, out)\u001b[0m\n\u001b[0;32m   1099\u001b[0m \u001b[1;33m\u001b[0m\u001b[0m\n\u001b[0;32m   1100\u001b[0m     \"\"\"\n\u001b[1;32m-> 1101\u001b[1;33m     \u001b[1;32mreturn\u001b[0m \u001b[0m_wrapfunc\u001b[0m\u001b[1;33m(\u001b[0m\u001b[0ma\u001b[0m\u001b[1;33m,\u001b[0m \u001b[1;34m'argmin'\u001b[0m\u001b[1;33m,\u001b[0m \u001b[0maxis\u001b[0m\u001b[1;33m=\u001b[0m\u001b[0maxis\u001b[0m\u001b[1;33m,\u001b[0m \u001b[0mout\u001b[0m\u001b[1;33m=\u001b[0m\u001b[0mout\u001b[0m\u001b[1;33m)\u001b[0m\u001b[1;33m\u001b[0m\u001b[1;33m\u001b[0m\u001b[0m\n\u001b[0m\u001b[0;32m   1102\u001b[0m \u001b[1;33m\u001b[0m\u001b[0m\n\u001b[0;32m   1103\u001b[0m \u001b[1;33m\u001b[0m\u001b[0m\n",
      "\u001b[1;32mC:\\ProgramData\\Anaconda3\\lib\\site-packages\\numpy\\core\\fromnumeric.py\u001b[0m in \u001b[0;36m_wrapfunc\u001b[1;34m(obj, method, *args, **kwds)\u001b[0m\n\u001b[0;32m     49\u001b[0m \u001b[1;32mdef\u001b[0m \u001b[0m_wrapfunc\u001b[0m\u001b[1;33m(\u001b[0m\u001b[0mobj\u001b[0m\u001b[1;33m,\u001b[0m \u001b[0mmethod\u001b[0m\u001b[1;33m,\u001b[0m \u001b[1;33m*\u001b[0m\u001b[0margs\u001b[0m\u001b[1;33m,\u001b[0m \u001b[1;33m**\u001b[0m\u001b[0mkwds\u001b[0m\u001b[1;33m)\u001b[0m\u001b[1;33m:\u001b[0m\u001b[1;33m\u001b[0m\u001b[1;33m\u001b[0m\u001b[0m\n\u001b[0;32m     50\u001b[0m     \u001b[1;32mtry\u001b[0m\u001b[1;33m:\u001b[0m\u001b[1;33m\u001b[0m\u001b[1;33m\u001b[0m\u001b[0m\n\u001b[1;32m---> 51\u001b[1;33m         \u001b[1;32mreturn\u001b[0m \u001b[0mgetattr\u001b[0m\u001b[1;33m(\u001b[0m\u001b[0mobj\u001b[0m\u001b[1;33m,\u001b[0m \u001b[0mmethod\u001b[0m\u001b[1;33m)\u001b[0m\u001b[1;33m(\u001b[0m\u001b[1;33m*\u001b[0m\u001b[0margs\u001b[0m\u001b[1;33m,\u001b[0m \u001b[1;33m**\u001b[0m\u001b[0mkwds\u001b[0m\u001b[1;33m)\u001b[0m\u001b[1;33m\u001b[0m\u001b[1;33m\u001b[0m\u001b[0m\n\u001b[0m\u001b[0;32m     52\u001b[0m \u001b[1;33m\u001b[0m\u001b[0m\n\u001b[0;32m     53\u001b[0m     \u001b[1;31m# An AttributeError occurs if the object does not have\u001b[0m\u001b[1;33m\u001b[0m\u001b[1;33m\u001b[0m\u001b[1;33m\u001b[0m\u001b[0m\n",
      "\u001b[1;31mKeyboardInterrupt\u001b[0m: "
     ]
    }
   ],
   "source": [
    "#results = {}\n",
    "for i in range(300000):\n",
    "    s = Schedule(4)\n",
    "    bp, counter = main(s)\n",
    "    if counter not in results.keys():\n",
    "        results[counter] = 1\n",
    "    else:\n",
    "        results[counter] += 1\n",
    "    if i % 100 == 0: print('\\r', i, end='')"
   ]
  },
  {
   "cell_type": "code",
   "execution_count": 81,
   "metadata": {},
   "outputs": [
    {
     "data": {
      "text/plain": [
       "{16: 669, 10: 21, 14: 33}"
      ]
     },
     "execution_count": 81,
     "metadata": {},
     "output_type": "execute_result"
    }
   ],
   "source": [
    "results"
   ]
  }
 ],
 "metadata": {
  "colab": {
   "include_colab_link": true,
   "name": "LMax.ipynb",
   "provenance": []
  },
  "kernelspec": {
   "display_name": "Python 3",
   "language": "python",
   "name": "python3"
  },
  "language_info": {
   "codemirror_mode": {
    "name": "ipython",
    "version": 3
   },
   "file_extension": ".py",
   "mimetype": "text/x-python",
   "name": "python",
   "nbconvert_exporter": "python",
   "pygments_lexer": "ipython3",
   "version": "3.7.1"
  }
 },
 "nbformat": 4,
 "nbformat_minor": 1
}
