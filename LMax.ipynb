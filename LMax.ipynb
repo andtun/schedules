{
 "cells": [
  {
   "cell_type": "markdown",
   "metadata": {},
   "source": [
    "# Тестирование двойственного алгоритма решения задачи минимизации максимального запаздывания"
   ]
  },
  {
   "cell_type": "markdown",
   "metadata": {},
   "source": [
    "### Импорты"
   ]
  },
  {
   "cell_type": "code",
   "execution_count": 1530,
   "metadata": {},
   "outputs": [],
   "source": [
    "import time\n",
    "import json\n",
    "import random\n",
    "import numpy as np\n",
    "import matplotlib.pyplot as plt\n",
    "from itertools import permutations\n",
    "from scipy.optimize import curve_fit"
   ]
  },
  {
   "cell_type": "markdown",
   "metadata": {},
   "source": [
    "### Класс \"Расписание\""
   ]
  },
  {
   "cell_type": "code",
   "execution_count": 1844,
   "metadata": {},
   "outputs": [],
   "source": [
    "class Schedule:\n",
    "    \"\"\"\n",
    "    A wrap around arrays of shape (n, 3), \n",
    "    where n is the number of jobs in the schedule\n",
    "    and each job parameters are ordered as follows:\n",
    "    r | p | d\n",
    "    \"\"\"\n",
    "    array = None\n",
    "    \n",
    "    def __init__(self, array):\n",
    "        \"\"\"\n",
    "        Arguments:\n",
    "        - array: int or list/np.ndarray\n",
    "        if int, the schedule is generated randomly and contains n elements\n",
    "        if list/np.ndarray/etc., the array is directly transformed into schedule\n",
    "        \"\"\"\n",
    "        if isinstance(array, int):\n",
    "            self.array = np.random.randint(1, 1000, size=(array, 3))\n",
    "            #self.array[:,2] = self.array[:,2] + self.array[:,1] + self.array[:,0] # for non-negative time slack\n",
    "        else: self.array = np.copy(array)\n",
    "    \n",
    "    def show(self):\n",
    "        print(\" r  |  p  |  d \")\n",
    "        print(self.array)\n",
    "        \n",
    "    def sort(self):\n",
    "        self.array = self.array[self.array[:,0].argsort()]\n",
    "        \n",
    "    def remove(self, B):\n",
    "        idx = []\n",
    "        for i, e in enumerate(np.isin(self.array, B)):\n",
    "            if e.all():\n",
    "                idx.append(i)\n",
    "        self.array = np.delete(self.array, idx, axis=0)\n",
    "    \n",
    "    def pop(self, index=-1):\n",
    "        e = self.array[index]\n",
    "        self.array = np.delete(self.array, index, axis=0)\n",
    "        return e\n",
    "    \n",
    "    def copy(self):\n",
    "        return Schedule(np.copy(self.array))\n",
    "    \n",
    "    def insert(self, index, elem):\n",
    "        self.array = np.insert(self.array, index, elem, axis=0)\n",
    "        \n",
    "    def length(self):\n",
    "        return self.array.shape[0]\n",
    "    \n",
    "    def C(self, j=None):\n",
    "        t = 0\n",
    "        for task in self.array[:j]:\n",
    "            if t < task[0]:\n",
    "                t = task[0]\n",
    "            t += task[1]\n",
    "        return t\n",
    "    \n",
    "    def timeshift(self, tau):\n",
    "        for i in range(self.length()):\n",
    "            self.array[i,0] -= tau\n",
    "            \n",
    "    def L_max(self, tau):\n",
    "        if len(self.array) == 0:\n",
    "            return 0\n",
    "        a = self.copy()\n",
    "        a.timeshift(tau)\n",
    "        return max([self.C(j+1) - a.array[j,2] for j in range(len(a.array))]) + tau\n"
   ]
  },
  {
   "cell_type": "code",
   "execution_count": 1662,
   "metadata": {},
   "outputs": [],
   "source": [
    "a = Schedule(5).array"
   ]
  },
  {
   "cell_type": "code",
   "execution_count": 1663,
   "metadata": {},
   "outputs": [],
   "source": [
    "a[:,2] = a[:, 2] + a[:, 1] + a[:, 0]"
   ]
  },
  {
   "cell_type": "code",
   "execution_count": 1664,
   "metadata": {},
   "outputs": [
    {
     "data": {
      "text/plain": [
       "array([[ 666,  862, 2277],\n",
       "       [ 317,  845, 1578],\n",
       "       [ 791,  628, 1565],\n",
       "       [ 224,  434,  854],\n",
       "       [  60,  573, 1341]])"
      ]
     },
     "execution_count": 1664,
     "metadata": {},
     "output_type": "execute_result"
    }
   ],
   "source": [
    "a"
   ]
  },
  {
   "cell_type": "markdown",
   "metadata": {},
   "source": [
    "### Алгоритм решения двойственной задачи"
   ]
  },
  {
   "cell_type": "code",
   "execution_count": 1898,
   "metadata": {},
   "outputs": [],
   "source": [
    "def dual(N, tau, B):\n",
    "    pi_r = N.copy()\n",
    "    pi_r.remove(B)\n",
    "    #pi_r.timeshift(tau)\n",
    "    pi_r.sort()\n",
    "    bestC = pi_r.C()\n",
    "    bestI = 0\n",
    "    if True:\n",
    "        for k, e in enumerate(pi_r.array):\n",
    "            pi_k = pi_r.copy()\n",
    "            i_k = pi_k.pop(k)\n",
    "            if pi_k.length() > 0:\n",
    "                i_l = pi_k.pop(np.argmin(pi_k.array, axis=0)[0])\n",
    "                pi_k.insert(pi_k.length(), i_k)\n",
    "                pi_k.insert(0, i_l)\n",
    "                C_k = pi_k.C()\n",
    "                if C_k < bestC:\n",
    "                    bestC = C_k\n",
    "                    bestI = k\n",
    "        return bestC + tau, bestI\n",
    "        "
   ]
  },
  {
   "cell_type": "code",
   "execution_count": 1913,
   "metadata": {},
   "outputs": [
    {
     "name": "stdout",
     "output_type": "stream",
     "text": [
      "4564\n",
      "4452\n"
     ]
    }
   ],
   "source": [
    "s = Schedule(10)\n",
    "print(s.C())\n",
    "print(dual(s, 0, [])[0])"
   ]
  },
  {
   "cell_type": "markdown",
   "metadata": {},
   "source": [
    "### Класс \"пример\"\n",
    "Содержит все параметры примера, указанные в статье: $N,\\tau, \\nu, \\pi, B$, при чём $\\nu$ автоматически вычисляется применением двойственного алгоритма к $N$"
   ]
  },
  {
   "cell_type": "code",
   "execution_count": 1667,
   "metadata": {},
   "outputs": [],
   "source": [
    "class Instance:\n",
    "    \n",
    "    def __init__(self, N, tau, pi=Schedule([]), B=[]):\n",
    "        \"\"\"\n",
    "        Arguments:\n",
    "        - N - Schedule object\n",
    "        - tau - int or (possibly) float\n",
    "        - pi - Schedule object\n",
    "        - B - list\n",
    "        \"\"\"\n",
    "        self.N = N.copy()\n",
    "        self.tau = tau\n",
    "        self.nu = dual(N, tau, B)[0]\n",
    "        self.pi = pi.copy()\n",
    "        self.B = B.copy()\n",
    "        \n",
    "    def best_job(self):\n",
    "        N1 = self.N.copy()\n",
    "        N1.remove(self.B)\n",
    "        if len(N1.array) == 0:\n",
    "            return\n",
    "        a = N1.array[N1.array[:,0] <= self.tau]\n",
    "        if len(a) == 0:\n",
    "            self.tau = np.min(N1.array[:,0], axis=0)\n",
    "            a = N1.array[N1.array[:,0] <= self.tau]\n",
    "        f = min(a, key=lambda x: x[2])\n",
    "        return f"
   ]
  },
  {
   "cell_type": "markdown",
   "metadata": {},
   "source": [
    "### Алгоритм решения задачи $1|r_j|L_{max}$"
   ]
  },
  {
   "cell_type": "code",
   "execution_count": 1920,
   "metadata": {},
   "outputs": [],
   "source": [
    "# timeout parameter sets maximum calculation time limit in seconds for one schedule\n",
    "timeout = 2000\n",
    "\n",
    "def main(N, tau):\n",
    "    tb = time.time()\n",
    "    c = 0\n",
    "    bestPi = None    # в алгоритме сказано изначально задать pi* пустым множеством, но ведь тогда его Lateness будет нулём, и это pi* и будет всё время определяться в качетсве оптимального\n",
    "    instances = [Instance(N, tau)]\n",
    "    while len(instances) > 0:\n",
    "        ti = time.time()\n",
    "        if ti - tb > timeout:\n",
    "            return Schedule([]), -1\n",
    "        index, instance = min(enumerate(instances), key=lambda x: x[1].nu)\n",
    "        f = instance.best_job()\n",
    "        instances.pop(index)\n",
    "        if f is not None:\n",
    "\n",
    "            N1 = instance.N.copy()\n",
    "            N1.remove(f)\n",
    "            tau1 = max(f[0], instance.tau) + f[1]\n",
    "            B1 = []\n",
    "            a1 = np.copy(instance.pi.array)\n",
    "            if len(a1) == 0:\n",
    "                a1 = np.copy([f,])\n",
    "            else:\n",
    "                a1 = np.append(a1, [f,], axis=0)\n",
    "            pi1 = Schedule(a1)\n",
    "            i1 = Instance(N1, tau1, pi1, B1)\n",
    "\n",
    "            N2 = instance.N\n",
    "            tau2 = instance.tau\n",
    "            if len(instance.B) == 0:\n",
    "                B2 = np.copy([f,])\n",
    "            else:\n",
    "                B2 = np.append(instance.B, [f,], axis=0)\n",
    "            pi2 = instance.pi\n",
    "            i2 = Instance(N2, tau2, pi2, B2)\n",
    "\n",
    "            instances += [i1, i2]\n",
    "            c += 1\n",
    "\n",
    "            if pi1.length() == N.length():\n",
    "                if bestPi is None:\n",
    "                    bestPi = pi1.copy()\n",
    "                if pi1.L_max(tau) < bestPi.L_max(tau):\n",
    "                    bestPi = pi1.copy()\n",
    "            #print(\"instance nu: %s\\ni1 nu: %s\\ni2 nu: %s\" % (instance.nu, i1.nu, i2.nu))\n",
    "            #print(\"Lmax:\", bestPi.L_max(tau))\n",
    "            instances = [i for i in instances if i.nu < bestPi.L_max(tau)]\n",
    "\n",
    "    return bestPi, c"
   ]
  },
  {
   "cell_type": "code",
   "execution_count": 1957,
   "metadata": {},
   "outputs": [
    {
     "name": "stdout",
     "output_type": "stream",
     "text": [
      " r  |  p  |  d \n",
      "[[591 812 337]\n",
      " [126 750 889]\n",
      " [238 973 832]\n",
      " [733 765 698]\n",
      " [791 777 678]]\n",
      " r  |  p  |  d \n",
      "[[126 750 889]\n",
      " [591 812 337]\n",
      " [791 777 678]\n",
      " [733 765 698]\n",
      " [238 973 832]]\n",
      "56\n",
      "3990\n",
      "3371\n",
      "3371\n"
     ]
    }
   ],
   "source": [
    "s = Schedule(5)\n",
    "s.show()\n",
    "m, c = main(s, 0)\n",
    "#m = bruteforce(s, 0)\n",
    "m.show()\n",
    "print(c)\n",
    "print(s.L_max(0))\n",
    "print(m.L_max(0))\n",
    "print(bruteforce(s, 0).L_max(0))"
   ]
  },
  {
   "cell_type": "markdown",
   "metadata": {},
   "source": [
    "### Алгоритм перебора *всех* возможных вариантов"
   ]
  },
  {
   "cell_type": "code",
   "execution_count": 906,
   "metadata": {},
   "outputs": [],
   "source": [
    "def bruteforce(S, tau=10000):\n",
    "    N = np.copy(S.array)\n",
    "    best_L = Schedule(N).L_max(tau)\n",
    "    best_S = N\n",
    "    for p in permutations(N):\n",
    "        L = Schedule(p).L_max(tau)\n",
    "        if L < best_L:\n",
    "            best_L = L\n",
    "            best_S = p\n",
    "    return Schedule(best_S)"
   ]
  },
  {
   "cell_type": "markdown",
   "metadata": {},
   "source": [
    "# Тестирование"
   ]
  },
  {
   "cell_type": "markdown",
   "metadata": {},
   "source": [
    "### Подсчёт корректности работы алгоритма на примерах малой размерности\n",
    "**Количество задач в примере:** от 2 до 7\n",
    "\n",
    "**Количество примеров каждой размерности:** 500\n",
    "\n",
    "При этом решение, предложенное алгоритмом, сравнивается с решением, полученным методом перебора всех возможных вариантов без учёта запрета на прерывания - то есть перебором находится расписание с минимальным запаздыванием, пусть даже в этом расписании и встречаются прерывания"
   ]
  },
  {
   "cell_type": "code",
   "execution_count": 1556,
   "metadata": {},
   "outputs": [
    {
     "name": "stdout",
     "output_type": "stream",
     "text": [
      " 999 -- 2 tasks\n",
      " 999 -- 3 tasks\n",
      " 999 -- 4 tasks\n",
      "\n",
      " -------------------------------------------------- \n",
      " Correct: 61%\tIncorrect: 38%\n"
     ]
    }
   ],
   "source": [
    "tc = 0 # true counter - when the result is correct\n",
    "fc = 0 # false counter - when the result is incorrect\n",
    "for n in range(2, 5):\n",
    "    for i in range(1000):\n",
    "        print('\\r', i, end='')\n",
    "        t = random.randint(0, 1000)\n",
    "        s = Schedule(n)\n",
    "        result, count = main(s, t)\n",
    "        result = result.L_max(t)\n",
    "        realResult = bruteforce(s, t).L_max(t)\n",
    "        if result == realResult:\n",
    "            tc += 1\n",
    "        else:\n",
    "            fc += 1\n",
    "    print(\" --\", n, \"tasks\")\n",
    "print(\"\\n\", \"-\"*50, \"\\n Correct: %d%%\\tIncorrect: %d%%\" % (tc/(tc + fc)*100, fc/(tc + fc)*100))"
   ]
  },
  {
   "cell_type": "markdown",
   "metadata": {},
   "source": [
    "### Оценка сложности алгоритма\n",
    "Метрика - количество узлов ветвления\n",
    "\n",
    "**Размерность примеров:** от 2 до 25\n",
    "\n",
    "**Количество примеров каждой размерности:** 50"
   ]
  },
  {
   "cell_type": "code",
   "execution_count": 1586,
   "metadata": {},
   "outputs": [
    {
     "name": "stdout",
     "output_type": "stream",
     "text": [
      " 9 -- 2 tasks\n",
      " 9 -- 3 tasks\n",
      " 9 -- 4 tasks\n",
      " 9 -- 5 tasks\n",
      " 9 -- 6 tasks\n",
      " 9 -- 7 tasks\n",
      " 0"
     ]
    },
    {
     "ename": "KeyboardInterrupt",
     "evalue": "",
     "output_type": "error",
     "traceback": [
      "\u001b[1;31m---------------------------------------------------------------------------\u001b[0m",
      "\u001b[1;31mKeyboardInterrupt\u001b[0m                         Traceback (most recent call last)",
      "\u001b[1;32m<ipython-input-1586-d81d6a568c84>\u001b[0m in \u001b[0;36m<module>\u001b[1;34m\u001b[0m\n\u001b[0;32m      6\u001b[0m         \u001b[0mt\u001b[0m \u001b[1;33m=\u001b[0m \u001b[0mrandom\u001b[0m\u001b[1;33m.\u001b[0m\u001b[0mrandint\u001b[0m\u001b[1;33m(\u001b[0m\u001b[1;36m0\u001b[0m\u001b[1;33m,\u001b[0m \u001b[1;36m1000\u001b[0m\u001b[1;33m)\u001b[0m\u001b[1;33m\u001b[0m\u001b[1;33m\u001b[0m\u001b[0m\n\u001b[0;32m      7\u001b[0m         \u001b[0ms\u001b[0m \u001b[1;33m=\u001b[0m \u001b[0mSchedule\u001b[0m\u001b[1;33m(\u001b[0m\u001b[0mn\u001b[0m\u001b[1;33m)\u001b[0m\u001b[1;33m\u001b[0m\u001b[1;33m\u001b[0m\u001b[0m\n\u001b[1;32m----> 8\u001b[1;33m         \u001b[0mresult\u001b[0m\u001b[1;33m,\u001b[0m \u001b[0mcount\u001b[0m \u001b[1;33m=\u001b[0m \u001b[0mmain\u001b[0m\u001b[1;33m(\u001b[0m\u001b[0ms\u001b[0m\u001b[1;33m,\u001b[0m \u001b[0mt\u001b[0m\u001b[1;33m)\u001b[0m\u001b[1;33m\u001b[0m\u001b[1;33m\u001b[0m\u001b[0m\n\u001b[0m\u001b[0;32m      9\u001b[0m         \u001b[1;32mif\u001b[0m \u001b[0mcount\u001b[0m \u001b[1;33m!=\u001b[0m \u001b[1;33m-\u001b[0m\u001b[1;36m1\u001b[0m\u001b[1;33m:\u001b[0m\u001b[1;33m\u001b[0m\u001b[1;33m\u001b[0m\u001b[0m\n\u001b[0;32m     10\u001b[0m             \u001b[0mresults\u001b[0m\u001b[1;33m[\u001b[0m\u001b[0mn\u001b[0m\u001b[1;33m]\u001b[0m\u001b[1;33m.\u001b[0m\u001b[0mappend\u001b[0m\u001b[1;33m(\u001b[0m\u001b[0mcount\u001b[0m\u001b[1;33m)\u001b[0m\u001b[1;33m\u001b[0m\u001b[1;33m\u001b[0m\u001b[0m\n",
      "\u001b[1;32m<ipython-input-1584-ca1f3e66f818>\u001b[0m in \u001b[0;36mmain\u001b[1;34m(N, tau)\u001b[0m\n\u001b[0;32m     43\u001b[0m                 \u001b[1;32mif\u001b[0m \u001b[0mpi1\u001b[0m\u001b[1;33m.\u001b[0m\u001b[0mL_max\u001b[0m\u001b[1;33m(\u001b[0m\u001b[0mtau\u001b[0m\u001b[1;33m)\u001b[0m \u001b[1;33m<\u001b[0m \u001b[0mbestPi\u001b[0m\u001b[1;33m.\u001b[0m\u001b[0mL_max\u001b[0m\u001b[1;33m(\u001b[0m\u001b[0mtau\u001b[0m\u001b[1;33m)\u001b[0m\u001b[1;33m:\u001b[0m\u001b[1;33m\u001b[0m\u001b[1;33m\u001b[0m\u001b[0m\n\u001b[0;32m     44\u001b[0m                     \u001b[0mbestPi\u001b[0m \u001b[1;33m=\u001b[0m \u001b[0mpi1\u001b[0m\u001b[1;33m.\u001b[0m\u001b[0mcopy\u001b[0m\u001b[1;33m(\u001b[0m\u001b[1;33m)\u001b[0m\u001b[1;33m\u001b[0m\u001b[1;33m\u001b[0m\u001b[0m\n\u001b[1;32m---> 45\u001b[1;33m             \u001b[0minstances\u001b[0m \u001b[1;33m=\u001b[0m \u001b[1;33m[\u001b[0m\u001b[0mi\u001b[0m \u001b[1;32mfor\u001b[0m \u001b[0mi\u001b[0m \u001b[1;32min\u001b[0m \u001b[0minstances\u001b[0m \u001b[1;32mif\u001b[0m \u001b[0mi\u001b[0m\u001b[1;33m.\u001b[0m\u001b[0mnu\u001b[0m \u001b[1;33m<\u001b[0m \u001b[0mbestPi\u001b[0m\u001b[1;33m.\u001b[0m\u001b[0mL_max\u001b[0m\u001b[1;33m(\u001b[0m\u001b[0mtau\u001b[0m\u001b[1;33m)\u001b[0m\u001b[1;33m]\u001b[0m\u001b[1;33m\u001b[0m\u001b[1;33m\u001b[0m\u001b[0m\n\u001b[0m\u001b[0;32m     46\u001b[0m \u001b[1;33m\u001b[0m\u001b[0m\n\u001b[0;32m     47\u001b[0m     \u001b[1;32mreturn\u001b[0m \u001b[0mbestPi\u001b[0m\u001b[1;33m,\u001b[0m \u001b[0mc\u001b[0m\u001b[1;33m\u001b[0m\u001b[1;33m\u001b[0m\u001b[0m\n",
      "\u001b[1;32m<ipython-input-1584-ca1f3e66f818>\u001b[0m in \u001b[0;36m<listcomp>\u001b[1;34m(.0)\u001b[0m\n\u001b[0;32m     43\u001b[0m                 \u001b[1;32mif\u001b[0m \u001b[0mpi1\u001b[0m\u001b[1;33m.\u001b[0m\u001b[0mL_max\u001b[0m\u001b[1;33m(\u001b[0m\u001b[0mtau\u001b[0m\u001b[1;33m)\u001b[0m \u001b[1;33m<\u001b[0m \u001b[0mbestPi\u001b[0m\u001b[1;33m.\u001b[0m\u001b[0mL_max\u001b[0m\u001b[1;33m(\u001b[0m\u001b[0mtau\u001b[0m\u001b[1;33m)\u001b[0m\u001b[1;33m:\u001b[0m\u001b[1;33m\u001b[0m\u001b[1;33m\u001b[0m\u001b[0m\n\u001b[0;32m     44\u001b[0m                     \u001b[0mbestPi\u001b[0m \u001b[1;33m=\u001b[0m \u001b[0mpi1\u001b[0m\u001b[1;33m.\u001b[0m\u001b[0mcopy\u001b[0m\u001b[1;33m(\u001b[0m\u001b[1;33m)\u001b[0m\u001b[1;33m\u001b[0m\u001b[1;33m\u001b[0m\u001b[0m\n\u001b[1;32m---> 45\u001b[1;33m             \u001b[0minstances\u001b[0m \u001b[1;33m=\u001b[0m \u001b[1;33m[\u001b[0m\u001b[0mi\u001b[0m \u001b[1;32mfor\u001b[0m \u001b[0mi\u001b[0m \u001b[1;32min\u001b[0m \u001b[0minstances\u001b[0m \u001b[1;32mif\u001b[0m \u001b[0mi\u001b[0m\u001b[1;33m.\u001b[0m\u001b[0mnu\u001b[0m \u001b[1;33m<\u001b[0m \u001b[0mbestPi\u001b[0m\u001b[1;33m.\u001b[0m\u001b[0mL_max\u001b[0m\u001b[1;33m(\u001b[0m\u001b[0mtau\u001b[0m\u001b[1;33m)\u001b[0m\u001b[1;33m]\u001b[0m\u001b[1;33m\u001b[0m\u001b[1;33m\u001b[0m\u001b[0m\n\u001b[0m\u001b[0;32m     46\u001b[0m \u001b[1;33m\u001b[0m\u001b[0m\n\u001b[0;32m     47\u001b[0m     \u001b[1;32mreturn\u001b[0m \u001b[0mbestPi\u001b[0m\u001b[1;33m,\u001b[0m \u001b[0mc\u001b[0m\u001b[1;33m\u001b[0m\u001b[1;33m\u001b[0m\u001b[0m\n",
      "\u001b[1;32m<ipython-input-1423-bfa0cbb0afde>\u001b[0m in \u001b[0;36mL_max\u001b[1;34m(self, tau)\u001b[0m\n\u001b[0;32m     50\u001b[0m         \u001b[1;32mif\u001b[0m \u001b[0mlen\u001b[0m\u001b[1;33m(\u001b[0m\u001b[0mself\u001b[0m\u001b[1;33m.\u001b[0m\u001b[0marray\u001b[0m\u001b[1;33m)\u001b[0m \u001b[1;33m==\u001b[0m \u001b[1;36m0\u001b[0m\u001b[1;33m:\u001b[0m\u001b[1;33m\u001b[0m\u001b[1;33m\u001b[0m\u001b[0m\n\u001b[0;32m     51\u001b[0m             \u001b[1;32mreturn\u001b[0m \u001b[1;36m0\u001b[0m\u001b[1;33m\u001b[0m\u001b[1;33m\u001b[0m\u001b[0m\n\u001b[1;32m---> 52\u001b[1;33m         \u001b[0ma\u001b[0m \u001b[1;33m=\u001b[0m \u001b[0mself\u001b[0m\u001b[1;33m.\u001b[0m\u001b[0mcopy\u001b[0m\u001b[1;33m(\u001b[0m\u001b[1;33m)\u001b[0m\u001b[1;33m\u001b[0m\u001b[1;33m\u001b[0m\u001b[0m\n\u001b[0m\u001b[0;32m     53\u001b[0m         \u001b[0ma\u001b[0m\u001b[1;33m.\u001b[0m\u001b[0mtimeshift\u001b[0m\u001b[1;33m(\u001b[0m\u001b[0mtau\u001b[0m\u001b[1;33m)\u001b[0m\u001b[1;33m\u001b[0m\u001b[1;33m\u001b[0m\u001b[0m\n\u001b[0;32m     54\u001b[0m         \u001b[1;32mreturn\u001b[0m \u001b[0mmax\u001b[0m\u001b[1;33m(\u001b[0m\u001b[1;33m[\u001b[0m\u001b[0mself\u001b[0m\u001b[1;33m.\u001b[0m\u001b[0mC\u001b[0m\u001b[1;33m(\u001b[0m\u001b[0mj\u001b[0m\u001b[1;33m+\u001b[0m\u001b[1;36m1\u001b[0m\u001b[1;33m)\u001b[0m \u001b[1;33m-\u001b[0m \u001b[0ma\u001b[0m\u001b[1;33m.\u001b[0m\u001b[0marray\u001b[0m\u001b[1;33m[\u001b[0m\u001b[0mj\u001b[0m\u001b[1;33m,\u001b[0m\u001b[1;36m2\u001b[0m\u001b[1;33m]\u001b[0m \u001b[1;32mfor\u001b[0m \u001b[0mj\u001b[0m \u001b[1;32min\u001b[0m \u001b[0mrange\u001b[0m\u001b[1;33m(\u001b[0m\u001b[0mlen\u001b[0m\u001b[1;33m(\u001b[0m\u001b[0ma\u001b[0m\u001b[1;33m.\u001b[0m\u001b[0marray\u001b[0m\u001b[1;33m)\u001b[0m\u001b[1;33m)\u001b[0m\u001b[1;33m]\u001b[0m\u001b[1;33m)\u001b[0m \u001b[1;33m+\u001b[0m \u001b[0mtau\u001b[0m\u001b[1;33m\u001b[0m\u001b[1;33m\u001b[0m\u001b[0m\n",
      "\u001b[1;32m<ipython-input-1423-bfa0cbb0afde>\u001b[0m in \u001b[0;36mcopy\u001b[1;34m(self)\u001b[0m\n\u001b[0;32m     27\u001b[0m \u001b[1;33m\u001b[0m\u001b[0m\n\u001b[0;32m     28\u001b[0m     \u001b[1;32mdef\u001b[0m \u001b[0mcopy\u001b[0m\u001b[1;33m(\u001b[0m\u001b[0mself\u001b[0m\u001b[1;33m)\u001b[0m\u001b[1;33m:\u001b[0m\u001b[1;33m\u001b[0m\u001b[1;33m\u001b[0m\u001b[0m\n\u001b[1;32m---> 29\u001b[1;33m         \u001b[1;32mreturn\u001b[0m \u001b[0mSchedule\u001b[0m\u001b[1;33m(\u001b[0m\u001b[0mnp\u001b[0m\u001b[1;33m.\u001b[0m\u001b[0mcopy\u001b[0m\u001b[1;33m(\u001b[0m\u001b[0mself\u001b[0m\u001b[1;33m.\u001b[0m\u001b[0marray\u001b[0m\u001b[1;33m)\u001b[0m\u001b[1;33m)\u001b[0m\u001b[1;33m\u001b[0m\u001b[1;33m\u001b[0m\u001b[0m\n\u001b[0m\u001b[0;32m     30\u001b[0m \u001b[1;33m\u001b[0m\u001b[0m\n\u001b[0;32m     31\u001b[0m     \u001b[1;32mdef\u001b[0m \u001b[0minsert\u001b[0m\u001b[1;33m(\u001b[0m\u001b[0mself\u001b[0m\u001b[1;33m,\u001b[0m \u001b[0mindex\u001b[0m\u001b[1;33m,\u001b[0m \u001b[0melem\u001b[0m\u001b[1;33m)\u001b[0m\u001b[1;33m:\u001b[0m\u001b[1;33m\u001b[0m\u001b[1;33m\u001b[0m\u001b[0m\n",
      "\u001b[1;32mC:\\ProgramData\\Anaconda3\\lib\\site-packages\\numpy\\lib\\function_base.py\u001b[0m in \u001b[0;36mcopy\u001b[1;34m(a, order)\u001b[0m\n\u001b[0;32m    731\u001b[0m \u001b[1;33m\u001b[0m\u001b[0m\n\u001b[0;32m    732\u001b[0m     \"\"\"\n\u001b[1;32m--> 733\u001b[1;33m     \u001b[1;32mreturn\u001b[0m \u001b[0marray\u001b[0m\u001b[1;33m(\u001b[0m\u001b[0ma\u001b[0m\u001b[1;33m,\u001b[0m \u001b[0morder\u001b[0m\u001b[1;33m=\u001b[0m\u001b[0morder\u001b[0m\u001b[1;33m,\u001b[0m \u001b[0mcopy\u001b[0m\u001b[1;33m=\u001b[0m\u001b[1;32mTrue\u001b[0m\u001b[1;33m)\u001b[0m\u001b[1;33m\u001b[0m\u001b[1;33m\u001b[0m\u001b[0m\n\u001b[0m\u001b[0;32m    734\u001b[0m \u001b[1;33m\u001b[0m\u001b[0m\n\u001b[0;32m    735\u001b[0m \u001b[1;31m# Basic operations\u001b[0m\u001b[1;33m\u001b[0m\u001b[1;33m\u001b[0m\u001b[1;33m\u001b[0m\u001b[0m\n",
      "\u001b[1;31mKeyboardInterrupt\u001b[0m: "
     ]
    }
   ],
   "source": [
    "results = dict()\n",
    "for n in range(2, 21):\n",
    "    results[n] = []\n",
    "    for i in range(10):\n",
    "        print('\\r', i, end='')\n",
    "        t = random.randint(0, 1000)\n",
    "        s = Schedule(n)\n",
    "        result, count = main(s, t)\n",
    "        if count != -1:\n",
    "            results[n].append(count)\n",
    "    print(\" --\", n, \"tasks\")\n",
    "json.dump(results, open('results2.json', 'w'))"
   ]
  },
  {
   "cell_type": "code",
   "execution_count": 1587,
   "metadata": {},
   "outputs": [],
   "source": [
    "json.dump(results, open('results2.json', 'w'))"
   ]
  },
  {
   "cell_type": "code",
   "execution_count": 1563,
   "metadata": {},
   "outputs": [
    {
     "data": {
      "text/plain": [
       "{2: [3,\n",
       "  5,\n",
       "  3,\n",
       "  3,\n",
       "  5,\n",
       "  3,\n",
       "  3,\n",
       "  5,\n",
       "  4,\n",
       "  5,\n",
       "  3,\n",
       "  2,\n",
       "  3,\n",
       "  3,\n",
       "  2,\n",
       "  4,\n",
       "  3,\n",
       "  3,\n",
       "  4,\n",
       "  2,\n",
       "  2,\n",
       "  3,\n",
       "  3,\n",
       "  5,\n",
       "  5,\n",
       "  5,\n",
       "  3,\n",
       "  5,\n",
       "  3,\n",
       "  2,\n",
       "  5,\n",
       "  3,\n",
       "  4,\n",
       "  4,\n",
       "  3,\n",
       "  4,\n",
       "  3,\n",
       "  4,\n",
       "  2,\n",
       "  4,\n",
       "  2,\n",
       "  2,\n",
       "  4,\n",
       "  2,\n",
       "  4,\n",
       "  3,\n",
       "  3,\n",
       "  2,\n",
       "  5,\n",
       "  4],\n",
       " 3: [4,\n",
       "  16,\n",
       "  2,\n",
       "  2,\n",
       "  2,\n",
       "  11,\n",
       "  11,\n",
       "  7,\n",
       "  7,\n",
       "  4,\n",
       "  7,\n",
       "  11,\n",
       "  16,\n",
       "  7,\n",
       "  4,\n",
       "  9,\n",
       "  16,\n",
       "  9,\n",
       "  16,\n",
       "  16,\n",
       "  2,\n",
       "  16,\n",
       "  7,\n",
       "  9,\n",
       "  4,\n",
       "  4,\n",
       "  7,\n",
       "  9,\n",
       "  4,\n",
       "  4,\n",
       "  11,\n",
       "  4,\n",
       "  4,\n",
       "  4,\n",
       "  4,\n",
       "  9,\n",
       "  4,\n",
       "  11,\n",
       "  4,\n",
       "  4,\n",
       "  7,\n",
       "  11,\n",
       "  4,\n",
       "  4,\n",
       "  7,\n",
       "  7,\n",
       "  11,\n",
       "  5,\n",
       "  4,\n",
       "  7],\n",
       " 4: [2,\n",
       "  5,\n",
       "  42,\n",
       "  2,\n",
       "  50,\n",
       "  2,\n",
       "  42,\n",
       "  5,\n",
       "  24,\n",
       "  5,\n",
       "  42,\n",
       "  11,\n",
       "  2,\n",
       "  5,\n",
       "  5,\n",
       "  2,\n",
       "  2,\n",
       "  22,\n",
       "  2,\n",
       "  24,\n",
       "  2,\n",
       "  5,\n",
       "  42,\n",
       "  2,\n",
       "  5,\n",
       "  5,\n",
       "  5,\n",
       "  5,\n",
       "  5,\n",
       "  5,\n",
       "  5,\n",
       "  65,\n",
       "  42,\n",
       "  2,\n",
       "  24,\n",
       "  2,\n",
       "  2,\n",
       "  5,\n",
       "  65,\n",
       "  15,\n",
       "  5,\n",
       "  5,\n",
       "  5,\n",
       "  11,\n",
       "  5,\n",
       "  5,\n",
       "  2,\n",
       "  5,\n",
       "  11,\n",
       "  42],\n",
       " 5: [127,\n",
       "  47,\n",
       "  20,\n",
       "  6,\n",
       "  6,\n",
       "  6,\n",
       "  60,\n",
       "  167,\n",
       "  127,\n",
       "  158,\n",
       "  87,\n",
       "  109,\n",
       "  47,\n",
       "  2,\n",
       "  20,\n",
       "  6,\n",
       "  60,\n",
       "  6,\n",
       "  2,\n",
       "  6,\n",
       "  6,\n",
       "  56,\n",
       "  57,\n",
       "  20,\n",
       "  207,\n",
       "  118,\n",
       "  70,\n",
       "  69,\n",
       "  109,\n",
       "  20,\n",
       "  6,\n",
       "  207,\n",
       "  38,\n",
       "  47,\n",
       "  27,\n",
       "  2,\n",
       "  87,\n",
       "  2,\n",
       "  60,\n",
       "  6,\n",
       "  60,\n",
       "  2,\n",
       "  20,\n",
       "  6,\n",
       "  20,\n",
       "  29,\n",
       "  6,\n",
       "  47,\n",
       "  87,\n",
       "  2],\n",
       " 6: [7,\n",
       "  520,\n",
       "  828,\n",
       "  378,\n",
       "  828,\n",
       "  7,\n",
       "  1238,\n",
       "  80,\n",
       "  7,\n",
       "  1238,\n",
       "  828,\n",
       "  7,\n",
       "  213,\n",
       "  213,\n",
       "  213,\n",
       "  7,\n",
       "  2,\n",
       "  173,\n",
       "  418,\n",
       "  7,\n",
       "  1238,\n",
       "  2,\n",
       "  164,\n",
       "  7,\n",
       "  213,\n",
       "  280,\n",
       "  543,\n",
       "  993,\n",
       "  213,\n",
       "  828,\n",
       "  503,\n",
       "  298,\n",
       "  1153,\n",
       "  1033,\n",
       "  1179,\n",
       "  993,\n",
       "  7,\n",
       "  1238,\n",
       "  7,\n",
       "  1033,\n",
       "  7,\n",
       "  418,\n",
       "  1238,\n",
       "  213,\n",
       "  2,\n",
       "  7,\n",
       "  7,\n",
       "  213,\n",
       "  35,\n",
       "  418],\n",
       " 7: [8,\n",
       "  835,\n",
       "  2,\n",
       "  2,\n",
       "  8,\n",
       "  2481,\n",
       "  3257,\n",
       "  2,\n",
       "  1336,\n",
       "  8,\n",
       "  2,\n",
       "  8,\n",
       "  3512,\n",
       "  2,\n",
       "  220,\n",
       "  8,\n",
       "  60,\n",
       "  2,\n",
       "  1245,\n",
       "  1245,\n",
       "  1245,\n",
       "  8,\n",
       "  8,\n",
       "  2,\n",
       "  8,\n",
       "  1245,\n",
       "  2,\n",
       "  8,\n",
       "  1245,\n",
       "  8,\n",
       "  2,\n",
       "  886,\n",
       "  8,\n",
       "  8,\n",
       "  8,\n",
       "  2,\n",
       "  8,\n",
       "  1040,\n",
       "  8,\n",
       "  2,\n",
       "  1245],\n",
       " 8: [9, 2, 9, 9, 228, 9, 9, 1253, 2, 9, 9, 9, 9, 2, 1253, 2, 9, 9, 2489, 9],\n",
       " 9: [2,\n",
       "  10,\n",
       "  10,\n",
       "  10,\n",
       "  2,\n",
       "  10,\n",
       "  10,\n",
       "  10,\n",
       "  10,\n",
       "  2,\n",
       "  10,\n",
       "  10,\n",
       "  10,\n",
       "  10,\n",
       "  2,\n",
       "  2,\n",
       "  10,\n",
       "  10,\n",
       "  10,\n",
       "  10,\n",
       "  2,\n",
       "  10,\n",
       "  10],\n",
       " 10: [11, 11, 11, 11, 2, 2, 11, 11, 11, 11, 11, 11, 2, 11, 2, 2, 11],\n",
       " 11: [2, 12, 12, 12, 12, 12, 12, 2, 12, 2, 2, 12, 2, 2, 2, 12, 12],\n",
       " 12: [2,\n",
       "  2,\n",
       "  2,\n",
       "  13,\n",
       "  13,\n",
       "  13,\n",
       "  13,\n",
       "  13,\n",
       "  13,\n",
       "  2,\n",
       "  2,\n",
       "  13,\n",
       "  13,\n",
       "  13,\n",
       "  2,\n",
       "  13,\n",
       "  13,\n",
       "  2,\n",
       "  13,\n",
       "  13,\n",
       "  13,\n",
       "  2,\n",
       "  2],\n",
       " 13: [14, 14, 14, 14, 14, 14, 2, 14, 14, 14, 2, 14, 14, 14, 2, 14, 2, 14],\n",
       " 14: [15, 15, 15, 2, 2, 2, 15, 15, 15, 2, 15, 2, 15, 15],\n",
       " 15: [2,\n",
       "  2,\n",
       "  2,\n",
       "  16,\n",
       "  16,\n",
       "  16,\n",
       "  16,\n",
       "  2,\n",
       "  2,\n",
       "  16,\n",
       "  2,\n",
       "  16,\n",
       "  16,\n",
       "  16,\n",
       "  16,\n",
       "  16,\n",
       "  16,\n",
       "  16,\n",
       "  16,\n",
       "  16],\n",
       " 16: [17,\n",
       "  17,\n",
       "  17,\n",
       "  2,\n",
       "  17,\n",
       "  17,\n",
       "  2,\n",
       "  17,\n",
       "  2,\n",
       "  17,\n",
       "  17,\n",
       "  17,\n",
       "  17,\n",
       "  17,\n",
       "  17,\n",
       "  17,\n",
       "  2,\n",
       "  17,\n",
       "  2,\n",
       "  17,\n",
       "  17,\n",
       "  17,\n",
       "  2,\n",
       "  17,\n",
       "  17],\n",
       " 17: [18, 2, 2, 18]}"
      ]
     },
     "execution_count": 1563,
     "metadata": {},
     "output_type": "execute_result"
    }
   ],
   "source": [
    "results"
   ]
  },
  {
   "cell_type": "code",
   "execution_count": 1588,
   "metadata": {},
   "outputs": [
    {
     "name": "stderr",
     "output_type": "stream",
     "text": [
      "No handles with labels found to put in legend.\n"
     ]
    },
    {
     "data": {
      "text/plain": [
       "<matplotlib.legend.Legend at 0x1c3718209b0>"
      ]
     },
     "execution_count": 1588,
     "metadata": {},
     "output_type": "execute_result"
    },
    {
     "data": {
      "image/png": "[encoded data removed]",
      "text/plain": [
       "<Figure size 720x432 with 1 Axes>"
      ]
     },
     "metadata": {
      "needs_background": "light"
     },
     "output_type": "display_data"
    }
   ],
   "source": [
    "x = []\n",
    "y = []\n",
    "yf = []\n",
    "for k in results.keys():\n",
    "    if True:\n",
    "        y.append(np.mean(results[k]))\n",
    "        x.append(k)\n",
    "        yf.append(np.math.factorial(k))\n",
    "\n",
    "fig = plt.figure(figsize=(10, 6))\n",
    "ax = fig.add_subplot(111, title='Производительность \"двойственного\" алгоритма')\n",
    "ax.grid()\n",
    "ax.plot(x, y, alpha=0.5)\n",
    "ax.set_xlabel(\"Количество заданий в примере\")\n",
    "ax.set_ylabel(\"Количество точек ветвления\")\n",
    "#xp = [i/100 for i in range(300, 1001)]\n",
    "#ax.plot(xp, f(xp, *popt), color='b', linewidth=5, alpha=0.3, label=\"Экспоненциальная зависимость\")\n",
    "#ax.plot(x, yf, label='Факториал')\n",
    "ax.legend()"
   ]
  },
  {
   "cell_type": "code",
   "execution_count": 1571,
   "metadata": {},
   "outputs": [
    {
     "data": {
      "text/plain": [
       "[<matplotlib.lines.Line2D at 0x1c37304f6a0>]"
      ]
     },
     "execution_count": 1571,
     "metadata": {},
     "output_type": "execute_result"
    },
    {
     "data": {
      "image/png": "[encoded data removed]",
      "text/plain": [
       "<Figure size 720x432 with 1 Axes>"
      ]
     },
     "metadata": {
      "needs_background": "light"
     },
     "output_type": "display_data"
    }
   ],
   "source": [
    "x = []\n",
    "y = []\n",
    "for k in results:\n",
    "    x.append(k)\n",
    "    y.append(len(results[k])*2)\n",
    "fig = plt.figure(figsize=(10, 6))\n",
    "ax = fig.add_subplot(111, title='Зависимость процента решённых за 200 секунд примеров от размерности примеров')\n",
    "ax.grid()\n",
    "ax.plot(x, y, alpha=0.5)\n",
    "ax.set_xlabel(\"Количество заданий в примере\")\n",
    "ax.set_ylabel(\"Процент примеров, решённых за 200 секунд\")\n",
    "ax.plot(x, y, alpha=0.5)"
   ]
  },
  {
   "cell_type": "code",
   "execution_count": 1521,
   "metadata": {},
   "outputs": [
    {
     "data": {
      "text/plain": [
       "[2, 3, 4, 5, 6, 7, 9]"
      ]
     },
     "execution_count": 1521,
     "metadata": {},
     "output_type": "execute_result"
    }
   ],
   "source": [
    "x"
   ]
  },
  {
   "cell_type": "code",
   "execution_count": 1515,
   "metadata": {},
   "outputs": [
    {
     "ename": "LinAlgError",
     "evalue": "SVD did not converge in Linear Least Squares",
     "output_type": "error",
     "traceback": [
      "\u001b[1;31m---------------------------------------------------------------------------\u001b[0m",
      "\u001b[1;31mLinAlgError\u001b[0m                               Traceback (most recent call last)",
      "\u001b[1;32m<ipython-input-1515-48f9c9860b4f>\u001b[0m in \u001b[0;36m<module>\u001b[1;34m\u001b[0m\n\u001b[1;32m----> 1\u001b[1;33m \u001b[0mz\u001b[0m \u001b[1;33m=\u001b[0m \u001b[0mnp\u001b[0m\u001b[1;33m.\u001b[0m\u001b[0mpoly1d\u001b[0m\u001b[1;33m(\u001b[0m\u001b[0mnp\u001b[0m\u001b[1;33m.\u001b[0m\u001b[0mpolyfit\u001b[0m\u001b[1;33m(\u001b[0m\u001b[0mx\u001b[0m\u001b[1;33m,\u001b[0m \u001b[0my\u001b[0m\u001b[1;33m,\u001b[0m \u001b[1;36m3\u001b[0m\u001b[1;33m)\u001b[0m\u001b[1;33m)\u001b[0m\u001b[1;33m\u001b[0m\u001b[1;33m\u001b[0m\u001b[0m\n\u001b[0m",
      "\u001b[1;32mC:\\ProgramData\\Anaconda3\\lib\\site-packages\\numpy\\lib\\polynomial.py\u001b[0m in \u001b[0;36mpolyfit\u001b[1;34m(x, y, deg, rcond, full, w, cov)\u001b[0m\n\u001b[0;32m    578\u001b[0m     \u001b[0mscale\u001b[0m \u001b[1;33m=\u001b[0m \u001b[0mNX\u001b[0m\u001b[1;33m.\u001b[0m\u001b[0msqrt\u001b[0m\u001b[1;33m(\u001b[0m\u001b[1;33m(\u001b[0m\u001b[0mlhs\u001b[0m\u001b[1;33m*\u001b[0m\u001b[0mlhs\u001b[0m\u001b[1;33m)\u001b[0m\u001b[1;33m.\u001b[0m\u001b[0msum\u001b[0m\u001b[1;33m(\u001b[0m\u001b[0maxis\u001b[0m\u001b[1;33m=\u001b[0m\u001b[1;36m0\u001b[0m\u001b[1;33m)\u001b[0m\u001b[1;33m)\u001b[0m\u001b[1;33m\u001b[0m\u001b[1;33m\u001b[0m\u001b[0m\n\u001b[0;32m    579\u001b[0m     \u001b[0mlhs\u001b[0m \u001b[1;33m/=\u001b[0m \u001b[0mscale\u001b[0m\u001b[1;33m\u001b[0m\u001b[1;33m\u001b[0m\u001b[0m\n\u001b[1;32m--> 580\u001b[1;33m     \u001b[0mc\u001b[0m\u001b[1;33m,\u001b[0m \u001b[0mresids\u001b[0m\u001b[1;33m,\u001b[0m \u001b[0mrank\u001b[0m\u001b[1;33m,\u001b[0m \u001b[0ms\u001b[0m \u001b[1;33m=\u001b[0m \u001b[0mlstsq\u001b[0m\u001b[1;33m(\u001b[0m\u001b[0mlhs\u001b[0m\u001b[1;33m,\u001b[0m \u001b[0mrhs\u001b[0m\u001b[1;33m,\u001b[0m \u001b[0mrcond\u001b[0m\u001b[1;33m)\u001b[0m\u001b[1;33m\u001b[0m\u001b[1;33m\u001b[0m\u001b[0m\n\u001b[0m\u001b[0;32m    581\u001b[0m     \u001b[0mc\u001b[0m \u001b[1;33m=\u001b[0m \u001b[1;33m(\u001b[0m\u001b[0mc\u001b[0m\u001b[1;33m.\u001b[0m\u001b[0mT\u001b[0m\u001b[1;33m/\u001b[0m\u001b[0mscale\u001b[0m\u001b[1;33m)\u001b[0m\u001b[1;33m.\u001b[0m\u001b[0mT\u001b[0m  \u001b[1;31m# broadcast scale coefficients\u001b[0m\u001b[1;33m\u001b[0m\u001b[1;33m\u001b[0m\u001b[0m\n\u001b[0;32m    582\u001b[0m \u001b[1;33m\u001b[0m\u001b[0m\n",
      "\u001b[1;32mC:\\ProgramData\\Anaconda3\\lib\\site-packages\\numpy\\linalg\\linalg.py\u001b[0m in \u001b[0;36mlstsq\u001b[1;34m(a, b, rcond)\u001b[0m\n\u001b[0;32m   2154\u001b[0m     \u001b[0msignature\u001b[0m \u001b[1;33m=\u001b[0m \u001b[1;34m'DDd->Ddid'\u001b[0m \u001b[1;32mif\u001b[0m \u001b[0misComplexType\u001b[0m\u001b[1;33m(\u001b[0m\u001b[0mt\u001b[0m\u001b[1;33m)\u001b[0m \u001b[1;32melse\u001b[0m \u001b[1;34m'ddd->ddid'\u001b[0m\u001b[1;33m\u001b[0m\u001b[1;33m\u001b[0m\u001b[0m\n\u001b[0;32m   2155\u001b[0m     \u001b[0mextobj\u001b[0m \u001b[1;33m=\u001b[0m \u001b[0mget_linalg_error_extobj\u001b[0m\u001b[1;33m(\u001b[0m\u001b[0m_raise_linalgerror_lstsq\u001b[0m\u001b[1;33m)\u001b[0m\u001b[1;33m\u001b[0m\u001b[1;33m\u001b[0m\u001b[0m\n\u001b[1;32m-> 2156\u001b[1;33m     \u001b[0mx\u001b[0m\u001b[1;33m,\u001b[0m \u001b[0mresids\u001b[0m\u001b[1;33m,\u001b[0m \u001b[0mrank\u001b[0m\u001b[1;33m,\u001b[0m \u001b[0ms\u001b[0m \u001b[1;33m=\u001b[0m \u001b[0mgufunc\u001b[0m\u001b[1;33m(\u001b[0m\u001b[0ma\u001b[0m\u001b[1;33m,\u001b[0m \u001b[0mb\u001b[0m\u001b[1;33m,\u001b[0m \u001b[0mrcond\u001b[0m\u001b[1;33m,\u001b[0m \u001b[0msignature\u001b[0m\u001b[1;33m=\u001b[0m\u001b[0msignature\u001b[0m\u001b[1;33m,\u001b[0m \u001b[0mextobj\u001b[0m\u001b[1;33m=\u001b[0m\u001b[0mextobj\u001b[0m\u001b[1;33m)\u001b[0m\u001b[1;33m\u001b[0m\u001b[1;33m\u001b[0m\u001b[0m\n\u001b[0m\u001b[0;32m   2157\u001b[0m \u001b[1;33m\u001b[0m\u001b[0m\n\u001b[0;32m   2158\u001b[0m     \u001b[1;31m# remove the axis we added\u001b[0m\u001b[1;33m\u001b[0m\u001b[1;33m\u001b[0m\u001b[1;33m\u001b[0m\u001b[0m\n",
      "\u001b[1;32mC:\\ProgramData\\Anaconda3\\lib\\site-packages\\numpy\\linalg\\linalg.py\u001b[0m in \u001b[0;36m_raise_linalgerror_lstsq\u001b[1;34m(err, flag)\u001b[0m\n\u001b[0;32m     99\u001b[0m \u001b[1;33m\u001b[0m\u001b[0m\n\u001b[0;32m    100\u001b[0m \u001b[1;32mdef\u001b[0m \u001b[0m_raise_linalgerror_lstsq\u001b[0m\u001b[1;33m(\u001b[0m\u001b[0merr\u001b[0m\u001b[1;33m,\u001b[0m \u001b[0mflag\u001b[0m\u001b[1;33m)\u001b[0m\u001b[1;33m:\u001b[0m\u001b[1;33m\u001b[0m\u001b[1;33m\u001b[0m\u001b[0m\n\u001b[1;32m--> 101\u001b[1;33m     \u001b[1;32mraise\u001b[0m \u001b[0mLinAlgError\u001b[0m\u001b[1;33m(\u001b[0m\u001b[1;34m\"SVD did not converge in Linear Least Squares\"\u001b[0m\u001b[1;33m)\u001b[0m\u001b[1;33m\u001b[0m\u001b[1;33m\u001b[0m\u001b[0m\n\u001b[0m\u001b[0;32m    102\u001b[0m \u001b[1;33m\u001b[0m\u001b[0m\n\u001b[0;32m    103\u001b[0m \u001b[1;32mdef\u001b[0m \u001b[0mget_linalg_error_extobj\u001b[0m\u001b[1;33m(\u001b[0m\u001b[0mcallback\u001b[0m\u001b[1;33m)\u001b[0m\u001b[1;33m:\u001b[0m\u001b[1;33m\u001b[0m\u001b[1;33m\u001b[0m\u001b[0m\n",
      "\u001b[1;31mLinAlgError\u001b[0m: SVD did not converge in Linear Least Squares"
     ]
    }
   ],
   "source": [
    "z = np.poly1d(np.polyfit(x, y, 3))"
   ]
  }
 ],
 "metadata": {
  "kernelspec": {
   "display_name": "Python 3",
   "language": "python",
   "name": "python3"
  },
  "language_info": {
   "codemirror_mode": {
    "name": "ipython",
    "version": 3
   },
   "file_extension": ".py",
   "mimetype": "text/x-python",
   "name": "python",
   "nbconvert_exporter": "python",
   "pygments_lexer": "ipython3",
   "version": "3.7.1"
  }
 },
 "nbformat": 4,
 "nbformat_minor": 2
}
