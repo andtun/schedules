{
 "cells": [
  {
   "cell_type": "markdown",
   "metadata": {},
   "source": [
    "# Интерполяционный подход к решению задач теории расписаний"
   ]
  },
  {
   "cell_type": "code",
   "execution_count": 4,
   "metadata": {},
   "outputs": [],
   "source": [
    "import numpy as np\n",
    "import json\n",
    "import glob\n",
    "import random\n",
    "import matplotlib.pyplot as plt\n",
    "from scipy.stats import moment\n",
    "from itertools import permutations\n",
    "from IPython.display import clear_output"
   ]
  },
  {
   "cell_type": "code",
   "execution_count": 6,
   "metadata": {},
   "outputs": [],
   "source": [
    "LAMBDA = 0.01\n",
    "MU = 100\n",
    "SIGMA = 40\n",
    "VARK = 1\n",
    "\n",
    "def r(task):\n",
    "    ind = 0\n",
    "    if isinstance(task, TaskSet):\n",
    "        return task.array[ind]\n",
    "    return task[ind]\n",
    "\n",
    "def p(task):\n",
    "    ind = 1\n",
    "    if isinstance(task, TaskSet):\n",
    "        return task.array[ind]\n",
    "    return task[ind]\n",
    "\n",
    "def d(task):\n",
    "    ind = 2\n",
    "    if isinstance(task, TaskSet):\n",
    "        return task.array[ind]\n",
    "    return task[ind]\n",
    "\n",
    "def remove(arr, elem):\n",
    "    return np.delete(arr, np.where(np.in1d(arr, elem)))\n",
    "\n",
    "class TaskSet:\n",
    "    \n",
    "    def __init__(self, a):\n",
    "        if isinstance(a, int):\n",
    "            rs = np.cumsum(np.random.exponential(scale=1/LAMBDA, size=(a,)))\n",
    "            ps = np.clip(np.random.normal(MU, SIGMA, size=(a,)), a_min=0, a_max=None)\n",
    "            ds = [r + VARK*moment(ps, moment=2) for r in rs]\n",
    "            self.array = np.array([rs, ps, ds]).T.astype(int)\n",
    "        else:\n",
    "            self.array = np.copy(a)\n",
    "            \n",
    "    def __repr__(self):\n",
    "        return \"  r  |  p  |  d  \\n\" + str(self.array)\n",
    "    \n",
    "    def copy(self):\n",
    "        return TaskSet(self.array)\n",
    "    \n",
    "    def __getitem__(self, key):\n",
    "        return TaskSet(self.array[key])\n",
    "    \n",
    "    def __iter__(self):\n",
    "        return iter(self.array)\n",
    "    \n",
    "    def C(self, i, tau=0):\n",
    "        t = tau\n",
    "        for task in self.array[:i+1]:\n",
    "            if t < r(task): t = r(task)\n",
    "            t += p(task)\n",
    "        return t\n",
    "    \n",
    "    def C_max(self, tau=0):\n",
    "        t = tau\n",
    "        for task in self.array:\n",
    "            if t < r(task): t = r(task)\n",
    "            t += p(task)\n",
    "        return t\n",
    "    \n",
    "    def L(self, i=None, tau=0):\n",
    "        if i is None:\n",
    "            return self.C_max(tau) - d(self[-1])\n",
    "        return self.C(i, tau) - d(self[i])\n",
    "    \n",
    "    def L_max(self, tau=0):\n",
    "        if len(self) == 0: return float('inf')\n",
    "        return max([self.L(i, tau) for i, _ in enumerate(self)])\n",
    "    \n",
    "    def T(self, i=None, tau=0):\n",
    "        return max(0, self.L(i, tau))\n",
    "    \n",
    "    def T_max(self, tau=0):\n",
    "        return max(0, self.L_max(tau))\n",
    "    \n",
    "    def __len__(self):\n",
    "        return len(self.array)\n",
    "    \n",
    "    def __eq__(self, other):\n",
    "        return self.array == other\n",
    "    \n",
    "    def without(self, indexes):\n",
    "        return TaskSet(np.delete(self.array, np.array(indexes).astype(int), axis=0))\n",
    "    \n",
    "    def find(self, item):\n",
    "        return np.where((self.array == item).all(axis=1))[0]\n",
    "    \n",
    "    def transpose(self):\n",
    "        return self.array.T\n",
    "    \n",
    "    def scale(alpha, key=r()):\n",
    "        self.array\n",
    "    \n",
    "def dual(N, tau, B):\n",
    "    if len(N.without(B)) == 0: return float('inf')\n",
    "    pi_r = r(np.argsort(N, axis=0).transpose())\n",
    "    bestL = N[pi_r].L(tau=tau)\n",
    "    for i_k in pi_r:\n",
    "        toDrop = B.copy()\n",
    "        toDrop.append(i_k)\n",
    "        #print(toDrop)\n",
    "        s = N.without(toDrop)\n",
    "        #print(s)\n",
    "        if len(s) != 0:\n",
    "            task_l = min(s, key=r)\n",
    "            i_l = N.find(task_l)[0]\n",
    "            pi_k = remove(pi_r, [i_l, i_k])\n",
    "            pi_k = np.insert(pi_k, 0, i_l)\n",
    "            pi_k = np.append(pi_k, i_k)\n",
    "            L_k = N[pi_k].L(tau=tau)\n",
    "            if L_k < bestL:\n",
    "                bestL = L_k\n",
    "    additionalL = N[pi_r].L(i=0, tau=tau)\n",
    "    if additionalL > bestL:\n",
    "        bestL = additionalL\n",
    "    return bestL\n",
    "\n",
    "class Instance:\n",
    "    \n",
    "    def __init__(self, N, tau=0, pi=[], B=[]):\n",
    "        self.N = N.copy()\n",
    "        self.tau = tau\n",
    "        self.pi = pi.copy()\n",
    "        self.B = B.copy()\n",
    "        self.nu = dual(N, tau, B)\n",
    "        \n",
    "    def __getitem__(self, key):\n",
    "        return TaskSet(self.N.array[key])\n",
    "        \n",
    "    def best_job(self):\n",
    "        s = self.N.without(self.B)\n",
    "        sn = s[r(s.transpose()) <= self.tau]\n",
    "        if len(sn) == 0:\n",
    "            f = min(s, key=r)\n",
    "            #self.tau = r(f)\n",
    "            #self.nu = dual(self.N, self.tau, self.B)\n",
    "        else:\n",
    "            f = min(sn, key=d)\n",
    "        return self.N.find(f)[0]\n",
    "    \n",
    "    def L(self, i=None):\n",
    "        return self[self.pi].L(i, self.tau)\n",
    "    \n",
    "    def T(self, i=None):\n",
    "        return self[self.pi].T(i, self.tau)\n",
    "        \n",
    "    def L_max(self):\n",
    "        return self[self.pi].L_max(self.tau)\n",
    "    \n",
    "    def T_max(self):\n",
    "        return self[self.pi].T_max(self.tau)\n",
    "    \n",
    "    def __repr__(self):\n",
    "        return \"Instance:\\n\" + repr(self.N) + \"\\nnu  = \" + str(self.nu) + \"\\ntau = \" + str(self.tau) + \"\\npi  = \" + str(self.pi) + \"\\nB   = \" + str(self.B)\n",
    "    \n",
    "    \n",
    "def main(N, tau=0, verbose=False, modified=False):\n",
    "    b_counter = 0\n",
    "    #print(\"bi\")\n",
    "    instances = [Instance(N, tau)]\n",
    "    #print(\"ai\")\n",
    "    if modified: bestPi = list(range(len(N)))\n",
    "    else: bestPi = []\n",
    "    while len(instances) > 0:\n",
    "        bestInstanceIndex, bestInstance = min(enumerate(instances), key=lambda x: x[1].nu) # + N[x[1].pi].L_max(tau))\n",
    "        instances.pop(bestInstanceIndex)\n",
    "        f = bestInstance.best_job()\n",
    "        f_data = bestInstance[f]\n",
    "        N1 = bestInstance.N.without(f)\n",
    "        tau1 = max(r(f_data), bestInstance.tau) + p(f_data)\n",
    "        B1 = []\n",
    "        pi1 = bestInstance.pi.copy()\n",
    "        pi1.append(N.find(f_data)[0])\n",
    "        i1 = Instance(N1, tau1, pi1, B1)\n",
    "        N2 = bestInstance.N\n",
    "        tau2 = bestInstance.tau\n",
    "        B2 = bestInstance.B.copy()\n",
    "        B2.append(N2.find(f_data)[0]) #!\n",
    "        pi2 = bestInstance.pi\n",
    "        i2 = Instance(N2, tau2, pi2, B2)\n",
    "        instances += [i1, i2]\n",
    "        b_counter += 1\n",
    "        #print(i1)\n",
    "        if len(pi1) == len(N):\n",
    "            #print(N[bestPi].L_max(tau))\n",
    "            #print(pi1)\n",
    "            if N[pi1].L_max(tau) < N[bestPi].L_max(tau):\n",
    "                bestPi = pi1.copy()\n",
    "                if verbose: print(bestPi, '\\tLmax =', N[bestPi].L_max(tau))\n",
    "        #lb = len(instances)\n",
    "        instances = [i for i in instances if max(i.nu, N[i.pi].L_max(tau)) < N[bestPi].L_max(tau)]\n",
    "        #print(lb, len(instances))\n",
    "    return bestPi, b_counter\n",
    "        "
   ]
  },
  {
   "cell_type": "code",
   "execution_count": 8,
   "metadata": {},
   "outputs": [],
   "source": [
    "def parse_str(s):\n",
    "    s = np.array(s.replace(',', ' ').split(), dtype=int)\n",
    "    s = s.reshape((len(s)//3, 3))\n",
    "    return s\n",
    "\n",
    "schedules = []\n",
    "for fname in glob.glob(\"./tasks/*.txt\"):\n",
    "    file = open(fname, 'r')\n",
    "    a = np.array(list(f.split() for f in file.readlines()[:-2])).astype(int)\n",
    "    schedules.append(TaskSet(a))"
   ]
  },
  {
   "cell_type": "code",
   "execution_count": 25,
   "metadata": {},
   "outputs": [
    {
     "data": {
      "text/plain": [
       "  r  |  p  |  d  \n",
       "[[ 10   7  29]\n",
       " [ 15  11  28]\n",
       " [ 26  22  97]\n",
       " [ 26  18  86]\n",
       " [ 28  16 143]\n",
       " [ 29   6 141]\n",
       " [ 40   3 126]\n",
       " [ 46  20  83]\n",
       " [ 49  16  72]\n",
       " [ 59  11 101]]"
      ]
     },
     "execution_count": 25,
     "metadata": {},
     "output_type": "execute_result"
    }
   ],
   "source": [
    "schedules[2]"
   ]
  },
  {
   "cell_type": "code",
   "execution_count": 26,
   "metadata": {},
   "outputs": [
    {
     "data": {
      "text/plain": [
       "1"
      ]
     },
     "execution_count": 26,
     "metadata": {},
     "output_type": "execute_result"
    }
   ],
   "source": [
    "r(s[2])"
   ]
  },
  {
   "cell_type": "code",
   "execution_count": 34,
   "metadata": {},
   "outputs": [],
   "source": [
    "s.array[:,0] = s.array[:,0]*0.1"
   ]
  },
  {
   "cell_type": "code",
   "execution_count": 35,
   "metadata": {},
   "outputs": [
    {
     "data": {
      "text/plain": [
       "  r  |  p  |  d  \n",
       "[[  1   7  29]\n",
       " [  1  11  28]\n",
       " [  0   2   3]\n",
       " [  2  18  86]\n",
       " [  2  16 143]\n",
       " [  2   6 141]\n",
       " [  4   3 126]\n",
       " [  4  20  83]\n",
       " [  4  16  72]\n",
       " [  5  11 101]]"
      ]
     },
     "execution_count": 35,
     "metadata": {},
     "output_type": "execute_result"
    }
   ],
   "source": [
    "s"
   ]
  },
  {
   "cell_type": "code",
   "execution_count": 21,
   "metadata": {},
   "outputs": [],
   "source": [
    "s.array[2] = np.array([1,2,3])"
   ]
  }
 ],
 "metadata": {
  "kernelspec": {
   "display_name": "Python 3",
   "language": "python",
   "name": "python3"
  },
  "language_info": {
   "codemirror_mode": {
    "name": "ipython",
    "version": 3
   },
   "file_extension": ".py",
   "mimetype": "text/x-python",
   "name": "python",
   "nbconvert_exporter": "python",
   "pygments_lexer": "ipython3",
   "version": "3.7.1"
  }
 },
 "nbformat": 4,
 "nbformat_minor": 2
}
