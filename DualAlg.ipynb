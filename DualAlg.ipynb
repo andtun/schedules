{
 "cells": [
  {
   "cell_type": "markdown",
   "metadata": {},
   "source": [
    "# Задачи"
   ]
  },
  {
   "cell_type": "code",
   "execution_count": null,
   "metadata": {},
   "outputs": [],
   "source": []
  },
  {
   "cell_type": "markdown",
   "metadata": {},
   "source": [
    "# Алгоритм"
   ]
  },
  {
   "cell_type": "markdown",
   "metadata": {},
   "source": [
    "### Импорты"
   ]
  },
  {
   "cell_type": "code",
   "execution_count": 140,
   "metadata": {},
   "outputs": [],
   "source": [
    "import random\n",
    "import numpy as np\n",
    "import matplotlib.pyplot as plt\n",
    "from itertools import permutations\n",
    "from collections import Counter\n",
    "from scipy.optimize import curve_fit"
   ]
  },
  {
   "cell_type": "markdown",
   "metadata": {},
   "source": [
    "### Двойственный алгоритм"
   ]
  },
  {
   "cell_type": "code",
   "execution_count": 25,
   "metadata": {},
   "outputs": [],
   "source": [
    "class Task:\n",
    "    \"\"\"\n",
    "    A class for a single task.\n",
    "    \n",
    "    Init parameters:\n",
    "        rMin, rMax -- recievement time limits\n",
    "        pMin, pMax -- process time limits\n",
    "        dMin, dMax -- due date limits\n",
    "        \n",
    "    For each task the recievement time, process time and due date\n",
    "    are calculated randomly (uniform distribution) between given limits.\n",
    "    Default limit values are in the code below.\n",
    "    \n",
    "    Additional parameters:\n",
    "        phi -- the loss function for this particular task.\n",
    "        By default returns its argument without changing it\n",
    "    \"\"\"\n",
    "    r = 0\n",
    "    p = 0\n",
    "    d = 0\n",
    "    phi = None\n",
    "            \n",
    "    def gen_r(self, rMin, rMax):\n",
    "        self.r = int(random.uniform(rMin, rMax))\n",
    "        \n",
    "    def gen_p(self, pMin, pMax):\n",
    "        self.p = int(random.uniform(pMin, pMax))\n",
    "        \n",
    "    def gen_d(self, dMin, dMax):\n",
    "        self.d = int(random.uniform(dMin, dMax))\n",
    "    \n",
    "    def __init__(self,\n",
    "                 NNTS=False,\n",
    "                 rMin = 1,\n",
    "                 rMax = 100,\n",
    "                 pMin = 1,\n",
    "                 pMax = 100,\n",
    "                 dMin = 1,\n",
    "                 dMax = 200,\n",
    "                 dDelta = 100,\n",
    "                 **kwargs):\n",
    "        self.gen_r(rMin, rMax)\n",
    "        self.gen_p(pMin, pMax)\n",
    "        if NNTS:\n",
    "            dMin = self.r + self.p\n",
    "            dMax = dMin + dDelta\n",
    "        self.gen_d(dMin, dMax)\n",
    "        self.phi = kwargs.get('phi', lambda x: x)\n",
    "        \n",
    "    def show(self):\n",
    "        print(\"r =\", self.r, \"| p =\", self.p, \"| d =\", self.d)\n",
    "        \n",
    "    @staticmethod\n",
    "    def show_all(tasks):\n",
    "        \"\"\"\n",
    "        Show r, p, d for each task from the 'tasks' list \n",
    "        \"\"\"\n",
    "        print(\" r\", \"p\", \"d\", sep=' | ', end='\\n\\n')\n",
    "        for task in tasks:\n",
    "            print(task.r, task.p, task.d, sep=' | ')\n",
    "    \n",
    "    @staticmethod\n",
    "    def generate_multiple(nTasks, NNTS=False, **kwargs):\n",
    "        \"\"\"\n",
    "        Generate multiple tasks.\n",
    "        \n",
    "        Parameters:\n",
    "            nTasks - the number of tasks to generate\n",
    "            NNTS - (bool) whether to use NNTS or not\n",
    "        \n",
    "        **kwargs parameters (see Task class docstring):\n",
    "            rMin, rMax -- recievement time limits\n",
    "            pMin, pMax -- process time limits\n",
    "            dMin, dMax -- due date limits\n",
    "            phi -- the loss function for this particular task.\n",
    "            By default returns its argument without changing it\n",
    "        \"\"\"\n",
    "        return list(Task(NNTS=NNTS, **kwargs) for i in range(nTasks))\n",
    "    \n",
    "def C(pi, j=None):\n",
    "    \"\"\"\n",
    "    Returns the completion time of task number j in schedule pi\n",
    "    \"\"\"\n",
    "    t = 0\n",
    "    for task in pi[:j]:\n",
    "        if t < task.r:\n",
    "            t = task.r\n",
    "        t += task.p\n",
    "    return t\n",
    "\n",
    "def phi(pi, j=None):\n",
    "    \"\"\"\n",
    "    Returns the phi value of task number j in schedule pi.\n",
    "    Uses the task`s own phi function\n",
    "    \"\"\"\n",
    "    t = j or 0\n",
    "    return pi[t].phi(C(pi, j))\n",
    "\n",
    "def dual_modified(tasks):\n",
    "    \"\"\"\n",
    "    Returns optimal schedule, the k value and max value of phi\n",
    "    \"\"\"\n",
    "    \n",
    "    def create_B(tasks, k):\n",
    "        return tasks.copy()[k+1:]\n",
    "    \n",
    "    def argmin(tasks):\n",
    "        return min(enumerate(tasks), key=lambda x: x[1].r)[0]\n",
    "    \n",
    "    def create_pi_k(sortedTasks, k, i_l):\n",
    "        pi_k = sortedTasks.copy()\n",
    "        task_l = pi_k.pop(i_l)\n",
    "        if i_l < k:\n",
    "            k -= 1\n",
    "        task_k = pi_k.pop(k)\n",
    "        return [task_l] + pi_k + [task_k]\n",
    "    \n",
    "    minPhi = phi(tasks)\n",
    "    minK = -1\n",
    "    bestPi = tasks\n",
    "    \n",
    "    sortedTasks = sorted(tasks, key=lambda x: x.r)\n",
    "    for k, task in enumerate(sortedTasks):\n",
    "        B = create_B(sortedTasks, k)\n",
    "        #print(type(tasks))\n",
    "        availableTasks = set(tasks) - set([task]) - set(B)\n",
    "        if availableTasks != set([]):\n",
    "            i_l = argmin(availableTasks)\n",
    "            pi_k = create_pi_k(sortedTasks, k, i_l)\n",
    "            phi_k = phi(pi_k)\n",
    "            if phi_k < minPhi:\n",
    "                minPhi = phi_k\n",
    "                bestPi = pi_k\n",
    "                minK = k\n",
    "    return bestPi, minK, minPhi"
   ]
  },
  {
   "cell_type": "code",
   "execution_count": null,
   "metadata": {},
   "outputs": [],
   "source": []
  },
  {
   "cell_type": "markdown",
   "metadata": {},
   "source": [
    "## Алгоритм $L_{max}$"
   ]
  },
  {
   "cell_type": "code",
   "execution_count": 26,
   "metadata": {},
   "outputs": [],
   "source": [
    "class Instance:\n",
    "    N = []\n",
    "    tau = None\n",
    "    nu = None\n",
    "    pi = None\n",
    "    B = None\n",
    "    \n",
    "    def __init__(self, N, tau, pi, B):\n",
    "        self.N = N\n",
    "        self.tau = tau\n",
    "        if N:\n",
    "            self.nu = dual_modified(N)[2]\n",
    "        else:\n",
    "            self.nu = 0\n",
    "        self.pi = pi\n",
    "        self.B = B\n",
    "        \n",
    "    def get_available_jobs(self):\n",
    "        return (set(self.N) - set(self.B)) - set(self.pi)\n",
    "    "
   ]
  },
  {
   "cell_type": "code",
   "execution_count": 182,
   "metadata": {},
   "outputs": [],
   "source": [
    "def find_best_instance(instanceList):\n",
    "    return min(enumerate(instanceList), key=lambda x: x[1].nu)\n",
    "\n",
    "def find_best_job(jobs):\n",
    "    return min(enumerate(jobs), key=lambda x: x[1].d)\n",
    "\n",
    "def compare(a, b):\n",
    "    return Counter(a) == Counter(b)\n",
    "\n",
    "def create_new_instances(prevInstance, bestJobIndex, bestJob):\n",
    "    N1 = prevInstance.N[:]\n",
    "    N1.pop(bestJobIndex)\n",
    "    tau1 = max(bestJob.r, prevInstance.tau) + bestJob.p\n",
    "    B1 = set()\n",
    "    pi1 = prevInstance.pi + [bestJob]\n",
    "    \n",
    "    N2 = prevInstance.N\n",
    "    tau2 = prevInstance.tau\n",
    "    B2 = prevInstance.B | set([bestJob])\n",
    "    pi2 = prevInstance.pi\n",
    "    \n",
    "    I1 = Instance(N1, tau1, pi1, B1)\n",
    "    I2 = Instance(N2, tau2, pi2, B2)\n",
    "    return [I1, I2]\n",
    "\n",
    "def L_max(t):\n",
    "    return max([C(t, j+1) - t[j].d for j in range(len(t))])\n",
    "\n",
    "def main(N):\n",
    "    counter = 0\n",
    "    B = set()\n",
    "    instanceList = [Instance(N, 0, [], set())]\n",
    "    bestPi = N\n",
    "    while instanceList:\n",
    "        #print(len(instanceList))\n",
    "        bestInstanceIndex, bestInstance = find_best_instance(instanceList)\n",
    "        availableJobs = bestInstance.get_available_jobs()\n",
    "        instanceList.pop(bestInstanceIndex)\n",
    "        if availableJobs:\n",
    "            bestJobIndex, bestJob = find_best_job(availableJobs)\n",
    "            newInstances = create_new_instances(bestInstance, bestJobIndex, bestJob)\n",
    "            counter += 1\n",
    "            instanceList += newInstances\n",
    "            pi1 = newInstances[0].pi\n",
    "        if len(pi1) == len(N):\n",
    "            if L_max(pi1) < L_max(bestPi):\n",
    "                bestPi = pi1\n",
    "        for index, item in enumerate(instanceList):\n",
    "            if item.nu >= L_max(bestPi):\n",
    "                instanceList.pop(index)\n",
    "    return bestPi\n"
   ]
  },
  {
   "cell_type": "code",
   "execution_count": 34,
   "metadata": {},
   "outputs": [],
   "source": [
    "class Timing:\n",
    "    \"\"\"\n",
    "    Init parameters:\n",
    "        nDims -- number of tasks in a schedule\n",
    "        timings -- all timing results\n",
    "        \n",
    "    get_mean_time method calculates the mean value of all\n",
    "    measured timings\n",
    "    \"\"\"\n",
    "    nDims = 0\n",
    "    timings = []\n",
    "    \n",
    "    def __init__(self, nDims):\n",
    "        self.nDims = nDims\n",
    "        self.timings = []\n",
    "        \n",
    "    def get_mean_time(self):\n",
    "        return np.mean(self.timings)\n",
    "    \n",
    "    def add_time(self, time):\n",
    "        self.timings.append(time)"
   ]
  },
  {
   "cell_type": "code",
   "execution_count": 102,
   "metadata": {},
   "outputs": [],
   "source": [
    "def test(begin=3, end=11, step=1, nExamples=50):\n",
    "    timings = []\n",
    "    for i in range(begin, end, step):\n",
    "        print(\"\\r%s\" % i, end='')\n",
    "        timings.append(Timing(i))\n",
    "        for j in range(nExamples):\n",
    "            N = Task.generate_multiple(i, NNTS=True)\n",
    "            timings[-1].add_time(main(N))\n",
    "    return timings"
   ]
  },
  {
   "cell_type": "code",
   "execution_count": 103,
   "metadata": {},
   "outputs": [
    {
     "name": "stdout",
     "output_type": "stream",
     "text": [
      "10"
     ]
    }
   ],
   "source": [
    "timings = test()"
   ]
  },
  {
   "cell_type": "code",
   "execution_count": 156,
   "metadata": {},
   "outputs": [],
   "source": [
    "x = []\n",
    "y = []\n",
    "for timing in timings:\n",
    "    x.append(timing.nDims)\n",
    "    y.append(np.mean(timing.timings))"
   ]
  },
  {
   "cell_type": "code",
   "execution_count": 232,
   "metadata": {},
   "outputs": [],
   "source": [
    "def f(x, a, b):\n",
    "    return a * np.exp(np.multiply(b, x))"
   ]
  },
  {
   "cell_type": "code",
   "execution_count": 246,
   "metadata": {},
   "outputs": [],
   "source": [
    "popt, pcov = curve_fit(f, x, y)\n",
    "perr = np.sqrt(np.diag(pcov))"
   ]
  },
  {
   "cell_type": "code",
   "execution_count": 247,
   "metadata": {},
   "outputs": [
    {
     "data": {
      "text/plain": [
       "array([3.06140224e-05, 7.26341593e-02])"
      ]
     },
     "execution_count": 247,
     "metadata": {},
     "output_type": "execute_result"
    }
   ],
   "source": [
    "perr"
   ]
  },
  {
   "cell_type": "code",
   "execution_count": 241,
   "metadata": {},
   "outputs": [
    {
     "data": {
      "text/plain": [
       "<matplotlib.legend.Legend at 0x2b736731e10>"
      ]
     },
     "execution_count": 241,
     "metadata": {},
     "output_type": "execute_result"
    },
    {
     "data": {
      "image/png": "[encoded data removed]",
      "text/plain": [
       "<Figure size 720x432 with 1 Axes>"
      ]
     },
     "metadata": {
      "needs_background": "light"
     },
     "output_type": "display_data"
    }
   ],
   "source": [
    "fig = plt.figure(figsize=(10, 6))\n",
    "ax = fig.add_subplot(111, title='Производительность \"двойственного\" алгоритма')\n",
    "ax.grid()\n",
    "ax.plot(x[:6], y[:6], 'bo', alpha=0.5)\n",
    "ax.set_xlabel(\"Количество заданий в примере\")\n",
    "ax.set_ylabel(\"Количество точек ветвления\")\n",
    "xp = [i/100 for i in range(300, 801)]\n",
    "ax.plot(xp, f(xp, *popt), color='b', linewidth=5, alpha=0.3, label=\"Экспоненциальная зависимость\")\n",
    "ax.legend()"
   ]
  },
  {
   "cell_type": "code",
   "execution_count": 248,
   "metadata": {},
   "outputs": [
    {
     "data": {
      "text/plain": [
       "<matplotlib.legend.Legend at 0x2b737a0dc50>"
      ]
     },
     "execution_count": 248,
     "metadata": {},
     "output_type": "execute_result"
    },
    {
     "data": {
      "image/png": "[encoded data removed]",
      "text/plain": [
       "<Figure size 720x432 with 1 Axes>"
      ]
     },
     "metadata": {
      "needs_background": "light"
     },
     "output_type": "display_data"
    }
   ],
   "source": [
    "fig = plt.figure(figsize=(10, 6))\n",
    "ax = fig.add_subplot(111, title='Производительность \"двойственного\" алгоритма')\n",
    "ax.grid()\n",
    "ax.plot(x, y, 'bo', alpha=0.5)\n",
    "ax.set_xlabel(\"Количество заданий в примере\")\n",
    "ax.set_ylabel(\"Количество точек ветвления\")\n",
    "xp = [i/100 for i in range(300, 1001)]\n",
    "ax.plot(xp, f(xp, *popt), color='b', linewidth=5, alpha=0.3, label=\"Экспоненциальная зависимость\")\n",
    "ax.legend()"
   ]
  },
  {
   "cell_type": "code",
   "execution_count": 169,
   "metadata": {},
   "outputs": [],
   "source": [
    "def bruteforce(N):\n",
    "    best_pi = N\n",
    "    best_L = L_max(N)\n",
    "    p = list(permutations(N))\n",
    "    for c, pi in enumerate(p):\n",
    "        print(\"\\r%f\" % (c/len(p)), end='')\n",
    "        if L_max(pi) < best_L:\n",
    "            best_pi = pi\n",
    "            best_L = L_max(pi)\n",
    "    return best_L, best_pi"
   ]
  },
  {
   "cell_type": "code",
   "execution_count": null,
   "metadata": {},
   "outputs": [],
   "source": []
  }
 ],
 "metadata": {
  "kernelspec": {
   "display_name": "Python 3",
   "language": "python",
   "name": "python3"
  },
  "language_info": {
   "codemirror_mode": {
    "name": "ipython",
    "version": 3
   },
   "file_extension": ".py",
   "mimetype": "text/x-python",
   "name": "python",
   "nbconvert_exporter": "python",
   "pygments_lexer": "ipython3",
   "version": "3.7.1"
  }
 },
 "nbformat": 4,
 "nbformat_minor": 2
}
