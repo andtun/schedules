{
 "cells": [
  {
   "cell_type": "markdown",
   "metadata": {},
   "source": [
    "# ToDo:\n",
    "- генерация примеров с условием $d_j - r_j - p_j \\geq 0$ $\\forall j \\in N$\n",
    "- Если при тестировании алгоритма 2 основной индикатор сложности - количество точек ветвления, то какой индикатор рационально выбрать для алгоритма 1?\n",
    "- зачем нужен параметр алгоритма $\\tau$, если начало работы машины $\\tau=0$\n",
    "- Статья \"On the dual and inverse problems of scheduling problems with minimizing the maximum job penalty\", алгоритм 1, пункт 3: $\\nu^*=\\min_{k=1,..,n}(\\phi_{i_k}(C_{i_k}(\\pi_k))$. Разве не должно быть $\\nu^*=\\max_{k=1,..,n}(\\phi_{i_k}(C_{i_k}(\\pi_k))$ как в алгоритме 2.4 в монографии?"
   ]
  },
  {
   "cell_type": "markdown",
   "metadata": {},
   "source": [
    "# Исследование эффективности \"двойственного\" алгоритма \n",
    "### Решение \"двойственной\" задачи к задаче минимизации максимального штрафа\n",
    "\n",
    "## Код алгоритма"
   ]
  },
  {
   "cell_type": "code",
   "execution_count": 1,
   "metadata": {},
   "outputs": [],
   "source": [
    "import random\n",
    "import pickle\n",
    "import numpy as np\n",
    "import matplotlib.pyplot as plt\n",
    "from itertools import permutations\n",
    "from scipy.optimize import curve_fit"
   ]
  },
  {
   "cell_type": "markdown",
   "metadata": {},
   "source": [
    "Класс для одного требования. **Расписание**, таким образом, -- список объектов класса `Task`\n",
    "\n",
    "*Прим. к генерации значений* (см docstring класса `Task`):<br>\n",
    "Как следует из теорем *1.1* и *1.4*, даже несмотря на наличие примеров с d<sub>j</sub> < r<sub>j</sub>, существует эквивалентный сгенерированному пример с d<sub>j</sub> > r<sub>j</sub>. Тем не менее, для выполнения условия достаточно задать параметр `NNTS=True` (NNTS - non-negative time slack)"
   ]
  },
  {
   "cell_type": "code",
   "execution_count": 18,
   "metadata": {},
   "outputs": [],
   "source": [
    "class Task:\n",
    "    \"\"\"\n",
    "    A class for a single task.\n",
    "    \n",
    "    Init parameters:\n",
    "        rMin, rMax -- recievement time limits\n",
    "        pMin, pMax -- process time limits\n",
    "        dMin, dMax -- due date limits\n",
    "        \n",
    "    For each task the recievement time, process time and due date\n",
    "    are calculated randomly (uniform distribution) between given limits.\n",
    "    Default limit values are in the code below.\n",
    "    \n",
    "    Additional parameters:\n",
    "        phi -- the loss function for this particular task.\n",
    "        By default returns its argument without changing it\n",
    "    \"\"\"\n",
    "    r = 0\n",
    "    p = 0\n",
    "    d = 0\n",
    "    phi = None\n",
    "            \n",
    "    def gen_r(self, rMin, rMax):\n",
    "        self.r = int(random.uniform(rMin, rMax))\n",
    "        \n",
    "    def gen_p(self, pMin, pMax):\n",
    "        self.p = int(random.uniform(pMin, pMax))\n",
    "        \n",
    "    def gen_d(self, dMin, dMax):\n",
    "        self.d = int(random.uniform(dMin, dMax))\n",
    "    \n",
    "    def __init__(self,\n",
    "                 NNTS=False,\n",
    "                 rMin = 1,\n",
    "                 rMax = 100,\n",
    "                 pMin = 1,\n",
    "                 pMax = 100,\n",
    "                 dMin = 1,\n",
    "                 dMax = 200,\n",
    "                 dDelta = 100,\n",
    "                 **kwargs):\n",
    "        self.gen_r(rMin, rMax)\n",
    "        self.gen_p(pMin, pMax)\n",
    "        if NNTS:\n",
    "            dMin = self.r + self.p\n",
    "            dMax = dMin + dDelta\n",
    "        self.gen_d(dMin, dMax)\n",
    "        self.phi = kwargs.get('phi', lambda x: x)\n",
    "        \n",
    "    def show(self):\n",
    "        print(\"r =\", self.r, \"| p =\", self.p, \"| d =\", self.d)\n",
    "        \n",
    "    @staticmethod\n",
    "    def show_all(tasks):\n",
    "        \"\"\"\n",
    "        Show r, p, d for each task from the 'tasks' list \n",
    "        \"\"\"\n",
    "        print(\" r\", \"p\", \"d\", sep=' | ', end='\\n\\n')\n",
    "        for task in tasks:\n",
    "            print(task.r, task.p, task.d, sep=' | ')\n",
    "    \n",
    "    @staticmethod\n",
    "    def generate_multiple(nTasks, NNTS=False, **kwargs):\n",
    "        \"\"\"\n",
    "        Generate multiple tasks.\n",
    "        \n",
    "        Parameters:\n",
    "            nTasks - the number of tasks to generate\n",
    "            NNTS - (bool) whether to use NNTS or not\n",
    "        \n",
    "        **kwargs parameters (see Task class docstring):\n",
    "            rMin, rMax -- recievement time limits\n",
    "            pMin, pMax -- process time limits\n",
    "            dMin, dMax -- due date limits\n",
    "            phi -- the loss function for this particular task.\n",
    "            By default returns its argument without changing it\n",
    "        \"\"\"\n",
    "        return list(Task(NNTS=NNTS, **kwargs) for i in range(nTasks))"
   ]
  },
  {
   "cell_type": "markdown",
   "metadata": {},
   "source": [
    "Функция для расчета времени **окончания обслуживания** и **функция потерь** (см. docstring к функциям)"
   ]
  },
  {
   "cell_type": "code",
   "execution_count": 19,
   "metadata": {},
   "outputs": [],
   "source": [
    "def C(pi, j=None):\n",
    "    \"\"\"\n",
    "    Returns the completion time of task number j in schedule pi\n",
    "    \"\"\"\n",
    "    t = 0\n",
    "    for task in pi[:j]:\n",
    "        if t < task.r:\n",
    "            t = task.r\n",
    "        t += task.p\n",
    "    return t\n",
    "\n",
    "def phi(pi, j=None):\n",
    "    \"\"\"\n",
    "    Returns the phi value of task number j in schedule pi.\n",
    "    Uses the task`s own phi function\n",
    "    \"\"\"\n",
    "    t = j or 0\n",
    "    return pi[t].phi(C(pi, j))"
   ]
  },
  {
   "cell_type": "markdown",
   "metadata": {},
   "source": [
    "Стандартный \"двойственный\" алгоритм (№2.4 на с.117 монографии). Принимает список требований и возвращает оптимальное расписание"
   ]
  },
  {
   "cell_type": "code",
   "execution_count": 4,
   "metadata": {},
   "outputs": [],
   "source": [
    "def dual_standard(tasks):\n",
    "    \"\"\"\n",
    "    Returns optimal schedule, the k value and max value of phi\n",
    "    \"\"\"\n",
    "    \n",
    "    def create_pi_k(pi, k):\n",
    "        pi_k = pi.copy()\n",
    "        pi_k.append(pi_k.pop(k))\n",
    "        return pi_k\n",
    "    \n",
    "    maxPhi = phi(tasks)\n",
    "    maxK = -1\n",
    "    \n",
    "    sortedTasks = sorted(tasks, key=lambda x: x.r)\n",
    "    for k, task in enumerate(sortedTasks):\n",
    "        pi_k = create_pi_k(sortedTasks, k)\n",
    "        phi_k = phi(pi_k)\n",
    "        if phi_k > maxPhi:\n",
    "            maxPhi = phi_k\n",
    "            maxK = k\n",
    "    return create_pi_k(sortedTasks, maxK), maxK, maxPhi"
   ]
  },
  {
   "cell_type": "markdown",
   "metadata": {},
   "source": [
    "Модифицированный двойственный алгоритм (№1 на с.4 статьи). Принимает список требований и возвращает оптимальное расписание"
   ]
  },
  {
   "cell_type": "code",
   "execution_count": 5,
   "metadata": {},
   "outputs": [],
   "source": [
    "def dual_modified(tasks):\n",
    "    \"\"\"\n",
    "    Returns optimal schedule, the k value and max value of phi\n",
    "    \"\"\"\n",
    "    \n",
    "    def create_B(tasks, k):\n",
    "        return tasks.copy()[k+1:]\n",
    "    \n",
    "    def argmin(tasks):\n",
    "        return min(enumerate(tasks), key=lambda x: x[1].r)[0]\n",
    "    \n",
    "    def create_pi_k(sortedTasks, k, i_l):\n",
    "        pi_k = sortedTasks.copy()\n",
    "        task_l = pi_k.pop(i_l)\n",
    "        if i_l < k:\n",
    "            k -= 1\n",
    "        task_k = pi_k.pop(k)\n",
    "        return [task_l] + pi_k + [task_k]\n",
    "    \n",
    "    minPhi = phi(tasks)\n",
    "    minK = -1\n",
    "    bestPi = tasks\n",
    "    \n",
    "    sortedTasks = sorted(tasks, key=lambda x: x.r)\n",
    "    for k, task in enumerate(sortedTasks):\n",
    "        B = create_B(sortedTasks, k)\n",
    "        availableTasks = set(tasks) - set([task]) - set(B)\n",
    "        if availableTasks != set([]):\n",
    "            i_l = argmin(availableTasks)\n",
    "            pi_k = create_pi_k(sortedTasks, k, i_l)\n",
    "            phi_k = phi(pi_k)\n",
    "            if phi_k < minPhi:\n",
    "                minPhi = phi_k\n",
    "                bestPi = pi_k\n",
    "                minK = k\n",
    "    return bestPi, minK, minPhi\n",
    "            \n",
    "            "
   ]
  },
  {
   "cell_type": "markdown",
   "metadata": {},
   "source": [
    "## Тестирование эффективности по времени"
   ]
  },
  {
   "cell_type": "markdown",
   "metadata": {},
   "source": [
    "Класс для хранения информации о результатах тестирования **одного** расписания"
   ]
  },
  {
   "cell_type": "code",
   "execution_count": 6,
   "metadata": {},
   "outputs": [],
   "source": [
    "class Timing:\n",
    "    \"\"\"\n",
    "    Init parameters:\n",
    "        nDims -- number of tasks in a schedule\n",
    "        timings -- all timing results\n",
    "        \n",
    "    get_mean_time method calculates the mean value of all\n",
    "    measured timings\n",
    "    \"\"\"\n",
    "    nDims = 0\n",
    "    timings = []\n",
    "    \n",
    "    def __init__(self, nDims, timings):\n",
    "        self.nDims = nDims\n",
    "        self.timings = timings\n",
    "        \n",
    "    def get_mean_time(self):\n",
    "        return np.mean(self.timings)"
   ]
  },
  {
   "cell_type": "code",
   "execution_count": 20,
   "metadata": {},
   "outputs": [],
   "source": [
    "def test_time(create_optimal_pi,\n",
    "             minDim=10,\n",
    "             maxDim=7500,\n",
    "             step=250,\n",
    "             nExamples=5):\n",
    "    \"\"\"\n",
    "    Test the performance of the given algorithm on randomly generated sets of jobs.\n",
    "    \n",
    "    Parameters:\n",
    "        create_optimal_pi -- the algorithm to test\n",
    "        minDim -- ...\n",
    "        maxDim -- ...\n",
    "        step -- ...\n",
    "        nExamples -- the number of tasks generated for each number of jobs\n",
    "    \"\"\"\n",
    "    taskList = [Task.generate_multiple(n) for n in range(minDim, maxDim, step) for i in range(nExamples)]\n",
    "    results = []\n",
    "    for i, tasks in enumerate(taskList):\n",
    "        print(i+1, \"out of\", len(taskList), \"\\r\", end='')\n",
    "        t = %timeit -q -o -r 3 create_optimal_pi(tasks)\n",
    "        results.append(Timing(len(tasks), t.timings))\n",
    "    return results"
   ]
  },
  {
   "cell_type": "markdown",
   "metadata": {},
   "source": [
    "## Тестирование и сериализация"
   ]
  },
  {
   "cell_type": "code",
   "execution_count": 21,
   "metadata": {},
   "outputs": [],
   "source": [
    "def deserialize(filename):\n",
    "    with open(filename, 'rb') as f:\n",
    "        obj = pickle.load(f)\n",
    "    return obj\n",
    "\n",
    "def serialize(obj, filename):\n",
    "    with open(filename, 'wb') as f:\n",
    "        pickle.dump(obj, f)"
   ]
  },
  {
   "cell_type": "markdown",
   "metadata": {},
   "source": [
    "Тестирование и запись объектов класса `Timing` в списки `results`. Сериализация полученных результатов для каждого алгоритма"
   ]
  },
  {
   "cell_type": "code",
   "execution_count": 156,
   "metadata": {},
   "outputs": [
    {
     "name": "stdout",
     "output_type": "stream",
     "text": [
      "50 out of 50 \r"
     ]
    }
   ],
   "source": [
    "results_standard = test_time(dual_standard, maxDim=110, step=10)\n",
    "serialize(results_standard, 'rs.pkl')"
   ]
  },
  {
   "cell_type": "code",
   "execution_count": 157,
   "metadata": {},
   "outputs": [
    {
     "name": "stdout",
     "output_type": "stream",
     "text": [
      "50 out of 50 \r"
     ]
    }
   ],
   "source": [
    "results_modified = test_time(dual_modified, maxDim=110, step=10)\n",
    "serialize(results_modified, 'rm.pkl')"
   ]
  },
  {
   "cell_type": "markdown",
   "metadata": {},
   "source": [
    "Десериализация результатов в соответствующие переменные"
   ]
  },
  {
   "cell_type": "code",
   "execution_count": 10,
   "metadata": {},
   "outputs": [],
   "source": [
    "results_standard = deserialize('rs.pkl')\n",
    "results_modified = deserialize('rm.pkl')"
   ]
  },
  {
   "cell_type": "markdown",
   "metadata": {},
   "source": [
    "## График и аппроксимация"
   ]
  },
  {
   "cell_type": "markdown",
   "metadata": {},
   "source": [
    "Функции, которыми будут аппроксимированы экспериментальные точки"
   ]
  },
  {
   "cell_type": "code",
   "execution_count": 11,
   "metadata": {},
   "outputs": [],
   "source": [
    "def poly(x, A, b, p, c):\n",
    "    return A * (x + b)**p + c\n",
    "\n",
    "def log(x, A, p, c, cl, s):\n",
    "    return A * (x + c)**p * np.log(x + cl) + s"
   ]
  },
  {
   "cell_type": "markdown",
   "metadata": {},
   "source": [
    "Аппроксимация"
   ]
  },
  {
   "cell_type": "code",
   "execution_count": 12,
   "metadata": {},
   "outputs": [],
   "source": [
    "def fit(p, fit_func):\n",
    "    x = list(map(lambda x: x.nDims, p))\n",
    "    y = list(map(lambda x: x.get_mean_time(), p))\n",
    "    popt, pcov = curve_fit(fit_func, x, y)\n",
    "    perr = np.sqrt(np.diag(pcov))\n",
    "    return x, y, popt, pcov, perr"
   ]
  },
  {
   "cell_type": "code",
   "execution_count": 13,
   "metadata": {},
   "outputs": [
    {
     "name": "stderr",
     "output_type": "stream",
     "text": [
      "C:\\ProgramData\\Anaconda3\\lib\\site-packages\\ipykernel_launcher.py:2: RuntimeWarning: invalid value encountered in power\n",
      "  \n"
     ]
    }
   ],
   "source": [
    "x, y, popt, pcov, perr = fit(results_standard, fit_func=poly)\n",
    "xm, ym, poptm, pcovm, perrm = fit(results_modified, fit_func=poly)"
   ]
  },
  {
   "cell_type": "code",
   "execution_count": 14,
   "metadata": {},
   "outputs": [
    {
     "ename": "IndexError",
     "evalue": "index 4 is out of bounds for axis 0 with size 4",
     "output_type": "error",
     "traceback": [
      "\u001b[1;31m---------------------------------------------------------------------------\u001b[0m",
      "\u001b[1;31mIndexError\u001b[0m                                Traceback (most recent call last)",
      "\u001b[1;32m<ipython-input-14-02065ea81d07>\u001b[0m in \u001b[0;36m<module>\u001b[1;34m\u001b[0m\n\u001b[1;32m----> 1\u001b[1;33m \u001b[0mprint\u001b[0m\u001b[1;33m(\u001b[0m\u001b[1;34m\"Сложность модифицированного алгоритма O(n^%.2f * log(n*%.2f))\"\u001b[0m \u001b[1;33m%\u001b[0m \u001b[1;33m(\u001b[0m\u001b[0mpoptm\u001b[0m\u001b[1;33m[\u001b[0m\u001b[1;36m2\u001b[0m\u001b[1;33m]\u001b[0m\u001b[1;33m,\u001b[0m \u001b[0mpoptm\u001b[0m\u001b[1;33m[\u001b[0m\u001b[1;36m4\u001b[0m\u001b[1;33m]\u001b[0m\u001b[1;33m)\u001b[0m\u001b[1;33m)\u001b[0m\u001b[1;33m\u001b[0m\u001b[1;33m\u001b[0m\u001b[0m\n\u001b[0m\u001b[0;32m      2\u001b[0m \u001b[0mprint\u001b[0m\u001b[1;33m(\u001b[0m\u001b[1;34m\"Погршеность определения степени n: +-%.2f\"\u001b[0m \u001b[1;33m%\u001b[0m \u001b[0mperrm\u001b[0m\u001b[1;33m[\u001b[0m\u001b[1;36m2\u001b[0m\u001b[1;33m]\u001b[0m\u001b[1;33m)\u001b[0m\u001b[1;33m\u001b[0m\u001b[1;33m\u001b[0m\u001b[0m\n\u001b[0;32m      3\u001b[0m \u001b[0mprint\u001b[0m\u001b[1;33m(\u001b[0m\u001b[1;34m\"Погрешность определения коэффициента в логарифме: +-%.2f\"\u001b[0m \u001b[1;33m%\u001b[0m \u001b[0mperrm\u001b[0m\u001b[1;33m[\u001b[0m\u001b[1;36m4\u001b[0m\u001b[1;33m]\u001b[0m\u001b[1;33m)\u001b[0m\u001b[1;33m\u001b[0m\u001b[1;33m\u001b[0m\u001b[0m\n",
      "\u001b[1;31mIndexError\u001b[0m: index 4 is out of bounds for axis 0 with size 4"
     ]
    }
   ],
   "source": [
    "print(\"Сложность модифицированного алгоритма O(n^%.2f * log(n*%.2f))\" % (poptm[2], poptm[4]))\n",
    "print(\"Погршеность определения степени n: +-%.2f\" % perrm[2])\n",
    "print(\"Погрешность определения коэффициента в логарифме: +-%.2f\" % perrm[4])"
   ]
  },
  {
   "cell_type": "code",
   "execution_count": 15,
   "metadata": {},
   "outputs": [
    {
     "data": {
      "text/plain": [
       "[0.0006068586999999752, 0.0005265236000000186, 0.0005703766000001451]"
      ]
     },
     "execution_count": 15,
     "metadata": {},
     "output_type": "execute_result"
    }
   ],
   "source": [
    "results_modified[12].timings"
   ]
  },
  {
   "cell_type": "markdown",
   "metadata": {},
   "source": [
    "Построение итогового графика"
   ]
  },
  {
   "cell_type": "code",
   "execution_count": 16,
   "metadata": {},
   "outputs": [
    {
     "data": {
      "text/plain": [
       "[<matplotlib.lines.Line2D at 0x219ac1776a0>]"
      ]
     },
     "execution_count": 16,
     "metadata": {},
     "output_type": "execute_result"
    },
    {
     "data": {
      "image/png": "[encoded data removed]",
      "text/plain": [
       "<Figure size 720x432 with 1 Axes>"
      ]
     },
     "metadata": {
      "needs_background": "light"
     },
     "output_type": "display_data"
    }
   ],
   "source": [
    "fig = plt.figure(figsize=(10, 6))\n",
    "ax = fig.add_subplot(111)\n",
    "ax.grid()\n",
    "ax.plot(x, y, 'bo', alpha=0.3)\n",
    "ax.plot(xm, ym, 'ro', alpha=0.3)\n",
    "ax.set_title(\"График зависимости времени работы алгоритма от количества требований в расписании\")\n",
    "ax.set_xlabel(\"Количество требований в расписании\")\n",
    "ax.set_ylabel(\"Время выполнения, сек\")\n",
    "ax.plot(x, poly(x, *popt), color='b', linewidth=3)\n",
    "ax.plot(xm, poly(xm, *poptm), color='r', linewidth=3)"
   ]
  },
  {
   "cell_type": "code",
   "execution_count": 186,
   "metadata": {},
   "outputs": [
    {
     "data": {
      "text/plain": [
       "array([ 7.59485551e-06, -9.99999857e+00,  1.44126688e+00, -2.78207108e-05])"
      ]
     },
     "execution_count": 186,
     "metadata": {},
     "output_type": "execute_result"
    }
   ],
   "source": [
    "poptm"
   ]
  },
  {
   "cell_type": "markdown",
   "metadata": {},
   "source": [
    "## Выводы"
   ]
  },
  {
   "cell_type": "markdown",
   "metadata": {},
   "source": [
    "- Случайным образом сгенерирован набор примеров размерностью от 10 до 7500 требований с шагом в 100 требований. Для каждой размерности из данного диапазона было сгенерировано по 5 примеров.\n",
    "- Экспериментально доказана сложность \"двойственного\" алгоритма $O(n^2)$\n",
    "- Проверку корректности работы алгоритма провести не удалось (см. примечание к функции *bruteforce*)\n",
    "- В дальнейшем возможно улучшить данный эксперимент, используя многопроцессные вычисления и встроенные прекомпилированные функции python."
   ]
  }
 ],
 "metadata": {
  "kernelspec": {
   "display_name": "Python 3",
   "language": "python",
   "name": "python3"
  },
  "language_info": {
   "codemirror_mode": {
    "name": "ipython",
    "version": 3
   },
   "file_extension": ".py",
   "mimetype": "text/x-python",
   "name": "python",
   "nbconvert_exporter": "python",
   "pygments_lexer": "ipython3",
   "version": "3.7.1"
  }
 },
 "nbformat": 4,
 "nbformat_minor": 2
}
