{
 "cells": [
  {
   "cell_type": "markdown",
   "metadata": {},
   "source": [
    "# Исследование эффективности \"двойственного\" алгоритма \n",
    "### Решение \"двойственной\" задачи к задаче минимизации максимального штрафа\n",
    "\n",
    "## Код алгоритма"
   ]
  },
  {
   "cell_type": "code",
   "execution_count": 18,
   "metadata": {},
   "outputs": [],
   "source": [
    "import random\n",
    "import pickle\n",
    "import numpy as np\n",
    "import matplotlib.pyplot as plt\n",
    "from itertools import permutations\n",
    "from scipy.optimize import curve_fit"
   ]
  },
  {
   "cell_type": "markdown",
   "metadata": {},
   "source": [
    "Класс для одного требования. **Расписание**, таким образом, -- список объектов класса `Task`\n",
    "\n",
    "*Прим. к генерации значений* (см docstring класса `Task`):<br>\n",
    "Как следует из теорем *1.1* и *1.4*, даже несмотря на наличие примеров с d<sub>j</sub> < r<sub>j</sub>, существует эквивалентный сгенерированному пример с d<sub>j</sub> > r<sub>j</sub>  "
   ]
  },
  {
   "cell_type": "code",
   "execution_count": 7,
   "metadata": {},
   "outputs": [],
   "source": [
    "class Task:\n",
    "    \"\"\"\n",
    "    A class for a single task.\n",
    "    \n",
    "    Init parameters:\n",
    "        rMin, rMax -- recievement time limits\n",
    "        pMin, pMax -- process time limits\n",
    "        dMin, dMax -- due date limits\n",
    "        \n",
    "    For each task the recievement time, process time and due date\n",
    "    are calculated randomly (uniform distribution) between given limits.\n",
    "    Default limit values are in the code below.\n",
    "    \n",
    "    Additional parameters:\n",
    "        phi -- the loss function for this particular task.\n",
    "        By default returns its argument without changing it\n",
    "    \"\"\"\n",
    "    r = 0\n",
    "    p = 0\n",
    "    d = 0\n",
    "    phi = None\n",
    "            \n",
    "    def gen_r(self, rMin, rMax):\n",
    "        self.r = int(random.uniform(rMin, rMax))\n",
    "        \n",
    "    def gen_p(self, pMin, pMax):\n",
    "        self.p = int(random.uniform(pMin, pMax))\n",
    "        \n",
    "    def gen_d(self, dMin, dMax):\n",
    "        self.d = int(random.uniform(dMin, dMax))\n",
    "    \n",
    "    def __init__(self, **kwargs):\n",
    "        self.gen_r(kwargs.get('rMin', 1), kwargs.get('rMax', 100))\n",
    "        self.gen_p(kwargs.get('pMin', 10), kwargs.get('pMax', 100))\n",
    "        self.gen_d(kwargs.get('dMin', 1), kwargs.get('dMax', 200))\n",
    "        self.phi = kwargs.get('phi', lambda x: x)\n",
    "        \n",
    "    def show(self):\n",
    "        print(\"r =\", self.r, \"| p =\", self.p, \"| d =\", self.d)\n",
    "        \n",
    "    @staticmethod\n",
    "    def show_all(tasks):\n",
    "        print(\" r\", \"p\", \"d\", sep=' | ', end='\\n\\n')\n",
    "        for task in tasks:\n",
    "            print(task.r, task.p, task.d, sep=' | ')\n",
    "    \n",
    "    @staticmethod\n",
    "    def generate_multiple(nTasks):\n",
    "        return list(Task() for i in range(nTasks))"
   ]
  },
  {
   "cell_type": "markdown",
   "metadata": {},
   "source": [
    "Функция для расчета времени **окончания обслуживания** и **функция потерь**"
   ]
  },
  {
   "cell_type": "code",
   "execution_count": 8,
   "metadata": {},
   "outputs": [],
   "source": [
    "def C(pi, j=None):\n",
    "    \"\"\"\n",
    "    Returns the completion time of task number j in schedule pi\n",
    "    \"\"\"\n",
    "    t = 0\n",
    "    for task in pi[:j]:\n",
    "        if t < task.r:\n",
    "            t = task.r\n",
    "        t += task.p\n",
    "    return t\n",
    "\n",
    "def phi(pi, j=None):\n",
    "    \"\"\"\n",
    "    Returns the phi value of task number j in schedule pi.\n",
    "    Uses the task`s own phi function\n",
    "    \"\"\"\n",
    "    t = j or 0\n",
    "    return pi[t].phi(C(pi, j))"
   ]
  },
  {
   "cell_type": "markdown",
   "metadata": {},
   "source": [
    "Функция создания расписания $\\pi$<sub>k</sub> -- переносит k-ый аргумент в конец расписания"
   ]
  },
  {
   "cell_type": "code",
   "execution_count": 9,
   "metadata": {},
   "outputs": [],
   "source": [
    "def create_pi_k(pi, k):\n",
    "    pi_k = pi.copy()\n",
    "    pi_k.append(pi_k.pop(k))\n",
    "    return pi_k"
   ]
  },
  {
   "cell_type": "markdown",
   "metadata": {},
   "source": [
    "Сам \"двойственный\" алгоритм. Принимает список требований и возвращает оптимальное расписание"
   ]
  },
  {
   "cell_type": "code",
   "execution_count": 56,
   "metadata": {},
   "outputs": [],
   "source": [
    "def create_optimal_pi(tasks):\n",
    "    \"\"\"\n",
    "    Returns optimal schedule, the k value and max value of phi\n",
    "    ToDo: maybe use map?\n",
    "    \"\"\"\n",
    "    maxPhi = phi(tasks)\n",
    "    maxK = -1\n",
    "    \n",
    "    sortedTasks = sorted(tasks, key=lambda x: x.r)\n",
    "    for k, task in enumerate(sortedTasks):\n",
    "        pi_k = create_pi_k(sortedTasks, k)\n",
    "        phi_k = phi(pi_k)\n",
    "        if phi_k > maxPhi:\n",
    "            maxPhi = phi_k\n",
    "            maxK = k\n",
    "    return create_pi_k(sortedTasks, maxK), maxK, maxPhi"
   ]
  },
  {
   "cell_type": "markdown",
   "metadata": {},
   "source": [
    "Алгоритм \"брутфорса\" -- для проверки **результатов работы** предложенного выше \"двойственного\" алгоритма. Выбирает оптимальное расписание из всех возможных (перебор за `О(n+1)!` операций).\n",
    "\n",
    "Я не уверен, что правильно понял изначальную формулировку задачи поиска $\\nu* = \\max(\\min(\\phi()))$, поскольку данный алгоритм выдаёт иные значения, чем алгоритм 2.4 на странице 117.  "
   ]
  },
  {
   "cell_type": "markdown",
   "metadata": {},
   "source": [
    "```python\n",
    "def bruteforce(tasks):\n",
    "    # initialize variables\n",
    "    \n",
    "    # local best schedule with minimum completion time\n",
    "    localBest = tasks\n",
    "    # best schedule in total\n",
    "    best_pi = tasks\n",
    "    # max loss value - nu* in the suggested algorithm\n",
    "    maxPhi = phi(tasks)\n",
    "    \n",
    "    # loop for selecting max over all possible k`s\n",
    "    for k in range(1, len(tasks)+1):\n",
    "        # reinitialize minimum possible phi over all possible schedules\n",
    "        minPhi = phi(tasks)\n",
    "        \n",
    "        # loop for selecting min over all possible schedules\n",
    "        for pi_k in permutations(tasks):\n",
    "            if phi(C(pi_k, -1)) < minPhi:\n",
    "                minPhi = phi(C(pi_k, k))\n",
    "                localBest = pi_k\n",
    "                \n",
    "        if minPhi > maxPhi:\n",
    "            maxPhi = minPhi\n",
    "            best_pi = localBest\n",
    "    return best_pi, maxPhi\n",
    "```"
   ]
  },
  {
   "cell_type": "markdown",
   "metadata": {},
   "source": [
    "## Тестирование эффективности по времени"
   ]
  },
  {
   "cell_type": "markdown",
   "metadata": {},
   "source": [
    "Класс для хранения информации о результатах тестирования **одного** расписания"
   ]
  },
  {
   "cell_type": "code",
   "execution_count": 11,
   "metadata": {},
   "outputs": [],
   "source": [
    "class Timing:\n",
    "    \"\"\"\n",
    "    Init parameters:\n",
    "        nDims -- number of tasks in a schedule\n",
    "        timings -- all timing results\n",
    "        \n",
    "    get_mean_time method calculates the mean value of all\n",
    "    measured timings\n",
    "    \"\"\"\n",
    "    nDims = 0\n",
    "    timings = []\n",
    "    \n",
    "    def __init__(self, nDims, timings):\n",
    "        self.nDims = nDims\n",
    "        self.timings = timings\n",
    "        \n",
    "    def get_mean_time(self):\n",
    "        return np.mean(self.timings)"
   ]
  },
  {
   "cell_type": "markdown",
   "metadata": {},
   "source": [
    "**Параметры тестового набора**"
   ]
  },
  {
   "cell_type": "code",
   "execution_count": 12,
   "metadata": {},
   "outputs": [],
   "source": [
    "minDim = 10\n",
    "maxDim = 10010\n",
    "step = 100\n",
    "\n",
    "nExamples = 5"
   ]
  },
  {
   "cell_type": "markdown",
   "metadata": {},
   "source": [
    "Генерация тестового набора"
   ]
  },
  {
   "cell_type": "code",
   "execution_count": 13,
   "metadata": {},
   "outputs": [],
   "source": [
    "taskList = [Task.generate_multiple(n) for n in range(minDim, maxDim, step) for i in range(nExamples)]"
   ]
  },
  {
   "cell_type": "markdown",
   "metadata": {},
   "source": [
    "Тестирование и запись объектов класса `Timing` в список `results`"
   ]
  },
  {
   "cell_type": "code",
   "execution_count": 14,
   "metadata": {},
   "outputs": [],
   "source": [
    "results = []\n",
    "for i, tasks in enumerate(taskList):\n",
    "    print(i+1, \"out of\", len(taskList), \"\\r\", end='')\n",
    "    t = %timeit -q -o -r 3 create_optimal_pi(tasks)\n",
    "    results.append(Timing(len(tasks), t.timings))"
   ]
  },
  {
   "cell_type": "markdown",
   "metadata": {},
   "source": [
    "## Сериализация списка `results`"
   ]
  },
  {
   "cell_type": "code",
   "execution_count": 16,
   "metadata": {},
   "outputs": [],
   "source": [
    "filename = 'pickle1.dmp'\n",
    "p = pickle.dumps(results)"
   ]
  },
  {
   "cell_type": "code",
   "execution_count": 376,
   "metadata": {},
   "outputs": [],
   "source": [
    "# Serializing\n",
    "with open(filename, 'wb') as f:\n",
    "    f.write(p)"
   ]
  },
  {
   "cell_type": "code",
   "execution_count": 17,
   "metadata": {},
   "outputs": [],
   "source": [
    "# Deserializing\n",
    "with open(filename, 'rb') as f:\n",
    "    p = pickle.load(f)"
   ]
  },
  {
   "cell_type": "markdown",
   "metadata": {},
   "source": [
    "## График и аппроксимация"
   ]
  },
  {
   "cell_type": "markdown",
   "metadata": {},
   "source": [
    "Функция, которой будут аппроксимированы экспериментальные точки"
   ]
  },
  {
   "cell_type": "code",
   "execution_count": 19,
   "metadata": {},
   "outputs": [],
   "source": [
    "def poly(x, A, b, p, c):\n",
    "    return A * (x + b)**p + c"
   ]
  },
  {
   "cell_type": "markdown",
   "metadata": {},
   "source": [
    "Аппроксимация"
   ]
  },
  {
   "cell_type": "code",
   "execution_count": 26,
   "metadata": {},
   "outputs": [],
   "source": [
    "x = list(map(lambda x: x.nDims, p))\n",
    "y = list(map(lambda x: x.get_mean_time(), p))\n",
    "popt, pcov = curve_fit(poly, x, y, (1, 0, 2, 0))\n",
    "perr = np.sqrt(np.diag(pcov))\n",
    "print(\"Степень полинома: %.3f +- %.3f\" % (popt[2], perr[2]))"
   ]
  },
  {
   "cell_type": "markdown",
   "metadata": {},
   "source": [
    "Построение итогового графика"
   ]
  },
  {
   "cell_type": "code",
   "execution_count": 29,
   "metadata": {},
   "outputs": [
    {
     "data": {
      "text/plain": [
       "[<matplotlib.lines.Line2D at 0x1eb09fcb4e0>]"
      ]
     },
     "execution_count": 29,
     "metadata": {},
     "output_type": "execute_result"
    },
    {
     "data": {
      "image/png": "[encoded data removed]",
      "text/plain": [
       "<Figure size 720x432 with 1 Axes>"
      ]
     },
     "metadata": {
      "needs_background": "light"
     },
     "output_type": "display_data"
    }
   ],
   "source": [
    "fig = plt.figure(figsize=(10, 6))\n",
    "ax = fig.add_subplot(111)\n",
    "ax.grid()\n",
    "ax.plot(x, y, 'bo', alpha=0.3)\n",
    "ax.set_title(\"График зависимости времени работы алгоритма от количества требований в расписании\")\n",
    "ax.set_xlabel(\"Количество требований в расписании\")\n",
    "ax.set_ylabel(\"Время выполнения, сек\")\n",
    "ax.plot(x, poly(x, *popt), color='r', linewidth=5, alpha=0.6)"
   ]
  },
  {
   "cell_type": "markdown",
   "metadata": {},
   "source": [
    "## Выводы"
   ]
  },
  {
   "cell_type": "markdown",
   "metadata": {},
   "source": [
    "- Случайным образом сгенерирован набор примеров размерностью от 10 до 7500 требований с шагом в 100 требований. Для каждой размерности из данного диапазона было сгенерировано по 5 примеров.\n",
    "- Экспериментально доказана сложность \"двойственного\" алгоритма $O(n^2)$\n",
    "- Проверку корректности работы алгоритма провести не удалось (см. примечание к функции *bruteforce*)\n",
    "- В дальнейшем возможно улучшить данный эксперимент, используя многопроцессные вычисления и встроенные прекомпилированные функции python."
   ]
  }
 ],
 "metadata": {
  "kernelspec": {
   "display_name": "Python 3",
   "language": "python",
   "name": "python3"
  },
  "language_info": {
   "codemirror_mode": {
    "name": "ipython",
    "version": 3
   },
   "file_extension": ".py",
   "mimetype": "text/x-python",
   "name": "python",
   "nbconvert_exporter": "python",
   "pygments_lexer": "ipython3",
   "version": "3.7.1"
  }
 },
 "nbformat": 4,
 "nbformat_minor": 2
}
