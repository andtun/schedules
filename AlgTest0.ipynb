{
 "cells": [
  {
   "cell_type": "markdown",
   "metadata": {},
   "source": [
    "# ToDo:\n",
    "- генерация примеров с условием $d_j - r_j - p_j \\geq 0$ $\\forall j \\in N$\n",
    "- Если при тестировании алгоритма 2 основной индикатор сложности - количество точек ветвления, то какой индикатор рационально выбрать для алгоритма 1?\n",
    "- зачем нужен параметр алгоритма $\\tau$, если начало работы машины $\\tau=0$\n",
    "- Статья \"On the dual and inverse problems of scheduling problems with minimizing the maximum job penalty\", алгоритм 1, пункт 3: $\\nu^*=\\min_{k=1,..,n}(\\phi_{i_k}(C_{i_k}(\\pi_k))$. Разве не должно быть $\\nu^*=\\max_{k=1,..,n}(\\phi_{i_k}(C_{i_k}(\\pi_k))$ как в алгоритме 2.4 в монографии?"
   ]
  },
  {
   "cell_type": "code",
   "execution_count": null,
   "metadata": {},
   "outputs": [],
   "source": []
  },
  {
   "cell_type": "markdown",
   "metadata": {},
   "source": [
    "# Исследование эффективности \"двойственного\" алгоритма \n",
    "### Решение \"двойственной\" задачи к задаче минимизации максимального штрафа\n",
    "\n",
    "## Код алгоритма"
   ]
  },
  {
   "cell_type": "code",
   "execution_count": 16,
   "metadata": {},
   "outputs": [],
   "source": [
    "import random\n",
    "import pickle\n",
    "import threading\n",
    "import numpy as np\n",
    "import matplotlib.pyplot as plt\n",
    "from itertools import permutations\n",
    "from scipy.optimize import curve_fit\n",
    "from multiprocessing.pool import ThreadPool"
   ]
  },
  {
   "cell_type": "markdown",
   "metadata": {},
   "source": [
    "Класс для одного требования. **Расписание**, таким образом, -- список объектов класса `Task`\n",
    "\n",
    "*Прим. к генерации значений* (см docstring класса `Task`):<br>\n",
    "Как следует из теорем *1.1* и *1.4*, даже несмотря на наличие примеров с d<sub>j</sub> < r<sub>j</sub>, существует эквивалентный сгенерированному пример с d<sub>j</sub> > r<sub>j</sub>. Тем не менее, для выполнения условия достаточно задать параметр `NNTS=True` (NNTS - non-negative time slack)"
   ]
  },
  {
   "cell_type": "code",
   "execution_count": 30,
   "metadata": {},
   "outputs": [],
   "source": [
    "class Task:\n",
    "    \"\"\"\n",
    "    A class for a single task.\n",
    "    \n",
    "    Init parameters:\n",
    "        rMin, rMax -- recievement time limits\n",
    "        pMin, pMax -- process time limits\n",
    "        dMin, dMax -- due date limits\n",
    "        \n",
    "    For each task the recievement time, process time and due date\n",
    "    are calculated randomly (uniform distribution) between given limits.\n",
    "    Default limit values are in the code below.\n",
    "    \n",
    "    Additional parameters:\n",
    "        phi -- the loss function for this particular task.\n",
    "        By default returns its argument without changing it\n",
    "    \"\"\"\n",
    "    r = 0\n",
    "    p = 0\n",
    "    d = 0\n",
    "    phi = None\n",
    "            \n",
    "    def gen_r(self, rMin, rMax):\n",
    "        self.r = int(random.uniform(rMin, rMax))\n",
    "        \n",
    "    def gen_p(self, pMin, pMax):\n",
    "        self.p = int(random.uniform(pMin, pMax))\n",
    "        \n",
    "    def gen_d(self, dMin, dMax):\n",
    "        self.d = int(random.uniform(dMin, dMax))\n",
    "    \n",
    "    def __init__(self,\n",
    "                 NNTS=False,\n",
    "                 rMin = 1,\n",
    "                 rMax = 100,\n",
    "                 pMin = 1,\n",
    "                 pMax = 100,\n",
    "                 dMin = 1,\n",
    "                 dMax = 200,\n",
    "                 dDelta = 100,\n",
    "                 **kwargs):\n",
    "        self.gen_r(rMin, rMax)\n",
    "        self.gen_p(pMin, pMax)\n",
    "        if NNTS:\n",
    "            dMin = self.r + self.p\n",
    "            dMax = dMin + dDelta\n",
    "        self.gen_d(dMin, dMax)\n",
    "        self.phi = kwargs.get('phi', lambda x: x)\n",
    "        \n",
    "    def show(self):\n",
    "        print(\"r =\", self.r, \"| p =\", self.p, \"| d =\", self.d)\n",
    "        \n",
    "    @staticmethod\n",
    "    def show_all(tasks):\n",
    "        \"\"\"\n",
    "        Show r, p, d for each task from the 'tasks' list \n",
    "        \"\"\"\n",
    "        print(\" r\", \"p\", \"d\", sep=' | ', end='\\n\\n')\n",
    "        for task in tasks:\n",
    "            print(task.r, task.p, task.d, sep=' | ')\n",
    "    \n",
    "    @staticmethod\n",
    "    def generate_multiple(nTasks, NNTS=False, **kwargs):\n",
    "        \"\"\"\n",
    "        Generate multiple tasks.\n",
    "        \n",
    "        Parameters:\n",
    "            nTasks - the number of tasks to generate\n",
    "            NNTS - (bool) whether to use NNTS or not\n",
    "        \n",
    "        **kwargs parameters (see Task class docstring):\n",
    "            rMin, rMax -- recievement time limits\n",
    "            pMin, pMax -- process time limits\n",
    "            dMin, dMax -- due date limits\n",
    "            phi -- the loss function for this particular task.\n",
    "            By default returns its argument without changing it\n",
    "        \"\"\"\n",
    "        return list(Task(NNTS=NNTS, **kwargs) for i in range(nTasks))"
   ]
  },
  {
   "cell_type": "markdown",
   "metadata": {},
   "source": [
    "Функция для расчета времени **окончания обслуживания** и **функция потерь** (см. docstring к функциям)"
   ]
  },
  {
   "cell_type": "code",
   "execution_count": 31,
   "metadata": {},
   "outputs": [],
   "source": [
    "def C(pi, j=None):\n",
    "    \"\"\"\n",
    "    Returns the completion time of task number j in schedule pi\n",
    "    \"\"\"\n",
    "    t = 0\n",
    "    for task in pi[:j]:\n",
    "        if t < task.r:\n",
    "            t = task.r\n",
    "        t += task.p\n",
    "    return t\n",
    "\n",
    "def phi(pi, j=None):\n",
    "    \"\"\"\n",
    "    Returns the phi value of task number j in schedule pi.\n",
    "    Uses the task`s own phi function\n",
    "    \"\"\"\n",
    "    t = j or 0\n",
    "    return pi[t].phi(C(pi, j))"
   ]
  },
  {
   "cell_type": "markdown",
   "metadata": {},
   "source": [
    "Стандартный \"двойственный\" алгоритм (№2.4 на с.117 монографии). Принимает список требований и возвращает оптимальное расписание"
   ]
  },
  {
   "cell_type": "code",
   "execution_count": 32,
   "metadata": {},
   "outputs": [],
   "source": [
    "def dual_standard(tasks):\n",
    "    \"\"\"\n",
    "    Returns optimal schedule, the k value and max value of phi\n",
    "    \"\"\"\n",
    "    \n",
    "    def create_pi_k(pi, k):\n",
    "        pi_k = pi.copy()\n",
    "        pi_k.append(pi_k.pop(k))\n",
    "        return pi_k\n",
    "    \n",
    "    maxPhi = phi(tasks)\n",
    "    maxK = -1\n",
    "    \n",
    "    sortedTasks = sorted(tasks, key=lambda x: x.r)\n",
    "    for k, task in enumerate(sortedTasks):\n",
    "        pi_k = create_pi_k(sortedTasks, k)\n",
    "        phi_k = phi(pi_k)\n",
    "        if phi_k > maxPhi:\n",
    "            maxPhi = phi_k\n",
    "            maxK = k\n",
    "    return create_pi_k(sortedTasks, maxK), maxK, maxPhi"
   ]
  },
  {
   "cell_type": "markdown",
   "metadata": {},
   "source": [
    "Модифицированный двойственный алгоритм (№1 на с.4 статьи). Принимает список требований и возвращает оптимальное расписание"
   ]
  },
  {
   "cell_type": "code",
   "execution_count": 33,
   "metadata": {},
   "outputs": [],
   "source": [
    "def dual_modified(tasks):\n",
    "    \"\"\"\n",
    "    Returns optimal schedule, the k value and max value of phi\n",
    "    \"\"\"\n",
    "    \n",
    "    def create_B(tasks, k):\n",
    "        return tasks.copy()[k+1:]\n",
    "    \n",
    "    def argmin(tasks):\n",
    "        return min(enumerate(tasks), key=lambda x: x[1].r)[0]\n",
    "    \n",
    "    def create_pi_k(sortedTasks, k, i_l):\n",
    "        pi_k = sortedTasks.copy()\n",
    "        task_l = pi_k.pop(i_l)\n",
    "        if i_l < k:\n",
    "            k -= 1\n",
    "        task_k = pi_k.pop(k)\n",
    "        return [task_l] + pi_k + [task_k]\n",
    "    \n",
    "    minPhi = phi(tasks)\n",
    "    minK = -1\n",
    "    bestPi = tasks\n",
    "    \n",
    "    sortedTasks = sorted(tasks, key=lambda x: x.r)\n",
    "    for k, task in enumerate(sortedTasks):\n",
    "        B = create_B(sortedTasks, k)\n",
    "        availableTasks = set(tasks) - set([task]) - set(B)\n",
    "        if availableTasks != set([]):\n",
    "            i_l = argmin(availableTasks)\n",
    "            pi_k = create_pi_k(sortedTasks, k, i_l)\n",
    "            phi_k = phi(pi_k)\n",
    "            if phi_k < minPhi:\n",
    "                minPhi = phi_k\n",
    "                bestPi = pi_k\n",
    "                minK = k\n",
    "    return bestPi, minK, minPhi\n",
    "            \n",
    "            "
   ]
  },
  {
   "cell_type": "markdown",
   "metadata": {},
   "source": [
    "## Тестирование эффективности по времени"
   ]
  },
  {
   "cell_type": "markdown",
   "metadata": {},
   "source": [
    "Класс для хранения информации о результатах тестирования **одного** расписания"
   ]
  },
  {
   "cell_type": "code",
   "execution_count": 34,
   "metadata": {},
   "outputs": [],
   "source": [
    "class Timing:\n",
    "    \"\"\"\n",
    "    Init parameters:\n",
    "        nDims -- number of tasks in a schedule\n",
    "        timings -- all timing results\n",
    "        \n",
    "    get_mean_time method calculates the mean value of all\n",
    "    measured timings\n",
    "    \"\"\"\n",
    "    nDims = 0\n",
    "    timings = []\n",
    "    \n",
    "    def __init__(self, nDims, timings):\n",
    "        self.nDims = nDims\n",
    "        self.timings = timings\n",
    "        \n",
    "    def get_mean_time(self):\n",
    "        return np.mean(self.timings)"
   ]
  },
  {
   "cell_type": "code",
   "execution_count": 38,
   "metadata": {},
   "outputs": [],
   "source": [
    "def test_time(create_optimal_pi,\n",
    "             minDim=10,\n",
    "             maxDim=7510,\n",
    "             step=500,\n",
    "             nExamples=8):\n",
    "    \"\"\"\n",
    "    Test the performance of the given algorithm on randomly generated sets of jobs.\n",
    "    \n",
    "    Parameters:\n",
    "        create_optimal_pi -- the algorithm to test\n",
    "        minDim -- ...\n",
    "        maxDim -- ...\n",
    "        step -- ...\n",
    "        nExamples -- the number of tasks generated for each number of jobs\n",
    "    \"\"\"\n",
    "    taskList = [Task.generate_multiple(n) for n in range(minDim, maxDim, step) for i in range(nExamples)]\n",
    "    results = []\n",
    "    for i, tasks in enumerate(taskList):\n",
    "        print(i+1, \"out of\", len(taskList), \"\\r\", end='')\n",
    "        t = %timeit -q -o -r 5 create_optimal_pi(tasks)\n",
    "        results.append(Timing(len(tasks), t.timings))\n",
    "    return results"
   ]
  },
  {
   "cell_type": "markdown",
   "metadata": {},
   "source": [
    "## Тестирование и сериализация"
   ]
  },
  {
   "cell_type": "code",
   "execution_count": 39,
   "metadata": {},
   "outputs": [],
   "source": [
    "def deserialize(filename):\n",
    "    with open(filename, 'rb') as f:\n",
    "        obj = pickle.load(f)\n",
    "    return obj\n",
    "\n",
    "def serialize(obj, filename):\n",
    "    with open(filename, 'wb') as f:\n",
    "        pickle.dump(obj, f)"
   ]
  },
  {
   "cell_type": "markdown",
   "metadata": {},
   "source": [
    "Тестирование и запись объектов класса `Timing` в списки `results`. Сериализация полученных результатов для каждого алгоритма"
   ]
  },
  {
   "cell_type": "code",
   "execution_count": 40,
   "metadata": {},
   "outputs": [],
   "source": [
    "def multithread_test(alg):\n",
    "    if alg == 'dual_standard':\n",
    "        results_standard = test_time(dual_standard)\n",
    "        serialize(results_standard, 'rsmlt.pkl')\n",
    "    elif alg == 'dual_modified':\n",
    "        results_modified = test_time(dual_modified)\n",
    "        serialize(results_modified, 'rmmlt.pkl')"
   ]
  },
  {
   "cell_type": "code",
   "execution_count": 41,
   "metadata": {},
   "outputs": [
    {
     "name": "stdout",
     "output_type": "stream",
     "text": [
      "120 out of 120     120  \r"
     ]
    }
   ],
   "source": [
    "with ThreadPool(2) as pool:\n",
    "    pool.map(multithread_test, ['dual_standard', 'dual_modified'])"
   ]
  },
  {
   "cell_type": "markdown",
   "metadata": {},
   "source": [
    "Десериализация результатов в соответствующие переменные"
   ]
  },
  {
   "cell_type": "code",
   "execution_count": 42,
   "metadata": {},
   "outputs": [],
   "source": [
    "results_standard = deserialize('rsmlt.pkl')\n",
    "results_modified = deserialize('rmmlt.pkl')"
   ]
  },
  {
   "cell_type": "markdown",
   "metadata": {},
   "source": [
    "## График и аппроксимация"
   ]
  },
  {
   "cell_type": "markdown",
   "metadata": {},
   "source": [
    "Функции, которыми будут аппроксимированы экспериментальные точки"
   ]
  },
  {
   "cell_type": "code",
   "execution_count": 131,
   "metadata": {},
   "outputs": [],
   "source": [
    "def poly(x, A, b, c):\n",
    "    return A*np.power(x, 2) + b*x + c\n",
    "\n",
    "def log(x, A, p, c, cl, s):\n",
    "    return A * (x + c)**p * np.log(x + cl) + s"
   ]
  },
  {
   "cell_type": "markdown",
   "metadata": {},
   "source": [
    "Аппроксимация"
   ]
  },
  {
   "cell_type": "code",
   "execution_count": 132,
   "metadata": {},
   "outputs": [],
   "source": [
    "def fit(p, fit_func):\n",
    "    x = np.array(list(map(lambda x: x.nDims, p)))\n",
    "    y = np.array(list(map(lambda x: x.get_mean_time(), p)))\n",
    "    popt, pcov = curve_fit(fit_func, x, y)\n",
    "    perr = np.sqrt(np.diag(pcov))\n",
    "    return x, y, popt, pcov, perr"
   ]
  },
  {
   "cell_type": "code",
   "execution_count": 133,
   "metadata": {},
   "outputs": [],
   "source": [
    "x, y, popt, pcov, perr = fit(results_standard, fit_func=poly)\n",
    "xm, ym, poptm, pcovm, perrm = fit(results_modified, fit_func=poly)"
   ]
  },
  {
   "cell_type": "code",
   "execution_count": 134,
   "metadata": {},
   "outputs": [
    {
     "ename": "IndexError",
     "evalue": "index 3 is out of bounds for axis 0 with size 3",
     "output_type": "error",
     "traceback": [
      "\u001b[1;31m------------------------------------------------\u001b[0m",
      "\u001b[1;31mIndexError\u001b[0m     Traceback (most recent call last)",
      "\u001b[1;32m<ipython-input-134-52ab20558ec5>\u001b[0m in \u001b[0;36m<module>\u001b[1;34m\u001b[0m\n\u001b[1;32m----> 1\u001b[1;33m \u001b[0mprint\u001b[0m\u001b[1;33m(\u001b[0m\u001b[1;34m\"Сложность модифицированного алгоритма O(n^%.2f * log(n*%.2f))\"\u001b[0m \u001b[1;33m%\u001b[0m \u001b[1;33m(\u001b[0m\u001b[0mpoptm\u001b[0m\u001b[1;33m[\u001b[0m\u001b[1;36m2\u001b[0m\u001b[1;33m]\u001b[0m\u001b[1;33m,\u001b[0m \u001b[0mpoptm\u001b[0m\u001b[1;33m[\u001b[0m\u001b[1;36m3\u001b[0m\u001b[1;33m]\u001b[0m\u001b[1;33m)\u001b[0m\u001b[1;33m)\u001b[0m\u001b[1;33m\u001b[0m\u001b[1;33m\u001b[0m\u001b[0m\n\u001b[0m\u001b[0;32m      2\u001b[0m \u001b[0mprint\u001b[0m\u001b[1;33m(\u001b[0m\u001b[1;34m\"Погршеность определения степени n: +-%.2f\"\u001b[0m \u001b[1;33m%\u001b[0m \u001b[0mperrm\u001b[0m\u001b[1;33m[\u001b[0m\u001b[1;36m2\u001b[0m\u001b[1;33m]\u001b[0m\u001b[1;33m)\u001b[0m\u001b[1;33m\u001b[0m\u001b[1;33m\u001b[0m\u001b[0m\n\u001b[0;32m      3\u001b[0m \u001b[0mprint\u001b[0m\u001b[1;33m(\u001b[0m\u001b[1;34m\"Погрешность определения коэффициента в логарифме: +-%.2f\"\u001b[0m \u001b[1;33m%\u001b[0m \u001b[0mperrm\u001b[0m\u001b[1;33m[\u001b[0m\u001b[1;36m3\u001b[0m\u001b[1;33m]\u001b[0m\u001b[1;33m)\u001b[0m\u001b[1;33m\u001b[0m\u001b[1;33m\u001b[0m\u001b[0m\n",
      "\u001b[1;31mIndexError\u001b[0m: index 3 is out of bounds for axis 0 with size 3"
     ]
    }
   ],
   "source": [
    "print(\"Сложность модифицированного алгоритма O(n^%.2f * log(n*%.2f))\" % (poptm[2], poptm[3]))\n",
    "print(\"Погршеность определения степени n: +-%.2f\" % perrm[2])\n",
    "print(\"Погрешность определения коэффициента в логарифме: +-%.2f\" % perrm[3])"
   ]
  },
  {
   "cell_type": "code",
   "execution_count": 135,
   "metadata": {},
   "outputs": [
    {
     "data": {
      "text/plain": [
       "[0.3943559000001642,\n",
       " 0.3678734000000077,\n",
       " 0.3380186000001686,\n",
       " 0.39597249999997075,\n",
       " 0.37170750000018415]"
      ]
     },
     "execution_count": 135,
     "metadata": {},
     "output_type": "execute_result"
    }
   ],
   "source": [
    "results_modified[12].timings"
   ]
  },
  {
   "cell_type": "markdown",
   "metadata": {},
   "source": [
    "Построение итогового графика"
   ]
  },
  {
   "cell_type": "code",
   "execution_count": 140,
   "metadata": {},
   "outputs": [
    {
     "data": {
      "text/plain": [
       "<matplotlib.legend.Legend at 0x27ca7febf60>"
      ]
     },
     "execution_count": 140,
     "metadata": {},
     "output_type": "execute_result"
    },
    {
     "data": {
      "image/png": "[encoded data removed]",
      "text/plain": [
       "<Figure size 720x432 with 1 Axes>"
      ]
     },
     "metadata": {
      "needs_background": "light"
     },
     "output_type": "display_data"
    }
   ],
   "source": [
    "fig = plt.figure(figsize=(10, 6))\n",
    "ax = fig.add_subplot(111)\n",
    "ax.grid()\n",
    "ax.plot(x, y, 'bo', alpha=0.3, label=\"Двойственный алгоритм\")\n",
    "ax.plot(xm, ym, 'ro', alpha=0.3, label=\"Модифицированный двойственный алгоритм\")\n",
    "ax.set_title(\"График зависимости времени работы алгоритма от количества требований в расписании\")\n",
    "ax.set_xlabel(\"Количество требований в расписании\")\n",
    "ax.set_ylabel(\"Время выполнения, сек\")\n",
    "ax.plot(x, poly(x, *popt), color='b', linewidth=5, alpha=0.3, label=\"Аппроксимация результатов д/а\")\n",
    "ax.plot(xm, poly(xm, *poptm), color='r', linewidth=5, alpha=0.3, label=\"Аппроксимация результатов м.д/а\")\n",
    "ax.legend()"
   ]
  },
  {
   "cell_type": "code",
   "execution_count": 97,
   "metadata": {},
   "outputs": [
    {
     "data": {
      "text/plain": [
       "array([1, 4, 9], dtype=int32)"
      ]
     },
     "execution_count": 97,
     "metadata": {},
     "output_type": "execute_result"
    }
   ],
   "source": [
    "np.power([1, 2, 3], 2)"
   ]
  },
  {
   "cell_type": "code",
   "execution_count": 62,
   "metadata": {},
   "outputs": [],
   "source": [
    "import numpy as np\n",
    "from scipy import optimize\n",
    "\n",
    "class Parameter:\n",
    "    def __init__(self, value):\n",
    "            self.value = value\n",
    "\n",
    "    def set(self, value):\n",
    "            self.value = value\n",
    "\n",
    "    def __call__(self):\n",
    "            return self.value\n",
    "\n",
    "def fit(function, parameters, y, x = None):\n",
    "    def f(params):\n",
    "        i = 0\n",
    "        for p in parameters:\n",
    "            p.set(params[i])\n",
    "            i += 1\n",
    "        return y - function(x)\n",
    "\n",
    "    if x is None: x = np.arange(y.shape[0])\n",
    "    p = [param() for param in parameters]\n",
    "    return optimize.leastsq(f, p)"
   ]
  },
  {
   "cell_type": "code",
   "execution_count": 82,
   "metadata": {},
   "outputs": [],
   "source": [
    "a = Parameter(10e-5)\n",
    "b = Parameter(0)\n",
    "c = Parameter(0)\n",
    "\n",
    "def poly(x):\n",
    "    return a()*x**2 + b()*x + c()"
   ]
  },
  {
   "cell_type": "code",
   "execution_count": 83,
   "metadata": {},
   "outputs": [],
   "source": [
    "def preobr(data):\n",
    "    x = np.array(list(map(lambda x: x.nDims, data)))\n",
    "    y = np.array(list(map(lambda x: x.get_mean_time(), data)))\n",
    "    return x, y\n",
    "\n",
    "x, y = preobr(results_modified)\n",
    "pars2, err = fit(poly, [a, b, c], y, x)"
   ]
  },
  {
   "cell_type": "code",
   "execution_count": 84,
   "metadata": {},
   "outputs": [
    {
     "data": {
      "text/plain": [
       "array([ 1.14053599e-06, -5.32004919e-04,  6.19265000e-01])"
      ]
     },
     "execution_count": 84,
     "metadata": {},
     "output_type": "execute_result"
    }
   ],
   "source": [
    "pars2"
   ]
  },
  {
   "cell_type": "code",
   "execution_count": null,
   "metadata": {},
   "outputs": [],
   "source": []
  },
  {
   "cell_type": "code",
   "execution_count": null,
   "metadata": {},
   "outputs": [],
   "source": []
  },
  {
   "cell_type": "markdown",
   "metadata": {},
   "source": [
    "## Выводы"
   ]
  },
  {
   "cell_type": "markdown",
   "metadata": {},
   "source": [
    "- Случайным образом сгенерирован набор примеров размерностью от 10 до 7500 требований с шагом в 100 требований. Для каждой размерности из данного диапазона было сгенерировано по 5 примеров.\n",
    "- Экспериментально доказана сложность \"двойственного\" алгоритма $O(n^2)$\n",
    "- Проверку корректности работы алгоритма провести не удалось (см. примечание к функции *bruteforce*)\n",
    "- В дальнейшем возможно улучшить данный эксперимент, используя многопроцессные вычисления и встроенные прекомпилированные функции python."
   ]
  }
 ],
 "metadata": {
  "kernelspec": {
   "display_name": "Python 3",
   "language": "python",
   "name": "python3"
  },
  "language_info": {
   "codemirror_mode": {
    "name": "ipython",
    "version": 3
   },
   "file_extension": ".py",
   "mimetype": "text/x-python",
   "name": "python",
   "nbconvert_exporter": "python",
   "pygments_lexer": "ipython3",
   "version": "3.7.1"
  }
 },
 "nbformat": 4,
 "nbformat_minor": 2
}
