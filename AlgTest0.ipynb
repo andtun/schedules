{
 "cells": [
  {
   "cell_type": "markdown",
   "metadata": {},
   "source": [
    "# Исследование эффективности \"двойственного\" алгоритма \n",
    "### Решение \"двойственной\" задачи к задаче минимизации максимального штрафа\n",
    "\n",
    "## Код алгоритма"
   ]
  },
  {
   "cell_type": "code",
   "execution_count": 55,
   "metadata": {},
   "outputs": [],
   "source": [
    "import random\n",
    "import pickle\n",
    "import threading\n",
    "import numpy as np\n",
    "import matplotlib.pyplot as plt\n",
    "from itertools import permutations\n",
    "from scipy.optimize import curve_fit\n",
    "from multiprocessing.pool import ThreadPool"
   ]
  },
  {
   "cell_type": "markdown",
   "metadata": {},
   "source": [
    "Класс для одного требования. **Расписание**, таким образом, -- список объектов класса `Task`\n",
    "\n",
    "*Прим. к генерации значений* (см docstring класса `Task`):<br>\n",
    "Как следует из теорем *1.1* и *1.4*, даже несмотря на наличие примеров с d<sub>j</sub> < r<sub>j</sub>, существует эквивалентный сгенерированному пример с d<sub>j</sub> > r<sub>j</sub>. Тем не менее, для выполнения условия достаточно задать параметр `NNTS=True` (NNTS - non-negative time slack)"
   ]
  },
  {
   "cell_type": "code",
   "execution_count": 56,
   "metadata": {},
   "outputs": [],
   "source": [
    "class Task:\n",
    "    \"\"\"\n",
    "    A class for a single task.\n",
    "    \n",
    "    Init parameters:\n",
    "        rMin, rMax -- recievement time limits\n",
    "        pMin, pMax -- process time limits\n",
    "        dMin, dMax -- due date limits\n",
    "        \n",
    "    For each task the recievement time, process time and due date\n",
    "    are calculated randomly (uniform distribution) between given limits.\n",
    "    Default limit values are in the code below.\n",
    "    \n",
    "    Additional parameters:\n",
    "        phi -- the loss function for this particular task.\n",
    "        By default returns its argument without changing it\n",
    "    \"\"\"\n",
    "    r = 0\n",
    "    p = 0\n",
    "    d = 0\n",
    "    phi = None\n",
    "            \n",
    "    def gen_r(self, rMin, rMax):\n",
    "        self.r = int(random.uniform(rMin, rMax))\n",
    "        \n",
    "    def gen_p(self, pMin, pMax):\n",
    "        self.p = int(random.uniform(pMin, pMax))\n",
    "        \n",
    "    def gen_d(self, dMin, dMax):\n",
    "        self.d = int(random.uniform(dMin, dMax))\n",
    "    \n",
    "    def __init__(self,\n",
    "                 NNTS=False,\n",
    "                 rMin = 1,\n",
    "                 rMax = 100,\n",
    "                 pMin = 1,\n",
    "                 pMax = 100,\n",
    "                 dMin = 1,\n",
    "                 dMax = 200,\n",
    "                 dDelta = 100,\n",
    "                 **kwargs):\n",
    "        self.gen_r(rMin, rMax)\n",
    "        self.gen_p(pMin, pMax)\n",
    "        if NNTS:\n",
    "            dMin = self.r + self.p\n",
    "            dMax = dMin + dDelta\n",
    "        self.gen_d(dMin, dMax)\n",
    "        self.phi = kwargs.get('phi', lambda x: x)\n",
    "        \n",
    "    def show(self):\n",
    "        print(\"r =\", self.r, \"| p =\", self.p, \"| d =\", self.d)\n",
    "        \n",
    "    @staticmethod\n",
    "    def show_all(tasks):\n",
    "        \"\"\"\n",
    "        Show r, p, d for each task from the 'tasks' list \n",
    "        \"\"\"\n",
    "        print(\" r\", \"p\", \"d\", sep=' | ', end='\\n\\n')\n",
    "        for task in tasks:\n",
    "            print(task.r, task.p, task.d, sep=' | ')\n",
    "    \n",
    "    @staticmethod\n",
    "    def generate_multiple(nTasks, NNTS=False, **kwargs):\n",
    "        \"\"\"\n",
    "        Generate multiple tasks.\n",
    "        \n",
    "        Parameters:\n",
    "            nTasks - the number of tasks to generate\n",
    "            NNTS - (bool) whether to use NNTS or not\n",
    "        \n",
    "        **kwargs parameters (see Task class docstring):\n",
    "            rMin, rMax -- recievement time limits\n",
    "            pMin, pMax -- process time limits\n",
    "            dMin, dMax -- due date limits\n",
    "            phi -- the loss function for this particular task.\n",
    "            By default returns its argument without changing it\n",
    "        \"\"\"\n",
    "        return list(Task(NNTS=NNTS, **kwargs) for i in range(nTasks))"
   ]
  },
  {
   "cell_type": "markdown",
   "metadata": {},
   "source": [
    "Функция для расчета времени **окончания обслуживания** и **функция потерь** (см. docstring к функциям)"
   ]
  },
  {
   "cell_type": "code",
   "execution_count": 57,
   "metadata": {},
   "outputs": [],
   "source": [
    "def C(pi, j=None):\n",
    "    \"\"\"\n",
    "    Returns the completion time of task number j in schedule pi\n",
    "    \"\"\"\n",
    "    t = 0\n",
    "    for task in pi[:j]:\n",
    "        if t < task.r:\n",
    "            t = task.r\n",
    "        t += task.p\n",
    "    return t\n",
    "\n",
    "def phi(pi, j=None):\n",
    "    \"\"\"\n",
    "    Returns the phi value of task number j in schedule pi.\n",
    "    Uses the task`s own phi function\n",
    "    \"\"\"\n",
    "    t = j or 0\n",
    "    return pi[t].phi(C(pi, j))"
   ]
  },
  {
   "cell_type": "markdown",
   "metadata": {},
   "source": [
    "Стандартный \"двойственный\" алгоритм (№2.4 на с.117 монографии). Принимает список требований и возвращает оптимальное расписание"
   ]
  },
  {
   "cell_type": "code",
   "execution_count": 58,
   "metadata": {},
   "outputs": [],
   "source": [
    "def dual_standard(tasks):\n",
    "    \"\"\"\n",
    "    Returns optimal schedule, the k value and max value of phi\n",
    "    \"\"\"\n",
    "    \n",
    "    def create_pi_k(pi, k):\n",
    "        pi_k = pi.copy()\n",
    "        pi_k.append(pi_k.pop(k))\n",
    "        return pi_k\n",
    "    \n",
    "    maxPhi = phi(tasks)\n",
    "    maxK = -1\n",
    "    \n",
    "    sortedTasks = sorted(tasks, key=lambda x: x.r)\n",
    "    for k, task in enumerate(sortedTasks):\n",
    "        pi_k = create_pi_k(sortedTasks, k)\n",
    "        phi_k = phi(pi_k)\n",
    "        if phi_k > maxPhi:\n",
    "            maxPhi = phi_k\n",
    "            maxK = k\n",
    "    return create_pi_k(sortedTasks, maxK), maxK, maxPhi"
   ]
  },
  {
   "cell_type": "markdown",
   "metadata": {},
   "source": [
    "Модифицированный двойственный алгоритм (№1 на с.4 статьи). Принимает список требований и возвращает оптимальное расписание"
   ]
  },
  {
   "cell_type": "code",
   "execution_count": 59,
   "metadata": {},
   "outputs": [],
   "source": [
    "def dual_modified(tasks):\n",
    "    \"\"\"\n",
    "    Returns optimal schedule, the k value and max value of phi\n",
    "    \"\"\"\n",
    "    \n",
    "    def create_B(tasks, k):\n",
    "        return tasks.copy()[k+1:]\n",
    "    \n",
    "    def argmin(tasks):\n",
    "        return min(enumerate(tasks), key=lambda x: x[1].r)[0]\n",
    "    \n",
    "    def create_pi_k(sortedTasks, k, i_l):\n",
    "        pi_k = sortedTasks.copy()\n",
    "        task_l = pi_k.pop(i_l)\n",
    "        if i_l < k:\n",
    "            k -= 1\n",
    "        task_k = pi_k.pop(k)\n",
    "        return [task_l] + pi_k + [task_k]\n",
    "    \n",
    "    minPhi = phi(tasks)\n",
    "    minK = -1\n",
    "    bestPi = tasks\n",
    "    \n",
    "    sortedTasks = sorted(tasks, key=lambda x: x.r)\n",
    "    for k, task in enumerate(sortedTasks):\n",
    "        B = create_B(sortedTasks, k)\n",
    "        availableTasks = set(tasks) - set([task]) - set(B)\n",
    "        if availableTasks != set([]):\n",
    "            i_l = argmin(availableTasks)\n",
    "            pi_k = create_pi_k(sortedTasks, k, i_l)\n",
    "            phi_k = phi(pi_k)\n",
    "            if phi_k > minPhi:\n",
    "                minPhi = phi_k\n",
    "                bestPi = pi_k\n",
    "                minK = k\n",
    "    return bestPi, minK, minPhi\n",
    "            \n",
    "            "
   ]
  },
  {
   "cell_type": "markdown",
   "metadata": {},
   "source": [
    "## Тестирование эффективности по времени"
   ]
  },
  {
   "cell_type": "markdown",
   "metadata": {},
   "source": [
    "Класс для хранения информации о результатах тестирования **одного** расписания"
   ]
  },
  {
   "cell_type": "code",
   "execution_count": 6,
   "metadata": {},
   "outputs": [],
   "source": [
    "class Timing:\n",
    "    \"\"\"\n",
    "    Init parameters:\n",
    "        nDims -- number of tasks in a schedule\n",
    "        timings -- all timing results\n",
    "        \n",
    "    get_mean_time method calculates the mean value of all\n",
    "    measured timings\n",
    "    \"\"\"\n",
    "    nDims = 0\n",
    "    timings = []\n",
    "    \n",
    "    def __init__(self, nDims, timings):\n",
    "        self.nDims = nDims\n",
    "        self.timings = timings\n",
    "        \n",
    "    def get_mean_time(self):\n",
    "        return np.mean(self.timings)"
   ]
  },
  {
   "cell_type": "markdown",
   "metadata": {},
   "source": [
    "Функция тестирования быстродействия заданного алгоритма"
   ]
  },
  {
   "cell_type": "code",
   "execution_count": 7,
   "metadata": {},
   "outputs": [],
   "source": [
    "def test_time(create_optimal_pi,\n",
    "             minDim=10,\n",
    "             maxDim=7510,\n",
    "             step=500,\n",
    "             nExamples=8,\n",
    "             **kwargs):\n",
    "    \"\"\"\n",
    "    Test the performance of the given algorithm on randomly generated sets of jobs.\n",
    "    \n",
    "    Parameters:\n",
    "        create_optimal_pi -- the algorithm to test\n",
    "        minDim -- ...\n",
    "        maxDim -- ...\n",
    "        step -- ...\n",
    "        nExamples -- the number of tasks generated for each number of jobs\n",
    "        **kwargs -- kwargs for task list generation\n",
    "    \"\"\"\n",
    "    taskList = [Task.generate_multiple(n, **kwargs)\n",
    "                for n in range(minDim, maxDim, step)\n",
    "                for i in range(nExamples)]\n",
    "    results = []\n",
    "    for i, tasks in enumerate(taskList):\n",
    "        print(i+1, \"out of\", len(taskList), \"\\r\", end='')\n",
    "        t = %timeit -q -o -r 5 create_optimal_pi(tasks)\n",
    "        results.append(Timing(len(tasks), t.timings))\n",
    "    return results"
   ]
  },
  {
   "cell_type": "markdown",
   "metadata": {},
   "source": [
    "Cериализация"
   ]
  },
  {
   "cell_type": "code",
   "execution_count": 8,
   "metadata": {},
   "outputs": [],
   "source": [
    "def deserialize(filename):\n",
    "    with open(filename, 'rb') as f:\n",
    "        obj = pickle.load(f)\n",
    "    return obj\n",
    "\n",
    "def serialize(obj, filename):\n",
    "    with open(filename, 'wb') as f:\n",
    "        pickle.dump(obj, f)"
   ]
  },
  {
   "cell_type": "markdown",
   "metadata": {},
   "source": [
    "Тестирование и запись объектов класса `Timing` в списки `results`. Сериализация полученных результатов для каждого алгоритма"
   ]
  },
  {
   "cell_type": "code",
   "execution_count": 9,
   "metadata": {},
   "outputs": [],
   "source": [
    "def multithread_test(alg):\n",
    "    if alg == 'dual_standard':\n",
    "        results_standard = test_time(dual_standard, NNTS=True)\n",
    "        serialize(results_standard, 'rsmlt.pkl')\n",
    "    elif alg == 'dual_modified':\n",
    "        results_modified = test_time(dual_modified, NNTS=True)\n",
    "        serialize(results_modified, 'rmmlt.pkl')"
   ]
  },
  {
   "cell_type": "code",
   "execution_count": 41,
   "metadata": {},
   "outputs": [
    {
     "name": "stdout",
     "output_type": "stream",
     "text": [
      "120 out of 120     120  \r"
     ]
    }
   ],
   "source": [
    "with ThreadPool(2) as pool:\n",
    "    pool.map(multithread_test, ['dual_standard', 'dual_modified'])"
   ]
  },
  {
   "cell_type": "markdown",
   "metadata": {},
   "source": [
    "Десериализация результатов в соответствующие переменные"
   ]
  },
  {
   "cell_type": "code",
   "execution_count": 42,
   "metadata": {},
   "outputs": [],
   "source": [
    "results_standard = deserialize('rsmlt.pkl')\n",
    "results_modified = deserialize('rmmlt.pkl')"
   ]
  },
  {
   "cell_type": "markdown",
   "metadata": {},
   "source": [
    "## График и аппроксимация"
   ]
  },
  {
   "cell_type": "markdown",
   "metadata": {},
   "source": [
    "Функция, которой будут аппроксимированы экспериментальные точки"
   ]
  },
  {
   "cell_type": "code",
   "execution_count": 155,
   "metadata": {},
   "outputs": [],
   "source": [
    "def poly(x, A, p):\n",
    "    return A*np.power(x, p)"
   ]
  },
  {
   "cell_type": "markdown",
   "metadata": {},
   "source": [
    "Аппроксимация"
   ]
  },
  {
   "cell_type": "code",
   "execution_count": 156,
   "metadata": {},
   "outputs": [],
   "source": [
    "def fit(p, fit_func):\n",
    "    x = np.array(list(map(lambda x: x.nDims, p)))\n",
    "    y = np.array(list(map(lambda x: x.get_mean_time(), p)))\n",
    "    popt, pcov = curve_fit(fit_func, x, y)\n",
    "    perr = np.sqrt(np.diag(pcov))\n",
    "    return x, y, popt, pcov, perr"
   ]
  },
  {
   "cell_type": "code",
   "execution_count": 157,
   "metadata": {},
   "outputs": [],
   "source": [
    "x, y, popt, pcov, perr = fit(results_standard, fit_func=poly)\n",
    "xm, ym, poptm, pcovm, perrm = fit(results_modified, fit_func=poly)"
   ]
  },
  {
   "cell_type": "markdown",
   "metadata": {},
   "source": [
    "Построение итогового графика"
   ]
  },
  {
   "cell_type": "code",
   "execution_count": 164,
   "metadata": {},
   "outputs": [
    {
     "data": {
      "text/plain": [
       "<matplotlib.legend.Legend at 0x27c9e37acf8>"
      ]
     },
     "execution_count": 164,
     "metadata": {},
     "output_type": "execute_result"
    },
    {
     "data": {
      "image/png": "[encoded data removed]",
      "text/plain": [
       "<Figure size 720x432 with 1 Axes>"
      ]
     },
     "metadata": {
      "needs_background": "light"
     },
     "output_type": "display_data"
    }
   ],
   "source": [
    "fig = plt.figure(figsize=(10, 6))\n",
    "ax = fig.add_subplot(111)\n",
    "ax.grid()\n",
    "ax.plot(x, y, 'bo', alpha=0.3, label=\"Двойственный алгоритм\")\n",
    "ax.plot(xm, ym, 'ro', alpha=0.3, label=\"Модифицированный двойственный алгоритм\")\n",
    "ax.set_title(\"График зависимости времени работы алгоритма от количества требований в расписании\")\n",
    "ax.set_xlabel(\"Количество требований в расписании\")\n",
    "ax.set_ylabel(\"Время выполнения, сек\")\n",
    "ax.plot(x, poly(x, *popt), color='b', linewidth=5, alpha=0.3,\n",
    "        label=\"Степень n: %.3f +- %.3f\" % (popt[1], perr[1]))\n",
    "ax.plot(xm, poly(xm, *poptm), color='r', linewidth=5, alpha=0.3,\n",
    "        label=\"Степень n: %.3f +- %.3f\" % (poptm[1], perrm[1]))\n",
    "ax.legend()"
   ]
  },
  {
   "cell_type": "code",
   "execution_count": 95,
   "metadata": {},
   "outputs": [],
   "source": [
    "results = {}"
   ]
  },
  {
   "cell_type": "code",
   "execution_count": 96,
   "metadata": {},
   "outputs": [],
   "source": [
    "class Stat:\n",
    "    \n",
    "    def __init__(self):\n",
    "        self.pi = 0\n",
    "        self.k = 0\n",
    "        self.phi = 0\n",
    "        self.total = 0\n",
    "        \n",
    "    def add_data(self, pi, pi_m,\n",
    "                k, k_m,\n",
    "                phi, phi_m):\n",
    "        if pi == pi_m:\n",
    "            self.pi += 1\n",
    "        if k == k_m:\n",
    "            self.k += 1\n",
    "        if phi == phi_m:\n",
    "            self.phi += 1\n",
    "        self.total += 1\n",
    "\n",
    "def test(tasks):\n",
    "    nTasks = len(tasks)\n",
    "    if nTasks not in results.keys():\n",
    "        results[nTasks] = Stat()\n",
    "    pi, k, phi = dual_standard(tasks)\n",
    "    pi_m, k_m, phi_m = dual_modified(tasks)\n",
    "    results[nTasks].add_data(pi, pi_m,\n",
    "                            k, k_m,\n",
    "                            phi, phi_m)\n",
    "    "
   ]
  },
  {
   "cell_type": "code",
   "execution_count": 97,
   "metadata": {},
   "outputs": [],
   "source": [
    "def test_answers(minDim=10,\n",
    "             maxDim=110,\n",
    "             step=10,\n",
    "             nExamples=100,\n",
    "             **kwargs):\n",
    "    results = {}\n",
    "    taskList = [Task.generate_multiple(n)\n",
    "                for n in range(minDim, maxDim, step)\n",
    "                for i in range(nExamples)]\n",
    "\n",
    "    for i, tasks in enumerate(taskList):\n",
    "        print(i+1, \"out of\", len(taskList), \"\\r\", end='')\n",
    "        test(tasks)\n",
    "    return results"
   ]
  },
  {
   "cell_type": "code",
   "execution_count": null,
   "metadata": {},
   "outputs": [],
   "source": [
    "\n",
    "fig = plt.figure(figsize=(10, 6))\n",
    "ax = fig.add_subplot(111)\n",
    "ax.grid()\n",
    "ax.plot(x, y, 'bo', alpha=0.3, label=\"Двойственный алгоритм\")\n",
    "ax.plot(xm, ym, 'ro', alpha=0.3, label=\"Модифицированный двойственный алгоритм\")\n",
    "ax.set_title(\"График зависимости времени работы алгоритма от количества требований в расписании\")\n",
    "ax.set_xlabel(\"Количество требований в расписании\")\n",
    "ax.set_ylabel(\"Время выполнения, сек\")\n",
    "ax.plot(x, poly(x, *popt), color='b', linewidth=5, alpha=0.3,\n",
    "        label=\"Степень n: %.3f +- %.3f\" % (popt[1], perr[1]))\n",
    "ax.plot(xm, poly(xm, *poptm), color='r', linewidth=5, alpha=0.3,\n",
    "        label=\"Степень n: %.3f +- %.3f\" % (poptm[1], perrm[1]))\n",
    "ax.legend()"
   ]
  },
  {
   "cell_type": "markdown",
   "metadata": {},
   "source": [
    "## Итоги и выводы"
   ]
  },
  {
   "cell_type": "markdown",
   "metadata": {},
   "source": [
    "- Случайным образом сгенерирован набор примеров размерностью от 10 до 7000 требований с шагом в 500 требований. Для каждой размерности из данного диапазона было сгенерировано по 8 примеров.\n",
    "- Примеры сгенерированы в соответствии с требованием NNTS (non-negative time slack): $d_j - r_j - p_j \\geq 0$ $\\forall j \\in N$.\n",
    "- Экспериментально доказана сложность **обеих версий** \"двойственного\" алгоритма $O(n^2)$.\n",
    "- Время проведения эксперимента уменьшено благодаря использованию многопоточных вычислений, которые дают выигрыш в производительности даже несмотря на [GIL](https://ru.wikipedia.org/wiki/Global_Interpreter_Lock)."
   ]
  }
 ],
 "metadata": {
  "kernelspec": {
   "display_name": "Python 3",
   "language": "python",
   "name": "python3"
  },
  "language_info": {
   "codemirror_mode": {
    "name": "ipython",
    "version": 3
   },
   "file_extension": ".py",
   "mimetype": "text/x-python",
   "name": "python",
   "nbconvert_exporter": "python",
   "pygments_lexer": "ipython3",
   "version": "3.7.1"
  }
 },
 "nbformat": 4,
 "nbformat_minor": 2
}
