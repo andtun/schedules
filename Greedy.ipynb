{
 "cells": [
  {
   "cell_type": "code",
   "execution_count": 44,
   "metadata": {},
   "outputs": [],
   "source": [
    "import json\n",
    "import time\n",
    "import glob\n",
    "import math\n",
    "import random\n",
    "import numpy as np\n",
    "import pandas as pd\n",
    "import matplotlib.pyplot as plt\n",
    "import numpy.polynomial.chebyshev as cheb\n",
    "from scipy.stats import moment\n",
    "from itertools import permutations\n",
    "from ipywidgets import IntProgress\n",
    "from IPython.display import display\n",
    "from IPython.display import clear_output\n"
   ]
  },
  {
   "cell_type": "code",
   "execution_count": 2,
   "metadata": {},
   "outputs": [],
   "source": [
    "timeout = 120\n",
    "LAMBDA = 0.01\n",
    "MU = 100\n",
    "SIGMA = 40\n",
    "VARK = 1\n",
    "\n",
    "def r(task):\n",
    "    ind = 0\n",
    "    if isinstance(task, TaskSet):\n",
    "        return task.array[ind]\n",
    "    return task[ind]\n",
    "\n",
    "def p(task):\n",
    "    ind = 1\n",
    "    if isinstance(task, TaskSet):\n",
    "        return task.array[ind]\n",
    "    return task[ind]\n",
    "\n",
    "def d(task):\n",
    "    ind = 2\n",
    "    if isinstance(task, TaskSet):\n",
    "        return task.array[ind]\n",
    "    return task[ind]\n",
    "\n",
    "def remove(arr, elem):\n",
    "    return np.delete(arr, np.where(np.in1d(arr, elem)))\n",
    "\n",
    "class TaskSet:\n",
    "    \n",
    "    def __init__(self, a):\n",
    "        if isinstance(a, int):\n",
    "            rs = np.cumsum(np.random.exponential(scale=1/LAMBDA, size=(a,)))\n",
    "            ps = np.clip(np.random.normal(MU, SIGMA, size=(a,)), a_min=0, a_max=None)\n",
    "            ds = [r + VARK*moment(ps, moment=2) for r in rs]\n",
    "            self.array = np.array([rs, ps, ds]).T.astype(float)\n",
    "        else:\n",
    "            self.array = np.copy(a)\n",
    "            \n",
    "    def __repr__(self):\n",
    "        return \"  r  |  p  |  d  \\n\" + str(self.array)\n",
    "    \n",
    "    def copy(self):\n",
    "        return TaskSet(self.array)\n",
    "    \n",
    "    def __getitem__(self, key):\n",
    "        return TaskSet(self.array[key])\n",
    "    \n",
    "    def __iter__(self):\n",
    "        return iter(self.array)\n",
    "    \n",
    "    def C(self, i, tau=0):\n",
    "        t = tau\n",
    "        for task in self.array[:i+1]:\n",
    "            if t < r(task): t = r(task)\n",
    "            t += p(task)\n",
    "        return t\n",
    "    \n",
    "    def C_max(self, tau=0):\n",
    "        t = tau\n",
    "        for task in self.array:\n",
    "            if t < r(task): t = r(task)\n",
    "            t += p(task)\n",
    "        return t\n",
    "    \n",
    "    def L(self, i=None, tau=0):\n",
    "        if i is None:\n",
    "            return self.C_max(tau) - d(self[-1])\n",
    "        return self.C(i, tau) - d(self[i])\n",
    "    \n",
    "    def L_max(self, tau=0):\n",
    "        if len(self) == 0: return float('inf')\n",
    "        return max([self.L(i, tau) for i, _ in enumerate(self)])\n",
    "    \n",
    "    def T(self, i=None, tau=0):\n",
    "        return max(0, self.L(i, tau))\n",
    "    \n",
    "    def T_max(self, tau=0):\n",
    "        return max(0, self.L_max(tau))\n",
    "    \n",
    "    def __len__(self):\n",
    "        return len(self.array)\n",
    "    \n",
    "    def __eq__(self, other):\n",
    "        return self.array == other\n",
    "    \n",
    "    def without(self, indexes):\n",
    "        return TaskSet(np.delete(self.array, np.array(indexes).astype(float), axis=0))\n",
    "    \n",
    "    def find(self, item):\n",
    "        return np.where((self.array == item).all(axis=1))[0]\n",
    "    \n",
    "    def transpose(self):\n",
    "        return self.array.T\n",
    "    \n",
    "    def scale_r(self, alpha):\n",
    "        self.array[:,0] = self.array[:,0]*alpha\n",
    "        return self\n",
    "    \n",
    "def dual(N, tau, B):\n",
    "    if len(N.without(B)) == 0: return float('inf')\n",
    "    pi_r = r(np.argsort(N, axis=0).transpose())\n",
    "    bestL = N[pi_r].L(tau=tau)\n",
    "    for i_k in pi_r:\n",
    "        toDrop = B.copy()\n",
    "        toDrop.append(i_k)\n",
    "        #print(toDrop)\n",
    "        s = N.without(toDrop)\n",
    "        #print(s)\n",
    "        if len(s) != 0:\n",
    "            task_l = min(s, key=r)\n",
    "            i_l = N.find(task_l)[0]\n",
    "            pi_k = remove(pi_r, [i_l, i_k])\n",
    "            pi_k = np.insert(pi_k, 0, i_l)\n",
    "            pi_k = np.append(pi_k, i_k)\n",
    "            L_k = N[pi_k].L(tau=tau)\n",
    "            if L_k < bestL:\n",
    "                bestL = L_k\n",
    "    additionalL = N[pi_r].L(i=0, tau=tau)\n",
    "    if additionalL > bestL:\n",
    "        bestL = additionalL\n",
    "    return bestL\n",
    "\n",
    "class Instance:\n",
    "    \n",
    "    def __init__(self, N, tau=0, pi=[], B=[]):\n",
    "        self.N = N.copy()\n",
    "        self.tau = tau\n",
    "        self.pi = pi.copy()\n",
    "        self.B = B.copy()\n",
    "        self.nu = dual(N, tau, B)\n",
    "        \n",
    "    def __getitem__(self, key):\n",
    "        return TaskSet(self.N.array[key])\n",
    "        \n",
    "    def best_job(self):\n",
    "        s = self.N.without(self.B)\n",
    "        sn = s[r(s.transpose()) <= self.tau]\n",
    "        if len(sn) == 0:\n",
    "            f = min(s, key=r)\n",
    "            #self.tau = r(f)\n",
    "            #self.nu = dual(self.N, self.tau, self.B)\n",
    "        else:\n",
    "            f = min(sn, key=d)\n",
    "        return self.N.find(f)[0]\n",
    "    \n",
    "    def L(self, i=None):\n",
    "        return self[self.pi].L(i, self.tau)\n",
    "    \n",
    "    def T(self, i=None):\n",
    "        return self[self.pi].T(i, self.tau)\n",
    "        \n",
    "    def L_max(self):\n",
    "        return self[self.pi].L_max(self.tau)\n",
    "    \n",
    "    def T_max(self):\n",
    "        return self[self.pi].T_max(self.tau)\n",
    "    \n",
    "    def __repr__(self):\n",
    "        return \"Instance:\\n\" + repr(self.N) + \"\\nnu  = \" + str(self.nu) + \"\\ntau = \" + str(self.tau) + \"\\npi  = \" + str(self.pi) + \"\\nB   = \" + str(self.B)\n",
    "    \n",
    "    \n",
    "def main(N, tau=0, verbose=False, modified=False):\n",
    "    tb = time.time()\n",
    "    b_counter = 0\n",
    "    #print(\"bi\")\n",
    "    instances = [Instance(N, tau)]\n",
    "    #print(\"ai\")\n",
    "    if modified: bestPi = list(range(len(N)))\n",
    "    else: bestPi = []\n",
    "    while len(instances) > 0:\n",
    "        ti = time.time()\n",
    "        if ti - tb > timeout:\n",
    "            return TaskSet([]), -1\n",
    "        bestInstanceIndex, bestInstance = min(enumerate(instances), key=lambda x: x[1].nu) # + N[x[1].pi].L_max(tau))\n",
    "        instances.pop(bestInstanceIndex)\n",
    "        f = bestInstance.best_job()\n",
    "        f_data = bestInstance[f]\n",
    "        N1 = bestInstance.N.without(f)\n",
    "        tau1 = max(r(f_data), bestInstance.tau) + p(f_data)\n",
    "        B1 = []\n",
    "        pi1 = bestInstance.pi.copy()\n",
    "        pi1.append(N.find(f_data)[0])\n",
    "        i1 = Instance(N1, tau1, pi1, B1)\n",
    "        N2 = bestInstance.N\n",
    "        tau2 = bestInstance.tau\n",
    "        B2 = bestInstance.B.copy()\n",
    "        B2.append(N2.find(f_data)[0]) #!\n",
    "        pi2 = bestInstance.pi\n",
    "        i2 = Instance(N2, tau2, pi2, B2)\n",
    "        instances += [i1, i2]\n",
    "        b_counter += 1\n",
    "        #print(i1)\n",
    "        if len(pi1) == len(N):\n",
    "            #print(N[bestPi].L_max(tau))\n",
    "            #print(pi1)\n",
    "            if N[pi1].L_max(tau) < N[bestPi].L_max(tau):\n",
    "                bestPi = pi1.copy()\n",
    "                if verbose: print(bestPi, '\\tLmax =', N[bestPi].L_max(tau))\n",
    "        #lb = len(instances)\n",
    "        instances = [i for i in instances if max(i.nu, N[i.pi].L_max(tau)) < N[bestPi].L_max(tau)]\n",
    "        #print(lb, len(instances))\n",
    "    return bestPi, b_counter\n",
    "        "
   ]
  },
  {
   "cell_type": "code",
   "execution_count": 3,
   "metadata": {},
   "outputs": [],
   "source": [
    "s = TaskSet(5)"
   ]
  },
  {
   "cell_type": "code",
   "execution_count": 4,
   "metadata": {},
   "outputs": [
    {
     "data": {
      "text/plain": [
       "  r  |  p  |  d  \n",
       "[[ 458.63485208   98.11207612 1605.24747327]\n",
       " [ 471.68737507  118.39197672 1618.29999627]\n",
       " [ 558.98002539  175.17819665 1705.59264658]\n",
       " [ 611.1042386    78.22590371 1757.71685979]\n",
       " [ 838.81774718   92.80040483 1985.43036837]]"
      ]
     },
     "execution_count": 4,
     "metadata": {},
     "output_type": "execute_result"
    }
   ],
   "source": [
    "s"
   ]
  },
  {
   "cell_type": "code",
   "execution_count": 5,
   "metadata": {},
   "outputs": [],
   "source": [
    "def greedy(s):\n",
    "    pi1 = []\n",
    "    pi2 = []\n",
    "    bestLmax = float('inf')\n",
    "\n",
    "    for j in range(len(s)):\n",
    "        for i in range(len(s)):\n",
    "            if i not in pi1 and i not in pi2:\n",
    "                tPi1 = pi1.copy()\n",
    "                tPi2 = pi2.copy()\n",
    "                tPi1.append(i)\n",
    "                tPi2.append(i)\n",
    "                if max(s[tPi1].L_max(), s[pi2].L_max()) < bestLmax:\n",
    "                    pi1 = tPi1.copy()\n",
    "                    bestLmax = max(s[tPi1].L_max(), s[pi2].L_max())\n",
    "                elif max(s[tPi2].L_max(), s[pi1].L_max()) < bestLmax:\n",
    "                    pi2 = tPi2.copy()\n",
    "                    bestLmax = max(s[tPi2].L_max(), s[pi1].L_max())\n",
    "                elif max(s[tPi1].L_max(), s[pi2].L_max()) > max(s[tPi2].L_max(), s[pi1].L_max()):\n",
    "                    pi2 = tPi2.copy()\n",
    "                    bestLmax = max(s[tPi2].L_max(), s[pi1].L_max())\n",
    "                else:\n",
    "                    pi1 = tPi1.copy()\n",
    "                    bestLmax = max(s[tPi1].L_max(), s[pi2].L_max())\n",
    "    return bestLmax, pi1, pi2\n"
   ]
  },
  {
   "cell_type": "code",
   "execution_count": 26,
   "metadata": {},
   "outputs": [],
   "source": [
    "def bruteforce(s):\n",
    "    bestPi1 = []\n",
    "    bestPi2 = []\n",
    "    pi = [i for i in range(len(s))]\n",
    "    bestLmax = float('inf')\n",
    "    for perm in permutations(pi):\n",
    "        for i in range(len(s)+1):\n",
    "            pi1 = perm[:i]\n",
    "            pi2 = perm[i:]\n",
    "            #print(pi1, pi2)\n",
    "            if len(pi1) == 0:\n",
    "                tLmax = s[list(pi2)].L_max()\n",
    "            elif len(pi2) == 0:\n",
    "                tLmax = s[list(pi1)].L_max()\n",
    "            else:\n",
    "                tLmax = max(s[list(pi1)].L_max(), s[list(pi2)].L_max())\n",
    "            if tLmax < bestLmax:\n",
    "                bestLmax = tLmax\n",
    "                bestPi1 = list(pi1).copy()\n",
    "                bestPi2 = list(pi2).copy()\n",
    "    return bestLmax, bestPi1, bestPi2"
   ]
  },
  {
   "cell_type": "code",
   "execution_count": 92,
   "metadata": {},
   "outputs": [],
   "source": [
    "def bruteforce(s):\n",
    "    bestPi1 = []\n",
    "    bestPi2 = []\n",
    "    pi = [i for i in range(len(s))]\n",
    "    perms = []\n",
    "    for i in range(len(s)+1):\n",
    "        pi1 = pi[:i]\n",
    "        pi2 = pi[i:]\n",
    "        perms.append([list(permutations(pi1)), list(permutations(pi2))])\n",
    "    bestLmax = float('inf')\n",
    "    print(perms)\n",
    "    for perm in perms:\n",
    "        for pi1 in perm[0]:\n",
    "            for pi2 in perm[1]:\n",
    "                if len(pi1) == 0:\n",
    "                    tLmax = s[list(pi2)].L_max()\n",
    "                elif len(pi2) == 0:\n",
    "                    tLmax = s[list(pi1)].L_max()\n",
    "                else:\n",
    "                    tLmax = max(s[list(pi1)].L_max(), s[list(pi2)].L_max())\n",
    "                if tLmax < bestLmax:\n",
    "                    bestLmax = tLmax\n",
    "                    bestPi1 = list(pi1).copy()\n",
    "                    bestPi2 = list(pi2).copy()\n",
    "    return bestLmax, bestPi1, bestPi2"
   ]
  },
  {
   "cell_type": "code",
   "execution_count": 72,
   "metadata": {},
   "outputs": [
    {
     "data": {
      "text/plain": [
       "-394.59196197125823"
      ]
     },
     "execution_count": 72,
     "metadata": {},
     "output_type": "execute_result"
    }
   ],
   "source": [
    "bestLmax"
   ]
  },
  {
   "cell_type": "code",
   "execution_count": 32,
   "metadata": {},
   "outputs": [],
   "source": [
    "res = []\n",
    "for i in range(100):\n",
    "    s = TaskSet(5)\n",
    "    gL = greedy(s)[0]\n",
    "    bL = bruteforce(s)[0]\n",
    "    #print(gL, bL)\n",
    "    if gL < bL: break"
   ]
  },
  {
   "cell_type": "code",
   "execution_count": 33,
   "metadata": {},
   "outputs": [
    {
     "data": {
      "text/plain": [
       "(-458.51079474166795, [0, 1, 3], [2, 4])"
      ]
     },
     "execution_count": 33,
     "metadata": {},
     "output_type": "execute_result"
    }
   ],
   "source": [
    "bruteforce(s)"
   ]
  },
  {
   "cell_type": "code",
   "execution_count": 34,
   "metadata": {},
   "outputs": [
    {
     "data": {
      "text/plain": [
       "(-458.51079474166795, [0, 2, 4], [1, 3])"
      ]
     },
     "execution_count": 34,
     "metadata": {},
     "output_type": "execute_result"
    }
   ],
   "source": [
    "greedy(s)"
   ]
  },
  {
   "cell_type": "code",
   "execution_count": 35,
   "metadata": {},
   "outputs": [
    {
     "data": {
      "application/vnd.jupyter.widget-view+json": {
       "model_id": "c059991ce3574ce084e65a6d8e1caa42",
       "version_major": 2,
       "version_minor": 0
      },
      "text/plain": [
       "IntProgress(value=0, max=1000)"
      ]
     },
     "metadata": {},
     "output_type": "display_data"
    }
   ],
   "source": [
    "N_TASKS = 1000\n",
    "results = []\n",
    "pBar = IntProgress(min=0, max=N_TASKS)\n",
    "display(pBar)\n",
    "for i in range(N_TASKS):\n",
    "    s = TaskSet(5)\n",
    "    gL = greedy(s)[0]\n",
    "    bL = bruteforce(s)[0]\n",
    "    if gL < bL: raise RuntimeError(\"Smth wrong with bruteforce\")\n",
    "    results.append(gL/bL)\n",
    "    pBar.value += 1"
   ]
  },
  {
   "cell_type": "code",
   "execution_count": 53,
   "metadata": {},
   "outputs": [
    {
     "name": "stdout",
     "output_type": "stream",
     "text": [
      "Средняя ошибка 'жадного' алгоритма: 0.79 %\n"
     ]
    }
   ],
   "source": [
    "print(\"Средняя ошибка 'жадного' алгоритма: %.2f\" % (np.mean(1 - np.array(results))*100), \"%\")"
   ]
  }
 ],
 "metadata": {
  "kernelspec": {
   "display_name": "Python 3",
   "language": "python",
   "name": "python3"
  },
  "language_info": {
   "codemirror_mode": {
    "name": "ipython",
    "version": 3
   },
   "file_extension": ".py",
   "mimetype": "text/x-python",
   "name": "python",
   "nbconvert_exporter": "python",
   "pygments_lexer": "ipython3",
   "version": "3.7.1"
  }
 },
 "nbformat": 4,
 "nbformat_minor": 2
}
